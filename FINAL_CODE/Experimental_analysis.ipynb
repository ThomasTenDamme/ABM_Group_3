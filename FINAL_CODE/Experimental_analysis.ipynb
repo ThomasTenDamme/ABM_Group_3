{
 "cells": [
  {
   "cell_type": "code",
   "execution_count": 3,
   "metadata": {},
   "outputs": [],
   "source": [
    "import numpy as np\n",
    "import matplotlib.pyplot as plt\n",
    "from collections import defaultdict\n",
    "import pandas as pd\n",
    "import seaborn as sns\n",
    "import warnings\n",
    "warnings.filterwarnings('ignore')\n",
    "\n",
    "from mesa.time import RandomActivation\n",
    "from mesa.space import SingleGrid\n",
    "from mesa.datacollection import DataCollector\n",
    "from mesa.batchrunner import batch_run\n",
    "import multiprocessing\n",
    "\n",
    "from scipy.stats import ttest_ind\n",
    "from scipy.stats import stats\n",
    "from statsmodels.stats.multicomp import pairwise_tukeyhsd\n",
    "\n",
    "import scipy.stats as stats\n",
    "import statsmodels.api as sm\n",
    "import statsmodels.formula.api as smf\n",
    "import seaborn as sns\n",
    "import matplotlib.pyplot as plt\n",
    "from statsmodels.stats.outliers_influence import variance_inflation_factor\n",
    "from scipy.stats import kruskal\n",
    "import scikit_posthocs as sp"
   ]
  },
  {
   "cell_type": "markdown",
   "metadata": {},
   "source": [
    "# Curve for preference of similar neighbours"
   ]
  },
  {
   "cell_type": "code",
   "execution_count": 4,
   "metadata": {},
   "outputs": [],
   "source": [
    "def get_theta(x, mu, sigma):\n",
    "    \"\"\"\n",
    "    x: fraction of similar neighbours\n",
    "    mu: optimal fraction of similar neighbours\n",
    "    sigma: acceptance range\n",
    "    \"\"\"\n",
    "    theta = np.exp(-((x - mu) ** 2) / (2 * sigma ** 2))\n",
    "    return theta"
   ]
  },
  {
   "cell_type": "code",
   "execution_count": 5,
   "metadata": {},
   "outputs": [
    {
     "data": {
      "image/png": "[encoded data removed]",
      "text/plain": [
       "<Figure size 640x480 with 1 Axes>"
      ]
     },
     "metadata": {},
     "output_type": "display_data"
    }
   ],
   "source": [
    "def gaussian_function(x, mu, sigma):\n",
    "    return np.exp(-((x - mu) ** 2) / (2 * sigma ** 2))\n",
    "\n",
    "# Example usage:\n",
    "x_values = np.linspace(0, 1, 100)\n",
    "mu = 0.8  # Controls the peak location\n",
    "sigma = 0.3  # Controls the width\n",
    "\n",
    "y_values = gaussian_function(x_values, mu, sigma)\n",
    "\n",
    "plt.plot(x_values, y_values, color = '#63d298ff')\n",
    "plt.xlabel('x')\n",
    "plt.ylabel('f(x)')\n",
    "plt.title(r'$\\theta$-Function with Peak at 0.8')\n",
    "plt.show()"
   ]
  },
  {
   "cell_type": "markdown",
   "metadata": {},
   "source": [
    "# Experiment"
   ]
  },
  {
   "cell_type": "code",
   "execution_count": 6,
   "metadata": {},
   "outputs": [],
   "source": [
    "from model import Schelling\n",
    "from modules import property_value_from_gdf, update_interested_agents_concurrently, property_value_func_random, utility_func, price_func, income_func, property_value_from_gdf, property_value_quadrants, desirability_func, compute_similar_neighbours, property_value_equal, calculate_gi_star, price_func_cap\n",
    "\n",
    "# Function for simulation using the Singapore policy\n",
    "def schelling_singapore(num_runs, num_steps, burn_in_period, minority_pc, property_value_weight, alpha, mu_theta, sigma_theta, density, policy = True):\n",
    "\n",
    "    # initialize storage for parameters\n",
    "    overall_desirability_entropy = []\n",
    "    overall_agent_entropy = []\n",
    "    overall_utility = []\n",
    "\n",
    "    # run the model several times for the same parameter setting \n",
    "    for run in range(num_runs):\n",
    "        print('I am in round', run)\n",
    "        \n",
    "        # initialize model\n",
    "        models = Schelling(\n",
    "            property_value_func=property_value_from_gdf, # quadrants,\n",
    "            income_func=income_func,\n",
    "            desirability_func=desirability_func,\n",
    "            utility_func=utility_func,\n",
    "            price_func=price_func,\n",
    "            compute_similar_neighbours=compute_similar_neighbours,\n",
    "            calculate_gi_star = calculate_gi_star,\n",
    "            update_interested_agents_func = update_interested_agents_concurrently,\n",
    "            price_func_cap=price_func_cap,\n",
    "            policy_singapore=policy,\n",
    "            #height=20,\n",
    "            #width=20,\n",
    "            radius=1,\n",
    "            density=density,\n",
    "            minority_pc=minority_pc,\n",
    "            alpha=alpha,\n",
    "            income_scale=1.5, # the scale by which the income is higher than the property value\n",
    "            property_value_weight=property_value_weight,\n",
    "            mu_theta = mu_theta,\n",
    "            sigma_theta = sigma_theta,\n",
    "            seed=41)\n",
    "\n",
    "        # Run the model for a certain number of steps\n",
    "        for _ in range(num_steps):\n",
    "            models.step()\n",
    "\n",
    "        # call necessary data collectors\n",
    "        agent_data = models.datacollector.get_agent_vars_dataframe()\n",
    "        model_data_entropy = models.datacollector.get_model_vars_dataframe()\n",
    "    \n",
    "        # Compute mean and standard deviation of entropies over time per run\n",
    "        desirability_entropy = model_data_entropy['Desirability entropy'].to_numpy()\n",
    "        mean_desirability_entropy = np.mean(np.array(desirability_entropy[burn_in_period::]))\n",
    "        \n",
    "        agent_entropy = model_data_entropy['Agent entropy'].to_numpy()\n",
    "        mean_agent_entropy = np.mean(np.array(agent_entropy[burn_in_period::]))\n",
    "        # print(agent_entropy)\n",
    "        \n",
    "        # Compute mean and standard deviation of utility per time step over each agent \n",
    "        utility_mean = agent_data.groupby(level='Step')['Utility'].mean()\n",
    "        utility_std = agent_data.groupby(level='Step')['Utility'].std()\n",
    "        \n",
    "        # Compute mean and standard deviation of utility over time \n",
    "        utility_mean = pd.DataFrame(utility_mean).to_numpy()\n",
    "        utility_std = pd.DataFrame(utility_std).to_numpy()\n",
    "        mean_utility_interim = np.mean(utility_mean[burn_in_period::])\n",
    "\n",
    "        # Append all results to storage\n",
    "        overall_desirability_entropy.append(mean_desirability_entropy)\n",
    "        overall_agent_entropy.append(mean_agent_entropy)\n",
    "        overall_utility.append(mean_utility_interim)\n",
    "\n",
    "    return np.array(overall_desirability_entropy), np.array(overall_agent_entropy), np.array(overall_utility)"
   ]
  },
  {
   "cell_type": "markdown",
   "metadata": {},
   "source": [
    "# Singapore experiment"
   ]
  },
  {
   "cell_type": "code",
   "execution_count": 7,
   "metadata": {},
   "outputs": [
    {
     "name": "stderr",
     "output_type": "stream",
     "text": [
      "Skipping field color: unsupported OGR type: 3\n"
     ]
    },
    {
     "name": "stdout",
     "output_type": "stream",
     "text": [
      "I am in round 0\n"
     ]
    },
    {
     "name": "stderr",
     "output_type": "stream",
     "text": [
      "Skipping field color: unsupported OGR type: 3\n"
     ]
    },
    {
     "name": "stdout",
     "output_type": "stream",
     "text": [
      "I am in round 1\n"
     ]
    },
    {
     "name": "stderr",
     "output_type": "stream",
     "text": [
      "Skipping field color: unsupported OGR type: 3\n"
     ]
    },
    {
     "name": "stdout",
     "output_type": "stream",
     "text": [
      "I am in round 2\n"
     ]
    },
    {
     "ename": "KeyboardInterrupt",
     "evalue": "",
     "output_type": "error",
     "traceback": [
      "\u001b[0;31m---------------------------------------------------------------------------\u001b[0m",
      "\u001b[0;31mKeyboardInterrupt\u001b[0m                         Traceback (most recent call last)",
      "Cell \u001b[0;32mIn[7], line 15\u001b[0m\n\u001b[1;32m     12\u001b[0m sigma \u001b[38;5;241m=\u001b[39m \u001b[38;5;241m0.3\u001b[39m\n\u001b[1;32m     14\u001b[0m \u001b[38;5;66;03m# Run simulation\u001b[39;00m\n\u001b[0;32m---> 15\u001b[0m singapore_policy_effect \u001b[38;5;241m=\u001b[39m \u001b[43mschelling_singapore\u001b[49m\u001b[43m(\u001b[49m\u001b[43mnum_iters\u001b[49m\u001b[43m,\u001b[49m\u001b[43m \u001b[49m\u001b[43mmodel_steps\u001b[49m\u001b[43m,\u001b[49m\u001b[43m \u001b[49m\u001b[43mburn_in_period\u001b[49m\u001b[43m,\u001b[49m\u001b[43m \u001b[49m\u001b[43mminority\u001b[49m\u001b[43m,\u001b[49m\u001b[43m \u001b[49m\u001b[43mproperty_value_weight\u001b[49m\u001b[43m,\u001b[49m\u001b[43m \u001b[49m\u001b[43malpha\u001b[49m\u001b[43m,\u001b[49m\u001b[43m \u001b[49m\u001b[43mmu\u001b[49m\u001b[43m,\u001b[49m\u001b[43m \u001b[49m\u001b[43msigma\u001b[49m\u001b[43m,\u001b[49m\u001b[43m \u001b[49m\u001b[43mdensity\u001b[49m\u001b[43m)\u001b[49m\n",
      "Cell \u001b[0;32mIn[6], line 42\u001b[0m, in \u001b[0;36mschelling_singapore\u001b[0;34m(num_runs, num_steps, burn_in_period, minority_pc, property_value_weight, alpha, mu_theta, sigma_theta, density, policy)\u001b[0m\n\u001b[1;32m     40\u001b[0m \u001b[38;5;66;03m# Run the model for a certain number of steps\u001b[39;00m\n\u001b[1;32m     41\u001b[0m \u001b[38;5;28;01mfor\u001b[39;00m _ \u001b[38;5;129;01min\u001b[39;00m \u001b[38;5;28mrange\u001b[39m(num_steps):\n\u001b[0;32m---> 42\u001b[0m     \u001b[43mmodels\u001b[49m\u001b[38;5;241;43m.\u001b[39;49m\u001b[43mstep\u001b[49m\u001b[43m(\u001b[49m\u001b[43m)\u001b[49m\n\u001b[1;32m     44\u001b[0m \u001b[38;5;66;03m# call necessary data collectors\u001b[39;00m\n\u001b[1;32m     45\u001b[0m agent_data \u001b[38;5;241m=\u001b[39m models\u001b[38;5;241m.\u001b[39mdatacollector\u001b[38;5;241m.\u001b[39mget_agent_vars_dataframe()\n",
      "File \u001b[0;32m~/Desktop/FINAL_CODE/model.py:363\u001b[0m, in \u001b[0;36mSchelling.step\u001b[0;34m(self)\u001b[0m\n\u001b[1;32m    358\u001b[0m t \u001b[38;5;241m=\u001b[39m time\u001b[38;5;241m.\u001b[39mtime()\n\u001b[1;32m    359\u001b[0m \u001b[38;5;66;03m# add it to entropy layer for desirability\u001b[39;00m\n\u001b[1;32m    360\u001b[0m \n\u001b[1;32m    361\u001b[0m \u001b[38;5;66;03m############################\u001b[39;00m\n\u001b[0;32m--> 363\u001b[0m \u001b[38;5;28;43mself\u001b[39;49m\u001b[38;5;241;43m.\u001b[39;49m\u001b[43mschedule\u001b[49m\u001b[38;5;241;43m.\u001b[39;49m\u001b[43mstep\u001b[49m\u001b[43m(\u001b[49m\u001b[43m)\u001b[49m\n\u001b[1;32m    365\u001b[0m \u001b[38;5;28mself\u001b[39m\u001b[38;5;241m.\u001b[39mtimings[\u001b[38;5;124m\"\u001b[39m\u001b[38;5;124mAgent Step\u001b[39m\u001b[38;5;124m\"\u001b[39m]\u001b[38;5;241m.\u001b[39mappend(time\u001b[38;5;241m.\u001b[39mtime() \u001b[38;5;241m-\u001b[39m t)\n\u001b[1;32m    366\u001b[0m t \u001b[38;5;241m=\u001b[39m time\u001b[38;5;241m.\u001b[39mtime()\n",
      "File \u001b[0;32m~/anaconda3/lib/python3.10/site-packages/mesa/time.py:120\u001b[0m, in \u001b[0;36mBaseScheduler._wrapped_step\u001b[0;34m(self)\u001b[0m\n\u001b[1;32m    118\u001b[0m \u001b[38;5;28;01mdef\u001b[39;00m \u001b[38;5;21m_wrapped_step\u001b[39m(\u001b[38;5;28mself\u001b[39m):\n\u001b[1;32m    119\u001b[0m \u001b[38;5;250m    \u001b[39m\u001b[38;5;124;03m\"\"\"Wrapper for the step method to include time and step updating.\"\"\"\u001b[39;00m\n\u001b[0;32m--> 120\u001b[0m     \u001b[38;5;28;43mself\u001b[39;49m\u001b[38;5;241;43m.\u001b[39;49m\u001b[43m_original_step\u001b[49m\u001b[43m(\u001b[49m\u001b[43m)\u001b[49m\n\u001b[1;32m    121\u001b[0m     \u001b[38;5;28mself\u001b[39m\u001b[38;5;241m.\u001b[39mmodel\u001b[38;5;241m.\u001b[39m_advance_time()\n",
      "File \u001b[0;32m~/anaconda3/lib/python3.10/site-packages/mesa/time.py:176\u001b[0m, in \u001b[0;36mRandomActivation.step\u001b[0;34m(self)\u001b[0m\n\u001b[1;32m    171\u001b[0m \u001b[38;5;28;01mdef\u001b[39;00m \u001b[38;5;21mstep\u001b[39m(\u001b[38;5;28mself\u001b[39m) \u001b[38;5;241m-\u001b[39m\u001b[38;5;241m>\u001b[39m \u001b[38;5;28;01mNone\u001b[39;00m:\n\u001b[1;32m    172\u001b[0m \u001b[38;5;250m    \u001b[39m\u001b[38;5;124;03m\"\"\"Executes the step of all agents, one at a time, in\u001b[39;00m\n\u001b[1;32m    173\u001b[0m \u001b[38;5;124;03m    random order.\u001b[39;00m\n\u001b[1;32m    174\u001b[0m \n\u001b[1;32m    175\u001b[0m \u001b[38;5;124;03m    \"\"\"\u001b[39;00m\n\u001b[0;32m--> 176\u001b[0m     \u001b[38;5;28;43mself\u001b[39;49m\u001b[38;5;241;43m.\u001b[39;49m\u001b[43mdo_each\u001b[49m\u001b[43m(\u001b[49m\u001b[38;5;124;43m\"\u001b[39;49m\u001b[38;5;124;43mstep\u001b[39;49m\u001b[38;5;124;43m\"\u001b[39;49m\u001b[43m,\u001b[49m\u001b[43m \u001b[49m\u001b[43mshuffle\u001b[49m\u001b[38;5;241;43m=\u001b[39;49m\u001b[38;5;28;43;01mTrue\u001b[39;49;00m\u001b[43m)\u001b[49m\n\u001b[1;32m    177\u001b[0m     \u001b[38;5;28mself\u001b[39m\u001b[38;5;241m.\u001b[39msteps \u001b[38;5;241m+\u001b[39m\u001b[38;5;241m=\u001b[39m \u001b[38;5;241m1\u001b[39m\n\u001b[1;32m    178\u001b[0m     \u001b[38;5;28mself\u001b[39m\u001b[38;5;241m.\u001b[39mtime \u001b[38;5;241m+\u001b[39m\u001b[38;5;241m=\u001b[39m \u001b[38;5;241m1\u001b[39m\n",
      "File \u001b[0;32m~/anaconda3/lib/python3.10/site-packages/mesa/time.py:152\u001b[0m, in \u001b[0;36mBaseScheduler.do_each\u001b[0;34m(self, method, shuffle)\u001b[0m\n\u001b[1;32m    150\u001b[0m \u001b[38;5;28;01mif\u001b[39;00m shuffle:\n\u001b[1;32m    151\u001b[0m     \u001b[38;5;28mself\u001b[39m\u001b[38;5;241m.\u001b[39m_agents\u001b[38;5;241m.\u001b[39mshuffle(inplace\u001b[38;5;241m=\u001b[39m\u001b[38;5;28;01mTrue\u001b[39;00m)\n\u001b[0;32m--> 152\u001b[0m \u001b[38;5;28;43mself\u001b[39;49m\u001b[38;5;241;43m.\u001b[39;49m\u001b[43m_agents\u001b[49m\u001b[38;5;241;43m.\u001b[39;49m\u001b[43mdo\u001b[49m\u001b[43m(\u001b[49m\u001b[43mmethod\u001b[49m\u001b[43m)\u001b[49m\n",
      "File \u001b[0;32m~/anaconda3/lib/python3.10/site-packages/mesa/agent.py:245\u001b[0m, in \u001b[0;36mAgentSet.do\u001b[0;34m(self, method_name, return_results, *args, **kwargs)\u001b[0m\n\u001b[1;32m    232\u001b[0m \u001b[38;5;250m\u001b[39m\u001b[38;5;124;03m\"\"\"\u001b[39;00m\n\u001b[1;32m    233\u001b[0m \u001b[38;5;124;03mInvoke a method on each agent in the AgentSet.\u001b[39;00m\n\u001b[1;32m    234\u001b[0m \n\u001b[0;32m   (...)\u001b[0m\n\u001b[1;32m    242\u001b[0m \u001b[38;5;124;03m    AgentSet | list[Any]: The results of the method calls if return_results is True, otherwise the AgentSet itself.\u001b[39;00m\n\u001b[1;32m    243\u001b[0m \u001b[38;5;124;03m\"\"\"\u001b[39;00m\n\u001b[1;32m    244\u001b[0m \u001b[38;5;66;03m# we iterate over the actual weakref keys and check if weakref is alive before calling the method\u001b[39;00m\n\u001b[0;32m--> 245\u001b[0m res \u001b[38;5;241m=\u001b[39m [\n\u001b[1;32m    246\u001b[0m     \u001b[38;5;28mgetattr\u001b[39m(agent, method_name)(\u001b[38;5;241m*\u001b[39margs, \u001b[38;5;241m*\u001b[39m\u001b[38;5;241m*\u001b[39mkwargs)\n\u001b[1;32m    247\u001b[0m     \u001b[38;5;28;01mfor\u001b[39;00m agentref \u001b[38;5;129;01min\u001b[39;00m \u001b[38;5;28mself\u001b[39m\u001b[38;5;241m.\u001b[39m_agents\u001b[38;5;241m.\u001b[39mkeyrefs()\n\u001b[1;32m    248\u001b[0m     \u001b[38;5;28;01mif\u001b[39;00m (agent \u001b[38;5;241m:=\u001b[39m agentref()) \u001b[38;5;129;01mis\u001b[39;00m \u001b[38;5;129;01mnot\u001b[39;00m \u001b[38;5;28;01mNone\u001b[39;00m\n\u001b[1;32m    249\u001b[0m ]\n\u001b[1;32m    251\u001b[0m \u001b[38;5;28;01mreturn\u001b[39;00m res \u001b[38;5;28;01mif\u001b[39;00m return_results \u001b[38;5;28;01melse\u001b[39;00m \u001b[38;5;28mself\u001b[39m\n",
      "File \u001b[0;32m~/anaconda3/lib/python3.10/site-packages/mesa/agent.py:246\u001b[0m, in \u001b[0;36m<listcomp>\u001b[0;34m(.0)\u001b[0m\n\u001b[1;32m    232\u001b[0m \u001b[38;5;250m\u001b[39m\u001b[38;5;124;03m\"\"\"\u001b[39;00m\n\u001b[1;32m    233\u001b[0m \u001b[38;5;124;03mInvoke a method on each agent in the AgentSet.\u001b[39;00m\n\u001b[1;32m    234\u001b[0m \n\u001b[0;32m   (...)\u001b[0m\n\u001b[1;32m    242\u001b[0m \u001b[38;5;124;03m    AgentSet | list[Any]: The results of the method calls if return_results is True, otherwise the AgentSet itself.\u001b[39;00m\n\u001b[1;32m    243\u001b[0m \u001b[38;5;124;03m\"\"\"\u001b[39;00m\n\u001b[1;32m    244\u001b[0m \u001b[38;5;66;03m# we iterate over the actual weakref keys and check if weakref is alive before calling the method\u001b[39;00m\n\u001b[1;32m    245\u001b[0m res \u001b[38;5;241m=\u001b[39m [\n\u001b[0;32m--> 246\u001b[0m     \u001b[38;5;28;43mgetattr\u001b[39;49m\u001b[43m(\u001b[49m\u001b[43magent\u001b[49m\u001b[43m,\u001b[49m\u001b[43m \u001b[49m\u001b[43mmethod_name\u001b[49m\u001b[43m)\u001b[49m\u001b[43m(\u001b[49m\u001b[38;5;241;43m*\u001b[39;49m\u001b[43margs\u001b[49m\u001b[43m,\u001b[49m\u001b[43m \u001b[49m\u001b[38;5;241;43m*\u001b[39;49m\u001b[38;5;241;43m*\u001b[39;49m\u001b[43mkwargs\u001b[49m\u001b[43m)\u001b[49m\n\u001b[1;32m    247\u001b[0m     \u001b[38;5;28;01mfor\u001b[39;00m agentref \u001b[38;5;129;01min\u001b[39;00m \u001b[38;5;28mself\u001b[39m\u001b[38;5;241m.\u001b[39m_agents\u001b[38;5;241m.\u001b[39mkeyrefs()\n\u001b[1;32m    248\u001b[0m     \u001b[38;5;28;01mif\u001b[39;00m (agent \u001b[38;5;241m:=\u001b[39m agentref()) \u001b[38;5;129;01mis\u001b[39;00m \u001b[38;5;129;01mnot\u001b[39;00m \u001b[38;5;28;01mNone\u001b[39;00m\n\u001b[1;32m    249\u001b[0m ]\n\u001b[1;32m    251\u001b[0m \u001b[38;5;28;01mreturn\u001b[39;00m res \u001b[38;5;28;01mif\u001b[39;00m return_results \u001b[38;5;28;01melse\u001b[39;00m \u001b[38;5;28mself\u001b[39m\n",
      "File \u001b[0;32m~/Desktop/FINAL_CODE/model.py:61\u001b[0m, in \u001b[0;36mSchellingAgent.step\u001b[0;34m(self)\u001b[0m\n\u001b[1;32m     58\u001b[0m \u001b[38;5;28mself\u001b[39m\u001b[38;5;241m.\u001b[39mcalc_theta()\n\u001b[1;32m     60\u001b[0m \u001b[38;5;66;03m# find the available properties to move to\u001b[39;00m\n\u001b[0;32m---> 61\u001b[0m available_cells \u001b[38;5;241m=\u001b[39m \u001b[38;5;28;43mself\u001b[39;49m\u001b[38;5;241;43m.\u001b[39;49m\u001b[43mmodel\u001b[49m\u001b[38;5;241;43m.\u001b[39;49m\u001b[43mfind_available_cells\u001b[49m\u001b[43m(\u001b[49m\u001b[38;5;28;43mself\u001b[39;49m\u001b[43m)\u001b[49m\n\u001b[1;32m     63\u001b[0m \u001b[38;5;28;01mif\u001b[39;00m \u001b[38;5;28mlen\u001b[39m(available_cells) \u001b[38;5;241m<\u001b[39m \u001b[38;5;241m0\u001b[39m:\n\u001b[1;32m     64\u001b[0m     \u001b[38;5;28;01mreturn\u001b[39;00m\n",
      "File \u001b[0;32m~/Desktop/FINAL_CODE/model.py:257\u001b[0m, in \u001b[0;36mSchelling.find_available_cells\u001b[0;34m(self, agent)\u001b[0m\n\u001b[1;32m    255\u001b[0m ratio \u001b[38;5;241m=\u001b[39m \u001b[38;5;241m0\u001b[39m\n\u001b[1;32m    256\u001b[0m \u001b[38;5;28;01mif\u001b[39;00m \u001b[38;5;28mself\u001b[39m\u001b[38;5;241m.\u001b[39mpolicy_singapore:\n\u001b[0;32m--> 257\u001b[0m     \u001b[38;5;28;01mfor\u001b[39;00m neighbor \u001b[38;5;129;01min\u001b[39;00m \u001b[38;5;28mself\u001b[39m\u001b[38;5;241m.\u001b[39mgrid\u001b[38;5;241m.\u001b[39miter_neighbors(\n\u001b[1;32m    258\u001b[0m         pos, moore\u001b[38;5;241m=\u001b[39m\u001b[38;5;28;01mTrue\u001b[39;00m, radius\u001b[38;5;241m=\u001b[39m\u001b[38;5;28mself\u001b[39m\u001b[38;5;241m.\u001b[39mpolicy_singapore_neighborhood_size\n\u001b[1;32m    259\u001b[0m     ):\n\u001b[1;32m    260\u001b[0m         \u001b[38;5;28;01mif\u001b[39;00m \u001b[38;5;28mhasattr\u001b[39m(neighbor, \u001b[38;5;124m\"\u001b[39m\u001b[38;5;124mtype\u001b[39m\u001b[38;5;124m\"\u001b[39m):\n\u001b[1;32m    261\u001b[0m             \u001b[38;5;28;01mif\u001b[39;00m neighbor\u001b[38;5;241m.\u001b[39mtype \u001b[38;5;241m==\u001b[39m agent\u001b[38;5;241m.\u001b[39mtype:\n",
      "File \u001b[0;32m~/anaconda3/lib/python3.10/site-packages/mesa/space.py:342\u001b[0m, in \u001b[0;36m_Grid.iter_neighbors\u001b[0;34m(self, pos, moore, include_center, radius)\u001b[0m\n\u001b[1;32m    317\u001b[0m \u001b[38;5;28;01mdef\u001b[39;00m \u001b[38;5;21miter_neighbors\u001b[39m(\n\u001b[1;32m    318\u001b[0m     \u001b[38;5;28mself\u001b[39m,\n\u001b[1;32m    319\u001b[0m     pos: Coordinate,\n\u001b[0;32m   (...)\u001b[0m\n\u001b[1;32m    322\u001b[0m     radius: \u001b[38;5;28mint\u001b[39m \u001b[38;5;241m=\u001b[39m \u001b[38;5;241m1\u001b[39m,\n\u001b[1;32m    323\u001b[0m ) \u001b[38;5;241m-\u001b[39m\u001b[38;5;241m>\u001b[39m Iterator[Agent]:\n\u001b[1;32m    324\u001b[0m \u001b[38;5;250m    \u001b[39m\u001b[38;5;124;03m\"\"\"Return an iterator over neighbors to a certain point.\u001b[39;00m\n\u001b[1;32m    325\u001b[0m \n\u001b[1;32m    326\u001b[0m \u001b[38;5;124;03m    Args:\u001b[39;00m\n\u001b[0;32m   (...)\u001b[0m\n\u001b[1;32m    340\u001b[0m \u001b[38;5;124;03m        (8 and 4 if not including the center).\u001b[39;00m\n\u001b[1;32m    341\u001b[0m \u001b[38;5;124;03m    \"\"\"\u001b[39;00m\n\u001b[0;32m--> 342\u001b[0m     default_val \u001b[38;5;241m=\u001b[39m \u001b[38;5;28;43mself\u001b[39;49m\u001b[38;5;241;43m.\u001b[39;49m\u001b[43mdefault_val\u001b[49m\u001b[43m(\u001b[49m\u001b[43m)\u001b[49m\n\u001b[1;32m    343\u001b[0m     \u001b[38;5;28;01mfor\u001b[39;00m x, y \u001b[38;5;129;01min\u001b[39;00m \u001b[38;5;28mself\u001b[39m\u001b[38;5;241m.\u001b[39mget_neighborhood(pos, moore, include_center, radius):\n\u001b[1;32m    344\u001b[0m         \u001b[38;5;28;01mif\u001b[39;00m (cell \u001b[38;5;241m:=\u001b[39m \u001b[38;5;28mself\u001b[39m\u001b[38;5;241m.\u001b[39m_grid[x][y]) \u001b[38;5;241m!=\u001b[39m default_val:\n",
      "\u001b[0;31mKeyboardInterrupt\u001b[0m: "
     ]
    }
   ],
   "source": [
    "# experiment settings\n",
    "num_iters = 100\n",
    "burn_in_period = 5\n",
    "model_steps = 30\n",
    "\n",
    "# model settings\n",
    "density = 0.8\n",
    "minority = 0.3\n",
    "alpha = 0.5\n",
    "property_value_weight = 0.1\n",
    "mu = 0.8\n",
    "sigma = 0.3\n",
    "\n",
    "# Run simulation\n",
    "singapore_policy_effect = schelling_singapore(num_iters, model_steps, burn_in_period, minority, property_value_weight, alpha, mu, sigma, density)"
   ]
  },
  {
   "cell_type": "code",
   "execution_count": 8,
   "metadata": {},
   "outputs": [
    {
     "ename": "NameError",
     "evalue": "name 'singapore_policy_effect' is not defined",
     "output_type": "error",
     "traceback": [
      "\u001b[0;31m---------------------------------------------------------------------------\u001b[0m",
      "\u001b[0;31mNameError\u001b[0m                                 Traceback (most recent call last)",
      "Cell \u001b[0;32mIn[8], line 2\u001b[0m\n\u001b[1;32m      1\u001b[0m \u001b[38;5;66;03m# Save simulation \u001b[39;00m\n\u001b[0;32m----> 2\u001b[0m singapore_initial_results \u001b[38;5;241m=\u001b[39m np\u001b[38;5;241m.\u001b[39mcolumn_stack((\u001b[43msingapore_policy_effect\u001b[49m[\u001b[38;5;241m0\u001b[39m], singapore_policy_effect[\u001b[38;5;241m1\u001b[39m], singapore_policy_effect[\u001b[38;5;241m2\u001b[39m]))\n\u001b[1;32m      4\u001b[0m \u001b[38;5;66;03m# Save the stacked array to a CSV file\u001b[39;00m\n\u001b[1;32m      5\u001b[0m \u001b[38;5;66;03m#np.savetxt('singapore_policy_100_runs_2.csv', singapore_initial_results, delimiter=',', header='desirability_entropy, agent_entropy, utility') \u001b[39;00m\n",
      "\u001b[0;31mNameError\u001b[0m: name 'singapore_policy_effect' is not defined"
     ]
    }
   ],
   "source": [
    "# Save simulation \n",
    "singapore_initial_results = np.column_stack((singapore_policy_effect[0], singapore_policy_effect[1], singapore_policy_effect[2]))\n",
    "\n",
    "# Save the stacked array to a CSV file\n",
    "#np.savetxt('singapore_policy_100_runs_2.csv', singapore_initial_results, delimiter=',', header='desirability_entropy, agent_entropy, utility') "
   ]
  },
  {
   "cell_type": "markdown",
   "metadata": {},
   "source": [
    "# No policy experiment"
   ]
  },
  {
   "cell_type": "code",
   "execution_count": 9,
   "metadata": {},
   "outputs": [
    {
     "name": "stderr",
     "output_type": "stream",
     "text": [
      "Skipping field color: unsupported OGR type: 3\n"
     ]
    },
    {
     "name": "stdout",
     "output_type": "stream",
     "text": [
      "I am in round 0\n"
     ]
    },
    {
     "ename": "KeyboardInterrupt",
     "evalue": "",
     "output_type": "error",
     "traceback": [
      "\u001b[0;31m---------------------------------------------------------------------------\u001b[0m",
      "\u001b[0;31mKeyboardInterrupt\u001b[0m                         Traceback (most recent call last)",
      "Cell \u001b[0;32mIn[9], line 15\u001b[0m\n\u001b[1;32m     12\u001b[0m sigma \u001b[38;5;241m=\u001b[39m \u001b[38;5;241m0.3\u001b[39m\n\u001b[1;32m     14\u001b[0m \u001b[38;5;66;03m# Run simulation\u001b[39;00m\n\u001b[0;32m---> 15\u001b[0m no_policy_effect \u001b[38;5;241m=\u001b[39m \u001b[43mschelling_singapore\u001b[49m\u001b[43m(\u001b[49m\u001b[43mnum_iters\u001b[49m\u001b[43m,\u001b[49m\u001b[43m \u001b[49m\u001b[43mmodel_steps\u001b[49m\u001b[43m,\u001b[49m\u001b[43m \u001b[49m\u001b[43mburn_in_period\u001b[49m\u001b[43m,\u001b[49m\u001b[43m \u001b[49m\u001b[43mdensity\u001b[49m\u001b[43m,\u001b[49m\u001b[43m \u001b[49m\u001b[43mminority\u001b[49m\u001b[43m,\u001b[49m\u001b[43m \u001b[49m\u001b[43malpha\u001b[49m\u001b[43m,\u001b[49m\u001b[43m \u001b[49m\u001b[43mproperty_value_weight\u001b[49m\u001b[43m,\u001b[49m\u001b[43m \u001b[49m\u001b[43mmu\u001b[49m\u001b[43m,\u001b[49m\u001b[43m \u001b[49m\u001b[43msigma\u001b[49m\u001b[43m,\u001b[49m\u001b[43m \u001b[49m\u001b[43mpolicy\u001b[49m\u001b[38;5;241;43m=\u001b[39;49m\u001b[38;5;28;43;01mFalse\u001b[39;49;00m\u001b[43m)\u001b[49m\n",
      "Cell \u001b[0;32mIn[6], line 42\u001b[0m, in \u001b[0;36mschelling_singapore\u001b[0;34m(num_runs, num_steps, burn_in_period, minority_pc, property_value_weight, alpha, mu_theta, sigma_theta, density, policy)\u001b[0m\n\u001b[1;32m     40\u001b[0m \u001b[38;5;66;03m# Run the model for a certain number of steps\u001b[39;00m\n\u001b[1;32m     41\u001b[0m \u001b[38;5;28;01mfor\u001b[39;00m _ \u001b[38;5;129;01min\u001b[39;00m \u001b[38;5;28mrange\u001b[39m(num_steps):\n\u001b[0;32m---> 42\u001b[0m     \u001b[43mmodels\u001b[49m\u001b[38;5;241;43m.\u001b[39;49m\u001b[43mstep\u001b[49m\u001b[43m(\u001b[49m\u001b[43m)\u001b[49m\n\u001b[1;32m     44\u001b[0m \u001b[38;5;66;03m# call necessary data collectors\u001b[39;00m\n\u001b[1;32m     45\u001b[0m agent_data \u001b[38;5;241m=\u001b[39m models\u001b[38;5;241m.\u001b[39mdatacollector\u001b[38;5;241m.\u001b[39mget_agent_vars_dataframe()\n",
      "File \u001b[0;32m~/Desktop/FINAL_CODE/model.py:363\u001b[0m, in \u001b[0;36mSchelling.step\u001b[0;34m(self)\u001b[0m\n\u001b[1;32m    358\u001b[0m t \u001b[38;5;241m=\u001b[39m time\u001b[38;5;241m.\u001b[39mtime()\n\u001b[1;32m    359\u001b[0m \u001b[38;5;66;03m# add it to entropy layer for desirability\u001b[39;00m\n\u001b[1;32m    360\u001b[0m \n\u001b[1;32m    361\u001b[0m \u001b[38;5;66;03m############################\u001b[39;00m\n\u001b[0;32m--> 363\u001b[0m \u001b[38;5;28;43mself\u001b[39;49m\u001b[38;5;241;43m.\u001b[39;49m\u001b[43mschedule\u001b[49m\u001b[38;5;241;43m.\u001b[39;49m\u001b[43mstep\u001b[49m\u001b[43m(\u001b[49m\u001b[43m)\u001b[49m\n\u001b[1;32m    365\u001b[0m \u001b[38;5;28mself\u001b[39m\u001b[38;5;241m.\u001b[39mtimings[\u001b[38;5;124m\"\u001b[39m\u001b[38;5;124mAgent Step\u001b[39m\u001b[38;5;124m\"\u001b[39m]\u001b[38;5;241m.\u001b[39mappend(time\u001b[38;5;241m.\u001b[39mtime() \u001b[38;5;241m-\u001b[39m t)\n\u001b[1;32m    366\u001b[0m t \u001b[38;5;241m=\u001b[39m time\u001b[38;5;241m.\u001b[39mtime()\n",
      "File \u001b[0;32m~/anaconda3/lib/python3.10/site-packages/mesa/time.py:120\u001b[0m, in \u001b[0;36mBaseScheduler._wrapped_step\u001b[0;34m(self)\u001b[0m\n\u001b[1;32m    118\u001b[0m \u001b[38;5;28;01mdef\u001b[39;00m \u001b[38;5;21m_wrapped_step\u001b[39m(\u001b[38;5;28mself\u001b[39m):\n\u001b[1;32m    119\u001b[0m \u001b[38;5;250m    \u001b[39m\u001b[38;5;124;03m\"\"\"Wrapper for the step method to include time and step updating.\"\"\"\u001b[39;00m\n\u001b[0;32m--> 120\u001b[0m     \u001b[38;5;28;43mself\u001b[39;49m\u001b[38;5;241;43m.\u001b[39;49m\u001b[43m_original_step\u001b[49m\u001b[43m(\u001b[49m\u001b[43m)\u001b[49m\n\u001b[1;32m    121\u001b[0m     \u001b[38;5;28mself\u001b[39m\u001b[38;5;241m.\u001b[39mmodel\u001b[38;5;241m.\u001b[39m_advance_time()\n",
      "File \u001b[0;32m~/anaconda3/lib/python3.10/site-packages/mesa/time.py:176\u001b[0m, in \u001b[0;36mRandomActivation.step\u001b[0;34m(self)\u001b[0m\n\u001b[1;32m    171\u001b[0m \u001b[38;5;28;01mdef\u001b[39;00m \u001b[38;5;21mstep\u001b[39m(\u001b[38;5;28mself\u001b[39m) \u001b[38;5;241m-\u001b[39m\u001b[38;5;241m>\u001b[39m \u001b[38;5;28;01mNone\u001b[39;00m:\n\u001b[1;32m    172\u001b[0m \u001b[38;5;250m    \u001b[39m\u001b[38;5;124;03m\"\"\"Executes the step of all agents, one at a time, in\u001b[39;00m\n\u001b[1;32m    173\u001b[0m \u001b[38;5;124;03m    random order.\u001b[39;00m\n\u001b[1;32m    174\u001b[0m \n\u001b[1;32m    175\u001b[0m \u001b[38;5;124;03m    \"\"\"\u001b[39;00m\n\u001b[0;32m--> 176\u001b[0m     \u001b[38;5;28;43mself\u001b[39;49m\u001b[38;5;241;43m.\u001b[39;49m\u001b[43mdo_each\u001b[49m\u001b[43m(\u001b[49m\u001b[38;5;124;43m\"\u001b[39;49m\u001b[38;5;124;43mstep\u001b[39;49m\u001b[38;5;124;43m\"\u001b[39;49m\u001b[43m,\u001b[49m\u001b[43m \u001b[49m\u001b[43mshuffle\u001b[49m\u001b[38;5;241;43m=\u001b[39;49m\u001b[38;5;28;43;01mTrue\u001b[39;49;00m\u001b[43m)\u001b[49m\n\u001b[1;32m    177\u001b[0m     \u001b[38;5;28mself\u001b[39m\u001b[38;5;241m.\u001b[39msteps \u001b[38;5;241m+\u001b[39m\u001b[38;5;241m=\u001b[39m \u001b[38;5;241m1\u001b[39m\n\u001b[1;32m    178\u001b[0m     \u001b[38;5;28mself\u001b[39m\u001b[38;5;241m.\u001b[39mtime \u001b[38;5;241m+\u001b[39m\u001b[38;5;241m=\u001b[39m \u001b[38;5;241m1\u001b[39m\n",
      "File \u001b[0;32m~/anaconda3/lib/python3.10/site-packages/mesa/time.py:152\u001b[0m, in \u001b[0;36mBaseScheduler.do_each\u001b[0;34m(self, method, shuffle)\u001b[0m\n\u001b[1;32m    150\u001b[0m \u001b[38;5;28;01mif\u001b[39;00m shuffle:\n\u001b[1;32m    151\u001b[0m     \u001b[38;5;28mself\u001b[39m\u001b[38;5;241m.\u001b[39m_agents\u001b[38;5;241m.\u001b[39mshuffle(inplace\u001b[38;5;241m=\u001b[39m\u001b[38;5;28;01mTrue\u001b[39;00m)\n\u001b[0;32m--> 152\u001b[0m \u001b[38;5;28;43mself\u001b[39;49m\u001b[38;5;241;43m.\u001b[39;49m\u001b[43m_agents\u001b[49m\u001b[38;5;241;43m.\u001b[39;49m\u001b[43mdo\u001b[49m\u001b[43m(\u001b[49m\u001b[43mmethod\u001b[49m\u001b[43m)\u001b[49m\n",
      "File \u001b[0;32m~/anaconda3/lib/python3.10/site-packages/mesa/agent.py:245\u001b[0m, in \u001b[0;36mAgentSet.do\u001b[0;34m(self, method_name, return_results, *args, **kwargs)\u001b[0m\n\u001b[1;32m    232\u001b[0m \u001b[38;5;250m\u001b[39m\u001b[38;5;124;03m\"\"\"\u001b[39;00m\n\u001b[1;32m    233\u001b[0m \u001b[38;5;124;03mInvoke a method on each agent in the AgentSet.\u001b[39;00m\n\u001b[1;32m    234\u001b[0m \n\u001b[0;32m   (...)\u001b[0m\n\u001b[1;32m    242\u001b[0m \u001b[38;5;124;03m    AgentSet | list[Any]: The results of the method calls if return_results is True, otherwise the AgentSet itself.\u001b[39;00m\n\u001b[1;32m    243\u001b[0m \u001b[38;5;124;03m\"\"\"\u001b[39;00m\n\u001b[1;32m    244\u001b[0m \u001b[38;5;66;03m# we iterate over the actual weakref keys and check if weakref is alive before calling the method\u001b[39;00m\n\u001b[0;32m--> 245\u001b[0m res \u001b[38;5;241m=\u001b[39m [\n\u001b[1;32m    246\u001b[0m     \u001b[38;5;28mgetattr\u001b[39m(agent, method_name)(\u001b[38;5;241m*\u001b[39margs, \u001b[38;5;241m*\u001b[39m\u001b[38;5;241m*\u001b[39mkwargs)\n\u001b[1;32m    247\u001b[0m     \u001b[38;5;28;01mfor\u001b[39;00m agentref \u001b[38;5;129;01min\u001b[39;00m \u001b[38;5;28mself\u001b[39m\u001b[38;5;241m.\u001b[39m_agents\u001b[38;5;241m.\u001b[39mkeyrefs()\n\u001b[1;32m    248\u001b[0m     \u001b[38;5;28;01mif\u001b[39;00m (agent \u001b[38;5;241m:=\u001b[39m agentref()) \u001b[38;5;129;01mis\u001b[39;00m \u001b[38;5;129;01mnot\u001b[39;00m \u001b[38;5;28;01mNone\u001b[39;00m\n\u001b[1;32m    249\u001b[0m ]\n\u001b[1;32m    251\u001b[0m \u001b[38;5;28;01mreturn\u001b[39;00m res \u001b[38;5;28;01mif\u001b[39;00m return_results \u001b[38;5;28;01melse\u001b[39;00m \u001b[38;5;28mself\u001b[39m\n",
      "File \u001b[0;32m~/anaconda3/lib/python3.10/site-packages/mesa/agent.py:246\u001b[0m, in \u001b[0;36m<listcomp>\u001b[0;34m(.0)\u001b[0m\n\u001b[1;32m    232\u001b[0m \u001b[38;5;250m\u001b[39m\u001b[38;5;124;03m\"\"\"\u001b[39;00m\n\u001b[1;32m    233\u001b[0m \u001b[38;5;124;03mInvoke a method on each agent in the AgentSet.\u001b[39;00m\n\u001b[1;32m    234\u001b[0m \n\u001b[0;32m   (...)\u001b[0m\n\u001b[1;32m    242\u001b[0m \u001b[38;5;124;03m    AgentSet | list[Any]: The results of the method calls if return_results is True, otherwise the AgentSet itself.\u001b[39;00m\n\u001b[1;32m    243\u001b[0m \u001b[38;5;124;03m\"\"\"\u001b[39;00m\n\u001b[1;32m    244\u001b[0m \u001b[38;5;66;03m# we iterate over the actual weakref keys and check if weakref is alive before calling the method\u001b[39;00m\n\u001b[1;32m    245\u001b[0m res \u001b[38;5;241m=\u001b[39m [\n\u001b[0;32m--> 246\u001b[0m     \u001b[38;5;28;43mgetattr\u001b[39;49m\u001b[43m(\u001b[49m\u001b[43magent\u001b[49m\u001b[43m,\u001b[49m\u001b[43m \u001b[49m\u001b[43mmethod_name\u001b[49m\u001b[43m)\u001b[49m\u001b[43m(\u001b[49m\u001b[38;5;241;43m*\u001b[39;49m\u001b[43margs\u001b[49m\u001b[43m,\u001b[49m\u001b[43m \u001b[49m\u001b[38;5;241;43m*\u001b[39;49m\u001b[38;5;241;43m*\u001b[39;49m\u001b[43mkwargs\u001b[49m\u001b[43m)\u001b[49m\n\u001b[1;32m    247\u001b[0m     \u001b[38;5;28;01mfor\u001b[39;00m agentref \u001b[38;5;129;01min\u001b[39;00m \u001b[38;5;28mself\u001b[39m\u001b[38;5;241m.\u001b[39m_agents\u001b[38;5;241m.\u001b[39mkeyrefs()\n\u001b[1;32m    248\u001b[0m     \u001b[38;5;28;01mif\u001b[39;00m (agent \u001b[38;5;241m:=\u001b[39m agentref()) \u001b[38;5;129;01mis\u001b[39;00m \u001b[38;5;129;01mnot\u001b[39;00m \u001b[38;5;28;01mNone\u001b[39;00m\n\u001b[1;32m    249\u001b[0m ]\n\u001b[1;32m    251\u001b[0m \u001b[38;5;28;01mreturn\u001b[39;00m res \u001b[38;5;28;01mif\u001b[39;00m return_results \u001b[38;5;28;01melse\u001b[39;00m \u001b[38;5;28mself\u001b[39m\n",
      "File \u001b[0;32m~/Desktop/FINAL_CODE/model.py:61\u001b[0m, in \u001b[0;36mSchellingAgent.step\u001b[0;34m(self)\u001b[0m\n\u001b[1;32m     58\u001b[0m \u001b[38;5;28mself\u001b[39m\u001b[38;5;241m.\u001b[39mcalc_theta()\n\u001b[1;32m     60\u001b[0m \u001b[38;5;66;03m# find the available properties to move to\u001b[39;00m\n\u001b[0;32m---> 61\u001b[0m available_cells \u001b[38;5;241m=\u001b[39m \u001b[38;5;28;43mself\u001b[39;49m\u001b[38;5;241;43m.\u001b[39;49m\u001b[43mmodel\u001b[49m\u001b[38;5;241;43m.\u001b[39;49m\u001b[43mfind_available_cells\u001b[49m\u001b[43m(\u001b[49m\u001b[38;5;28;43mself\u001b[39;49m\u001b[43m)\u001b[49m\n\u001b[1;32m     63\u001b[0m \u001b[38;5;28;01mif\u001b[39;00m \u001b[38;5;28mlen\u001b[39m(available_cells) \u001b[38;5;241m<\u001b[39m \u001b[38;5;241m0\u001b[39m:\n\u001b[1;32m     64\u001b[0m     \u001b[38;5;28;01mreturn\u001b[39;00m\n",
      "File \u001b[0;32m~/Desktop/FINAL_CODE/model.py:251\u001b[0m, in \u001b[0;36mSchelling.find_available_cells\u001b[0;34m(self, agent)\u001b[0m\n\u001b[1;32m    248\u001b[0m available_cells \u001b[38;5;241m=\u001b[39m []\n\u001b[1;32m    249\u001b[0m \u001b[38;5;28;01mfor\u001b[39;00m _, pos \u001b[38;5;129;01min\u001b[39;00m \u001b[38;5;28mself\u001b[39m\u001b[38;5;241m.\u001b[39mgrid\u001b[38;5;241m.\u001b[39mcoord_iter():\n\u001b[1;32m    250\u001b[0m     \u001b[38;5;66;03m# cell is available if it contains a property agent and no other agent and rent is not negative\u001b[39;00m\n\u001b[0;32m--> 251\u001b[0m     agents \u001b[38;5;241m=\u001b[39m \u001b[38;5;28;43mself\u001b[39;49m\u001b[38;5;241;43m.\u001b[39;49m\u001b[43mgrid\u001b[49m\u001b[38;5;241;43m.\u001b[39;49m\u001b[43mget_cell_list_contents\u001b[49m\u001b[43m(\u001b[49m\u001b[43m[\u001b[49m\u001b[43mpos\u001b[49m\u001b[43m]\u001b[49m\u001b[43m)\u001b[49m\n\u001b[1;32m    253\u001b[0m     num_neighbours \u001b[38;5;241m=\u001b[39m \u001b[38;5;241m0\u001b[39m\n\u001b[1;32m    254\u001b[0m     num_same \u001b[38;5;241m=\u001b[39m \u001b[38;5;241m0\u001b[39m\n",
      "File \u001b[0;32m~/anaconda3/lib/python3.10/site-packages/mesa/space.py:64\u001b[0m, in \u001b[0;36maccept_tuple_argument.<locals>.wrapper\u001b[0;34m(grid_instance, positions)\u001b[0m\n\u001b[1;32m     62\u001b[0m \u001b[38;5;28;01mif\u001b[39;00m \u001b[38;5;28mlen\u001b[39m(positions) \u001b[38;5;241m==\u001b[39m \u001b[38;5;241m2\u001b[39m \u001b[38;5;129;01mand\u001b[39;00m \u001b[38;5;129;01mnot\u001b[39;00m \u001b[38;5;28misinstance\u001b[39m(positions[\u001b[38;5;241m0\u001b[39m], \u001b[38;5;28mtuple\u001b[39m):\n\u001b[1;32m     63\u001b[0m     positions \u001b[38;5;241m=\u001b[39m [positions]\n\u001b[0;32m---> 64\u001b[0m \u001b[38;5;28;01mreturn\u001b[39;00m \u001b[43mwrapped_function\u001b[49m\u001b[43m(\u001b[49m\u001b[43mgrid_instance\u001b[49m\u001b[43m,\u001b[49m\u001b[43m \u001b[49m\u001b[43mpositions\u001b[49m\u001b[43m)\u001b[49m\n",
      "File \u001b[0;32m~/anaconda3/lib/python3.10/site-packages/mesa/space.py:419\u001b[0m, in \u001b[0;36m_Grid.get_cell_list_contents\u001b[0;34m(self, cell_list)\u001b[0m\n\u001b[1;32m    408\u001b[0m \u001b[38;5;129m@accept_tuple_argument\u001b[39m\n\u001b[1;32m    409\u001b[0m \u001b[38;5;28;01mdef\u001b[39;00m \u001b[38;5;21mget_cell_list_contents\u001b[39m(\u001b[38;5;28mself\u001b[39m, cell_list: Iterable[Coordinate]) \u001b[38;5;241m-\u001b[39m\u001b[38;5;241m>\u001b[39m \u001b[38;5;28mlist\u001b[39m[Agent]:\n\u001b[1;32m    410\u001b[0m \u001b[38;5;250m    \u001b[39m\u001b[38;5;124;03m\"\"\"Returns an iterator of the agents contained in the cells identified\u001b[39;00m\n\u001b[1;32m    411\u001b[0m \u001b[38;5;124;03m    in `cell_list`; cells with empty content are excluded.\u001b[39;00m\n\u001b[1;32m    412\u001b[0m \n\u001b[0;32m   (...)\u001b[0m\n\u001b[1;32m    417\u001b[0m \u001b[38;5;124;03m        A list of the agents contained in the cells identified in `cell_list`.\u001b[39;00m\n\u001b[1;32m    418\u001b[0m \u001b[38;5;124;03m    \"\"\"\u001b[39;00m\n\u001b[0;32m--> 419\u001b[0m     \u001b[38;5;28;01mreturn\u001b[39;00m \u001b[38;5;28mlist\u001b[39m(\u001b[38;5;28;43mself\u001b[39;49m\u001b[38;5;241;43m.\u001b[39;49m\u001b[43miter_cell_list_contents\u001b[49m\u001b[43m(\u001b[49m\u001b[43mcell_list\u001b[49m\u001b[43m)\u001b[49m)\n",
      "\u001b[0;31mKeyboardInterrupt\u001b[0m: "
     ]
    }
   ],
   "source": [
    "# experiment settings\n",
    "num_iters = 100\n",
    "burn_in_period = 5\n",
    "model_steps = 30\n",
    "\n",
    "# model settings\n",
    "density = 0.8\n",
    "minority = 0.3\n",
    "alpha = 0.5\n",
    "property_value_weight = 0.1\n",
    "mu = 0.8\n",
    "sigma = 0.3\n",
    "\n",
    "# Run simulation\n",
    "no_policy_effect = schelling_singapore(num_iters, model_steps, burn_in_period, density, minority, alpha, property_value_weight, mu, sigma, policy=False)"
   ]
  },
  {
   "cell_type": "code",
   "execution_count": 10,
   "metadata": {},
   "outputs": [
    {
     "ename": "NameError",
     "evalue": "name 'no_policy_effect' is not defined",
     "output_type": "error",
     "traceback": [
      "\u001b[0;31m---------------------------------------------------------------------------\u001b[0m",
      "\u001b[0;31mNameError\u001b[0m                                 Traceback (most recent call last)",
      "Cell \u001b[0;32mIn[10], line 1\u001b[0m\n\u001b[0;32m----> 1\u001b[0m no_policy_results \u001b[38;5;241m=\u001b[39m np\u001b[38;5;241m.\u001b[39mcolumn_stack((\u001b[43mno_policy_effect\u001b[49m[\u001b[38;5;241m0\u001b[39m], no_policy_effect[\u001b[38;5;241m1\u001b[39m], no_policy_effect[\u001b[38;5;241m2\u001b[39m]))\n\u001b[1;32m      3\u001b[0m \u001b[38;5;66;03m# Save the stacked array to a CSV file\u001b[39;00m\n\u001b[1;32m      4\u001b[0m \u001b[38;5;66;03m#np.savetxt('no_policy_result_100_runs.csv', no_policy_results, delimiter=',', header='desirability_entropy, agent_entropy, utility') \u001b[39;00m\n",
      "\u001b[0;31mNameError\u001b[0m: name 'no_policy_effect' is not defined"
     ]
    }
   ],
   "source": [
    "no_policy_results = np.column_stack((no_policy_effect[0], no_policy_effect[1], no_policy_effect[2]))\n",
    "\n",
    "# Save the stacked array to a CSV file\n",
    "#np.savetxt('no_policy_result_100_runs.csv', no_policy_results, delimiter=',', header='desirability_entropy, agent_entropy, utility') "
   ]
  },
  {
   "cell_type": "markdown",
   "metadata": {},
   "source": [
    "# Vienna experiment"
   ]
  },
  {
   "cell_type": "code",
   "execution_count": 11,
   "metadata": {},
   "outputs": [],
   "source": [
    "import modules as modules\n",
    "import model as model\n",
    "from model import Schelling\n",
    "\n",
    "# Define function for simulation\n",
    "def schelling_vienna(num_runs, num_steps, burn_in_period, minority_pc, property_value_weight, alpha, mu_theta, sigma_theta, density, policy = True):\n",
    "\n",
    "    # initialize storage for parameters\n",
    "    overall_desirability_entropy = []\n",
    "    overall_agent_entropy = []\n",
    "    overall_utility = []\n",
    "\n",
    "    # run the model several times for the same parameter setting \n",
    "    for run in range(num_runs):\n",
    "        print('I am in round', run)\n",
    "        \n",
    "        # initialize model\n",
    "        models = Schelling(\n",
    "            property_value_func=modules.property_value_from_gdf, # quadrants,\n",
    "            income_func=modules.income_func,\n",
    "            desirability_func=modules.desirability_func,\n",
    "            utility_func=modules.utility_func,\n",
    "            price_func=modules.price_func,\n",
    "            compute_similar_neighbours=modules.compute_similar_neighbours,\n",
    "            calculate_gi_star = modules.calculate_gi_star,\n",
    "            update_interested_agents_func = modules.update_interested_agents_concurrently,\n",
    "            price_func_cap=modules.price_func_cap,\n",
    "            policy_vienna=policy,\n",
    "            #height=20,\n",
    "            #width=20,\n",
    "            radius=1,\n",
    "            density=density,\n",
    "            minority_pc=minority_pc,\n",
    "            alpha=alpha,\n",
    "            income_scale=1.5, # the scale by which the income is higher than the property value\n",
    "            property_value_weight=property_value_weight,\n",
    "            mu_theta = mu_theta,\n",
    "            sigma_theta = sigma_theta,\n",
    "            seed=42)\n",
    "\n",
    "        # Run the model for a certain number of steps\n",
    "        for _ in range(num_steps):\n",
    "            models.step()\n",
    "\n",
    "        # call necessary data collectors\n",
    "        agent_data = models.datacollector.get_agent_vars_dataframe()\n",
    "        model_data_entropy = models.datacollector.get_model_vars_dataframe()\n",
    "    \n",
    "        # Compute mean and standard deviation of entropies over time per run\n",
    "        desirability_entropy = model_data_entropy['Desirability entropy'].to_numpy()\n",
    "        mean_desirability_entropy = np.mean(np.array(desirability_entropy[burn_in_period::]))\n",
    "        \n",
    "        agent_entropy = model_data_entropy['Agent entropy'].to_numpy()\n",
    "        mean_agent_entropy = np.mean(np.array(agent_entropy[burn_in_period::]))\n",
    "        #print(agent_entropy)\n",
    "        \n",
    "        # Compute mean and standard deviation of utility per time step over each agent \n",
    "        utility_mean = agent_data.groupby(level='Step')['Utility'].mean()\n",
    "        utility_std = agent_data.groupby(level='Step')['Utility'].std()\n",
    "        \n",
    "        # Compute mean and standard deviation of utility over time \n",
    "        utility_mean = pd.DataFrame(utility_mean).to_numpy()\n",
    "        utility_std = pd.DataFrame(utility_std).to_numpy()\n",
    "        mean_utility_interim = np.mean(utility_mean[burn_in_period::])\n",
    "\n",
    "        # Append all results to storage\n",
    "        overall_desirability_entropy.append(mean_desirability_entropy)\n",
    "        overall_agent_entropy.append(mean_agent_entropy)\n",
    "        overall_utility.append(mean_utility_interim)\n",
    "\n",
    "    return np.array(overall_desirability_entropy), np.array(overall_agent_entropy), np.array(overall_utility)"
   ]
  },
  {
   "cell_type": "code",
   "execution_count": 12,
   "metadata": {},
   "outputs": [
    {
     "name": "stderr",
     "output_type": "stream",
     "text": [
      "Skipping field color: unsupported OGR type: 3\n"
     ]
    },
    {
     "name": "stdout",
     "output_type": "stream",
     "text": [
      "I am in round 0\n"
     ]
    },
    {
     "ename": "KeyboardInterrupt",
     "evalue": "",
     "output_type": "error",
     "traceback": [
      "\u001b[0;31m---------------------------------------------------------------------------\u001b[0m",
      "\u001b[0;31mKeyboardInterrupt\u001b[0m                         Traceback (most recent call last)",
      "Cell \u001b[0;32mIn[12], line 15\u001b[0m\n\u001b[1;32m     12\u001b[0m sigma \u001b[38;5;241m=\u001b[39m \u001b[38;5;241m0.3\u001b[39m\n\u001b[1;32m     14\u001b[0m \u001b[38;5;66;03m# Run simulation\u001b[39;00m\n\u001b[0;32m---> 15\u001b[0m vienna_policy_effect \u001b[38;5;241m=\u001b[39m \u001b[43mschelling_vienna\u001b[49m\u001b[43m(\u001b[49m\u001b[43mnum_iters\u001b[49m\u001b[43m,\u001b[49m\u001b[43m \u001b[49m\u001b[43mmodel_steps\u001b[49m\u001b[43m,\u001b[49m\u001b[43m \u001b[49m\u001b[43mburn_in_period\u001b[49m\u001b[43m,\u001b[49m\u001b[43m \u001b[49m\u001b[43mdensity\u001b[49m\u001b[43m,\u001b[49m\u001b[43m \u001b[49m\u001b[43mminority\u001b[49m\u001b[43m,\u001b[49m\u001b[43m \u001b[49m\u001b[43malpha\u001b[49m\u001b[43m,\u001b[49m\u001b[43m \u001b[49m\u001b[43mproperty_value_weight\u001b[49m\u001b[43m,\u001b[49m\u001b[43m \u001b[49m\u001b[43mmu\u001b[49m\u001b[43m,\u001b[49m\u001b[43m \u001b[49m\u001b[43msigma\u001b[49m\u001b[43m,\u001b[49m\u001b[43m \u001b[49m\u001b[43mpolicy\u001b[49m\u001b[38;5;241;43m=\u001b[39;49m\u001b[38;5;28;43;01mTrue\u001b[39;49;00m\u001b[43m)\u001b[49m\n",
      "Cell \u001b[0;32mIn[11], line 43\u001b[0m, in \u001b[0;36mschelling_vienna\u001b[0;34m(num_runs, num_steps, burn_in_period, minority_pc, property_value_weight, alpha, mu_theta, sigma_theta, density, policy)\u001b[0m\n\u001b[1;32m     41\u001b[0m \u001b[38;5;66;03m# Run the model for a certain number of steps\u001b[39;00m\n\u001b[1;32m     42\u001b[0m \u001b[38;5;28;01mfor\u001b[39;00m _ \u001b[38;5;129;01min\u001b[39;00m \u001b[38;5;28mrange\u001b[39m(num_steps):\n\u001b[0;32m---> 43\u001b[0m     \u001b[43mmodels\u001b[49m\u001b[38;5;241;43m.\u001b[39;49m\u001b[43mstep\u001b[49m\u001b[43m(\u001b[49m\u001b[43m)\u001b[49m\n\u001b[1;32m     45\u001b[0m \u001b[38;5;66;03m# call necessary data collectors\u001b[39;00m\n\u001b[1;32m     46\u001b[0m agent_data \u001b[38;5;241m=\u001b[39m models\u001b[38;5;241m.\u001b[39mdatacollector\u001b[38;5;241m.\u001b[39mget_agent_vars_dataframe()\n",
      "File \u001b[0;32m~/Desktop/FINAL_CODE/model.py:313\u001b[0m, in \u001b[0;36mSchelling.step\u001b[0;34m(self)\u001b[0m\n\u001b[1;32m    310\u001b[0m \u001b[38;5;28;01mif\u001b[39;00m \u001b[38;5;129;01mnot\u001b[39;00m \u001b[38;5;28mself\u001b[39m\u001b[38;5;241m.\u001b[39mconcurrent:\n\u001b[1;32m    311\u001b[0m     \u001b[38;5;66;03m# Iterate over cells and compare utility to current location, add to interested_agents_layer if better\u001b[39;00m\n\u001b[1;32m    312\u001b[0m     \u001b[38;5;28;01mfor\u001b[39;00m _, loc  \u001b[38;5;129;01min\u001b[39;00m \u001b[38;5;28mself\u001b[39m\u001b[38;5;241m.\u001b[39mgrid\u001b[38;5;241m.\u001b[39mcoord_iter():\n\u001b[0;32m--> 313\u001b[0m         utility \u001b[38;5;241m=\u001b[39m \u001b[38;5;28;43mself\u001b[39;49m\u001b[38;5;241;43m.\u001b[39;49m\u001b[43mutility_func\u001b[49m\u001b[43m(\u001b[49m\u001b[38;5;28;43mself\u001b[39;49m\u001b[43m,\u001b[49m\u001b[43m \u001b[49m\u001b[43magent\u001b[49m\u001b[43m,\u001b[49m\u001b[43m \u001b[49m\u001b[43mloc\u001b[49m\u001b[43m,\u001b[49m\u001b[43m \u001b[49m\u001b[43mbudgetless\u001b[49m\u001b[38;5;241;43m=\u001b[39;49m\u001b[38;5;28;43;01mFalse\u001b[39;49;00m\u001b[43m)\u001b[49m\n\u001b[1;32m    315\u001b[0m         \u001b[38;5;28;01mif\u001b[39;00m utility \u001b[38;5;241m>\u001b[39m agent\u001b[38;5;241m.\u001b[39mutility:\n\u001b[1;32m    316\u001b[0m             \u001b[38;5;28mself\u001b[39m\u001b[38;5;241m.\u001b[39minterested_agents_layer\u001b[38;5;241m.\u001b[39mmodify_cell(loc, \u001b[38;5;28;01mlambda\u001b[39;00m v: v \u001b[38;5;241m+\u001b[39m \u001b[38;5;241m1\u001b[39m)\n",
      "File \u001b[0;32m~/Desktop/FINAL_CODE/modules.py:140\u001b[0m, in \u001b[0;36mutility_func\u001b[0;34m(model, agent, property_loc, budgetless)\u001b[0m\n\u001b[1;32m    139\u001b[0m \u001b[38;5;28;01mdef\u001b[39;00m \u001b[38;5;21mutility_func\u001b[39m(model: mesa\u001b[38;5;241m.\u001b[39mModel, agent: mesa\u001b[38;5;241m.\u001b[39mAgent, property_loc: \u001b[38;5;28mtuple\u001b[39m, budgetless \u001b[38;5;241m=\u001b[39m \u001b[38;5;28;01mFalse\u001b[39;00m) \u001b[38;5;241m-\u001b[39m\u001b[38;5;241m>\u001b[39m \u001b[38;5;28mfloat\u001b[39m:\n\u001b[0;32m--> 140\u001b[0m     theta, _ \u001b[38;5;241m=\u001b[39m \u001b[43mget_theta\u001b[49m\u001b[43m(\u001b[49m\u001b[43mmodel\u001b[49m\u001b[43m,\u001b[49m\u001b[43m \u001b[49m\u001b[43mproperty_loc\u001b[49m\u001b[43m,\u001b[49m\u001b[43m \u001b[49m\u001b[43magent\u001b[49m\u001b[38;5;241;43m.\u001b[39;49m\u001b[43mtype\u001b[49m\u001b[43m)\u001b[49m\n\u001b[1;32m    142\u001b[0m     desirability \u001b[38;5;241m=\u001b[39m model\u001b[38;5;241m.\u001b[39mdesirability_layer\u001b[38;5;241m.\u001b[39mdata[property_loc]\n\u001b[1;32m    144\u001b[0m     alpha \u001b[38;5;241m=\u001b[39m model\u001b[38;5;241m.\u001b[39malpha\n",
      "File \u001b[0;32m~/Desktop/FINAL_CODE/modules.py:191\u001b[0m, in \u001b[0;36mget_theta\u001b[0;34m(model, loc, type)\u001b[0m\n\u001b[1;32m    186\u001b[0m \u001b[38;5;28;01mfor\u001b[39;00m neighbor \u001b[38;5;129;01min\u001b[39;00m model\u001b[38;5;241m.\u001b[39mgrid\u001b[38;5;241m.\u001b[39miter_neighbors(\n\u001b[1;32m    187\u001b[0m     loc, moore\u001b[38;5;241m=\u001b[39m\u001b[38;5;28;01mTrue\u001b[39;00m, radius\u001b[38;5;241m=\u001b[39mmodel\u001b[38;5;241m.\u001b[39mradius\n\u001b[1;32m    188\u001b[0m ):\n\u001b[1;32m    190\u001b[0m     num_neighbours \u001b[38;5;241m+\u001b[39m\u001b[38;5;241m=\u001b[39m \u001b[38;5;241m1\u001b[39m\n\u001b[0;32m--> 191\u001b[0m     \u001b[38;5;28;01mif\u001b[39;00m neighbor\u001b[38;5;241m.\u001b[39mtype \u001b[38;5;241m==\u001b[39m \u001b[38;5;28mtype\u001b[39m:\n\u001b[1;32m    192\u001b[0m         similar \u001b[38;5;241m+\u001b[39m\u001b[38;5;241m=\u001b[39m \u001b[38;5;241m1\u001b[39m\n\u001b[1;32m    194\u001b[0m \u001b[38;5;28;01mif\u001b[39;00m num_neighbours \u001b[38;5;241m==\u001b[39m \u001b[38;5;241m0\u001b[39m:\n",
      "\u001b[0;31mKeyboardInterrupt\u001b[0m: "
     ]
    }
   ],
   "source": [
    "# experiment settings\n",
    "num_iters = 100\n",
    "burn_in_period = 5\n",
    "model_steps = 30\n",
    "\n",
    "# model settings\n",
    "density = 0.8\n",
    "minority = 0.3\n",
    "alpha = 0.5\n",
    "property_value_weight = 0.1\n",
    "mu = 0.8\n",
    "sigma = 0.3\n",
    "\n",
    "# Run simulation\n",
    "vienna_policy_effect = schelling_vienna(num_iters, model_steps, burn_in_period, density, minority, alpha, property_value_weight, mu, sigma, policy=True)"
   ]
  },
  {
   "cell_type": "code",
   "execution_count": 13,
   "metadata": {},
   "outputs": [
    {
     "ename": "NameError",
     "evalue": "name 'vienna_policy_effect' is not defined",
     "output_type": "error",
     "traceback": [
      "\u001b[0;31m---------------------------------------------------------------------------\u001b[0m",
      "\u001b[0;31mNameError\u001b[0m                                 Traceback (most recent call last)",
      "Cell \u001b[0;32mIn[13], line 1\u001b[0m\n\u001b[0;32m----> 1\u001b[0m vienna_policy_effect \u001b[38;5;241m=\u001b[39m np\u001b[38;5;241m.\u001b[39mcolumn_stack((\u001b[43mvienna_policy_effect\u001b[49m[\u001b[38;5;241m0\u001b[39m], vienna_policy_effect[\u001b[38;5;241m1\u001b[39m], vienna_policy_effect[\u001b[38;5;241m2\u001b[39m]))\n\u001b[1;32m      3\u001b[0m \u001b[38;5;66;03m# Save the stacked array to a CSV file\u001b[39;00m\n\u001b[1;32m      4\u001b[0m \u001b[38;5;66;03m#np.savetxt('vienna_policy_result_100_runs2.csv', vienna_policy_effect, delimiter=',', header='desirability_entropy, agent_entropy, utility') \u001b[39;00m\n",
      "\u001b[0;31mNameError\u001b[0m: name 'vienna_policy_effect' is not defined"
     ]
    }
   ],
   "source": [
    "vienna_policy_effect = np.column_stack((vienna_policy_effect[0], vienna_policy_effect[1], vienna_policy_effect[2]))\n",
    "\n",
    "# Save the stacked array to a CSV file\n",
    "#np.savetxt('vienna_policy_result_100_runs2.csv', vienna_policy_effect, delimiter=',', header='desirability_entropy, agent_entropy, utility') "
   ]
  },
  {
   "cell_type": "markdown",
   "metadata": {},
   "source": [
    "# Plots for initial experiment "
   ]
  },
  {
   "cell_type": "code",
   "execution_count": 14,
   "metadata": {},
   "outputs": [
    {
     "ename": "FileNotFoundError",
     "evalue": "[Errno 2] No such file or directory: 'singapore_policy_100_runs_2.csv'",
     "output_type": "error",
     "traceback": [
      "\u001b[0;31m---------------------------------------------------------------------------\u001b[0m",
      "\u001b[0;31mFileNotFoundError\u001b[0m                         Traceback (most recent call last)",
      "Cell \u001b[0;32mIn[14], line 2\u001b[0m\n\u001b[1;32m      1\u001b[0m \u001b[38;5;66;03m# Load data again (in case not newly generated)\u001b[39;00m\n\u001b[0;32m----> 2\u001b[0m singapore_results \u001b[38;5;241m=\u001b[39m \u001b[43mpd\u001b[49m\u001b[38;5;241;43m.\u001b[39;49m\u001b[43mread_csv\u001b[49m\u001b[43m(\u001b[49m\u001b[38;5;124;43m'\u001b[39;49m\u001b[38;5;124;43msingapore_policy_100_runs_2.csv\u001b[39;49m\u001b[38;5;124;43m'\u001b[39;49m\u001b[43m)\u001b[49m\n\u001b[1;32m      3\u001b[0m vienna_results \u001b[38;5;241m=\u001b[39m pd\u001b[38;5;241m.\u001b[39mread_csv(\u001b[38;5;124m'\u001b[39m\u001b[38;5;124mvienna_policy_result_100_runs2.csv\u001b[39m\u001b[38;5;124m'\u001b[39m)\n\u001b[1;32m      4\u001b[0m random_results \u001b[38;5;241m=\u001b[39m pd\u001b[38;5;241m.\u001b[39mread_csv(\u001b[38;5;124m'\u001b[39m\u001b[38;5;124mno_policy_result_100_runs.csv\u001b[39m\u001b[38;5;124m'\u001b[39m)\n",
      "File \u001b[0;32m~/anaconda3/lib/python3.10/site-packages/pandas/io/parsers/readers.py:912\u001b[0m, in \u001b[0;36mread_csv\u001b[0;34m(filepath_or_buffer, sep, delimiter, header, names, index_col, usecols, dtype, engine, converters, true_values, false_values, skipinitialspace, skiprows, skipfooter, nrows, na_values, keep_default_na, na_filter, verbose, skip_blank_lines, parse_dates, infer_datetime_format, keep_date_col, date_parser, date_format, dayfirst, cache_dates, iterator, chunksize, compression, thousands, decimal, lineterminator, quotechar, quoting, doublequote, escapechar, comment, encoding, encoding_errors, dialect, on_bad_lines, delim_whitespace, low_memory, memory_map, float_precision, storage_options, dtype_backend)\u001b[0m\n\u001b[1;32m    899\u001b[0m kwds_defaults \u001b[38;5;241m=\u001b[39m _refine_defaults_read(\n\u001b[1;32m    900\u001b[0m     dialect,\n\u001b[1;32m    901\u001b[0m     delimiter,\n\u001b[0;32m   (...)\u001b[0m\n\u001b[1;32m    908\u001b[0m     dtype_backend\u001b[38;5;241m=\u001b[39mdtype_backend,\n\u001b[1;32m    909\u001b[0m )\n\u001b[1;32m    910\u001b[0m kwds\u001b[38;5;241m.\u001b[39mupdate(kwds_defaults)\n\u001b[0;32m--> 912\u001b[0m \u001b[38;5;28;01mreturn\u001b[39;00m \u001b[43m_read\u001b[49m\u001b[43m(\u001b[49m\u001b[43mfilepath_or_buffer\u001b[49m\u001b[43m,\u001b[49m\u001b[43m \u001b[49m\u001b[43mkwds\u001b[49m\u001b[43m)\u001b[49m\n",
      "File \u001b[0;32m~/anaconda3/lib/python3.10/site-packages/pandas/io/parsers/readers.py:577\u001b[0m, in \u001b[0;36m_read\u001b[0;34m(filepath_or_buffer, kwds)\u001b[0m\n\u001b[1;32m    574\u001b[0m _validate_names(kwds\u001b[38;5;241m.\u001b[39mget(\u001b[38;5;124m\"\u001b[39m\u001b[38;5;124mnames\u001b[39m\u001b[38;5;124m\"\u001b[39m, \u001b[38;5;28;01mNone\u001b[39;00m))\n\u001b[1;32m    576\u001b[0m \u001b[38;5;66;03m# Create the parser.\u001b[39;00m\n\u001b[0;32m--> 577\u001b[0m parser \u001b[38;5;241m=\u001b[39m \u001b[43mTextFileReader\u001b[49m\u001b[43m(\u001b[49m\u001b[43mfilepath_or_buffer\u001b[49m\u001b[43m,\u001b[49m\u001b[43m \u001b[49m\u001b[38;5;241;43m*\u001b[39;49m\u001b[38;5;241;43m*\u001b[39;49m\u001b[43mkwds\u001b[49m\u001b[43m)\u001b[49m\n\u001b[1;32m    579\u001b[0m \u001b[38;5;28;01mif\u001b[39;00m chunksize \u001b[38;5;129;01mor\u001b[39;00m iterator:\n\u001b[1;32m    580\u001b[0m     \u001b[38;5;28;01mreturn\u001b[39;00m parser\n",
      "File \u001b[0;32m~/anaconda3/lib/python3.10/site-packages/pandas/io/parsers/readers.py:1407\u001b[0m, in \u001b[0;36mTextFileReader.__init__\u001b[0;34m(self, f, engine, **kwds)\u001b[0m\n\u001b[1;32m   1404\u001b[0m     \u001b[38;5;28mself\u001b[39m\u001b[38;5;241m.\u001b[39moptions[\u001b[38;5;124m\"\u001b[39m\u001b[38;5;124mhas_index_names\u001b[39m\u001b[38;5;124m\"\u001b[39m] \u001b[38;5;241m=\u001b[39m kwds[\u001b[38;5;124m\"\u001b[39m\u001b[38;5;124mhas_index_names\u001b[39m\u001b[38;5;124m\"\u001b[39m]\n\u001b[1;32m   1406\u001b[0m \u001b[38;5;28mself\u001b[39m\u001b[38;5;241m.\u001b[39mhandles: IOHandles \u001b[38;5;241m|\u001b[39m \u001b[38;5;28;01mNone\u001b[39;00m \u001b[38;5;241m=\u001b[39m \u001b[38;5;28;01mNone\u001b[39;00m\n\u001b[0;32m-> 1407\u001b[0m \u001b[38;5;28mself\u001b[39m\u001b[38;5;241m.\u001b[39m_engine \u001b[38;5;241m=\u001b[39m \u001b[38;5;28;43mself\u001b[39;49m\u001b[38;5;241;43m.\u001b[39;49m\u001b[43m_make_engine\u001b[49m\u001b[43m(\u001b[49m\u001b[43mf\u001b[49m\u001b[43m,\u001b[49m\u001b[43m \u001b[49m\u001b[38;5;28;43mself\u001b[39;49m\u001b[38;5;241;43m.\u001b[39;49m\u001b[43mengine\u001b[49m\u001b[43m)\u001b[49m\n",
      "File \u001b[0;32m~/anaconda3/lib/python3.10/site-packages/pandas/io/parsers/readers.py:1661\u001b[0m, in \u001b[0;36mTextFileReader._make_engine\u001b[0;34m(self, f, engine)\u001b[0m\n\u001b[1;32m   1659\u001b[0m     \u001b[38;5;28;01mif\u001b[39;00m \u001b[38;5;124m\"\u001b[39m\u001b[38;5;124mb\u001b[39m\u001b[38;5;124m\"\u001b[39m \u001b[38;5;129;01mnot\u001b[39;00m \u001b[38;5;129;01min\u001b[39;00m mode:\n\u001b[1;32m   1660\u001b[0m         mode \u001b[38;5;241m+\u001b[39m\u001b[38;5;241m=\u001b[39m \u001b[38;5;124m\"\u001b[39m\u001b[38;5;124mb\u001b[39m\u001b[38;5;124m\"\u001b[39m\n\u001b[0;32m-> 1661\u001b[0m \u001b[38;5;28mself\u001b[39m\u001b[38;5;241m.\u001b[39mhandles \u001b[38;5;241m=\u001b[39m \u001b[43mget_handle\u001b[49m\u001b[43m(\u001b[49m\n\u001b[1;32m   1662\u001b[0m \u001b[43m    \u001b[49m\u001b[43mf\u001b[49m\u001b[43m,\u001b[49m\n\u001b[1;32m   1663\u001b[0m \u001b[43m    \u001b[49m\u001b[43mmode\u001b[49m\u001b[43m,\u001b[49m\n\u001b[1;32m   1664\u001b[0m \u001b[43m    \u001b[49m\u001b[43mencoding\u001b[49m\u001b[38;5;241;43m=\u001b[39;49m\u001b[38;5;28;43mself\u001b[39;49m\u001b[38;5;241;43m.\u001b[39;49m\u001b[43moptions\u001b[49m\u001b[38;5;241;43m.\u001b[39;49m\u001b[43mget\u001b[49m\u001b[43m(\u001b[49m\u001b[38;5;124;43m\"\u001b[39;49m\u001b[38;5;124;43mencoding\u001b[39;49m\u001b[38;5;124;43m\"\u001b[39;49m\u001b[43m,\u001b[49m\u001b[43m \u001b[49m\u001b[38;5;28;43;01mNone\u001b[39;49;00m\u001b[43m)\u001b[49m\u001b[43m,\u001b[49m\n\u001b[1;32m   1665\u001b[0m \u001b[43m    \u001b[49m\u001b[43mcompression\u001b[49m\u001b[38;5;241;43m=\u001b[39;49m\u001b[38;5;28;43mself\u001b[39;49m\u001b[38;5;241;43m.\u001b[39;49m\u001b[43moptions\u001b[49m\u001b[38;5;241;43m.\u001b[39;49m\u001b[43mget\u001b[49m\u001b[43m(\u001b[49m\u001b[38;5;124;43m\"\u001b[39;49m\u001b[38;5;124;43mcompression\u001b[39;49m\u001b[38;5;124;43m\"\u001b[39;49m\u001b[43m,\u001b[49m\u001b[43m \u001b[49m\u001b[38;5;28;43;01mNone\u001b[39;49;00m\u001b[43m)\u001b[49m\u001b[43m,\u001b[49m\n\u001b[1;32m   1666\u001b[0m \u001b[43m    \u001b[49m\u001b[43mmemory_map\u001b[49m\u001b[38;5;241;43m=\u001b[39;49m\u001b[38;5;28;43mself\u001b[39;49m\u001b[38;5;241;43m.\u001b[39;49m\u001b[43moptions\u001b[49m\u001b[38;5;241;43m.\u001b[39;49m\u001b[43mget\u001b[49m\u001b[43m(\u001b[49m\u001b[38;5;124;43m\"\u001b[39;49m\u001b[38;5;124;43mmemory_map\u001b[39;49m\u001b[38;5;124;43m\"\u001b[39;49m\u001b[43m,\u001b[49m\u001b[43m \u001b[49m\u001b[38;5;28;43;01mFalse\u001b[39;49;00m\u001b[43m)\u001b[49m\u001b[43m,\u001b[49m\n\u001b[1;32m   1667\u001b[0m \u001b[43m    \u001b[49m\u001b[43mis_text\u001b[49m\u001b[38;5;241;43m=\u001b[39;49m\u001b[43mis_text\u001b[49m\u001b[43m,\u001b[49m\n\u001b[1;32m   1668\u001b[0m \u001b[43m    \u001b[49m\u001b[43merrors\u001b[49m\u001b[38;5;241;43m=\u001b[39;49m\u001b[38;5;28;43mself\u001b[39;49m\u001b[38;5;241;43m.\u001b[39;49m\u001b[43moptions\u001b[49m\u001b[38;5;241;43m.\u001b[39;49m\u001b[43mget\u001b[49m\u001b[43m(\u001b[49m\u001b[38;5;124;43m\"\u001b[39;49m\u001b[38;5;124;43mencoding_errors\u001b[39;49m\u001b[38;5;124;43m\"\u001b[39;49m\u001b[43m,\u001b[49m\u001b[43m \u001b[49m\u001b[38;5;124;43m\"\u001b[39;49m\u001b[38;5;124;43mstrict\u001b[39;49m\u001b[38;5;124;43m\"\u001b[39;49m\u001b[43m)\u001b[49m\u001b[43m,\u001b[49m\n\u001b[1;32m   1669\u001b[0m \u001b[43m    \u001b[49m\u001b[43mstorage_options\u001b[49m\u001b[38;5;241;43m=\u001b[39;49m\u001b[38;5;28;43mself\u001b[39;49m\u001b[38;5;241;43m.\u001b[39;49m\u001b[43moptions\u001b[49m\u001b[38;5;241;43m.\u001b[39;49m\u001b[43mget\u001b[49m\u001b[43m(\u001b[49m\u001b[38;5;124;43m\"\u001b[39;49m\u001b[38;5;124;43mstorage_options\u001b[39;49m\u001b[38;5;124;43m\"\u001b[39;49m\u001b[43m,\u001b[49m\u001b[43m \u001b[49m\u001b[38;5;28;43;01mNone\u001b[39;49;00m\u001b[43m)\u001b[49m\u001b[43m,\u001b[49m\n\u001b[1;32m   1670\u001b[0m \u001b[43m\u001b[49m\u001b[43m)\u001b[49m\n\u001b[1;32m   1671\u001b[0m \u001b[38;5;28;01massert\u001b[39;00m \u001b[38;5;28mself\u001b[39m\u001b[38;5;241m.\u001b[39mhandles \u001b[38;5;129;01mis\u001b[39;00m \u001b[38;5;129;01mnot\u001b[39;00m \u001b[38;5;28;01mNone\u001b[39;00m\n\u001b[1;32m   1672\u001b[0m f \u001b[38;5;241m=\u001b[39m \u001b[38;5;28mself\u001b[39m\u001b[38;5;241m.\u001b[39mhandles\u001b[38;5;241m.\u001b[39mhandle\n",
      "File \u001b[0;32m~/anaconda3/lib/python3.10/site-packages/pandas/io/common.py:859\u001b[0m, in \u001b[0;36mget_handle\u001b[0;34m(path_or_buf, mode, encoding, compression, memory_map, is_text, errors, storage_options)\u001b[0m\n\u001b[1;32m    854\u001b[0m \u001b[38;5;28;01melif\u001b[39;00m \u001b[38;5;28misinstance\u001b[39m(handle, \u001b[38;5;28mstr\u001b[39m):\n\u001b[1;32m    855\u001b[0m     \u001b[38;5;66;03m# Check whether the filename is to be opened in binary mode.\u001b[39;00m\n\u001b[1;32m    856\u001b[0m     \u001b[38;5;66;03m# Binary mode does not support 'encoding' and 'newline'.\u001b[39;00m\n\u001b[1;32m    857\u001b[0m     \u001b[38;5;28;01mif\u001b[39;00m ioargs\u001b[38;5;241m.\u001b[39mencoding \u001b[38;5;129;01mand\u001b[39;00m \u001b[38;5;124m\"\u001b[39m\u001b[38;5;124mb\u001b[39m\u001b[38;5;124m\"\u001b[39m \u001b[38;5;129;01mnot\u001b[39;00m \u001b[38;5;129;01min\u001b[39;00m ioargs\u001b[38;5;241m.\u001b[39mmode:\n\u001b[1;32m    858\u001b[0m         \u001b[38;5;66;03m# Encoding\u001b[39;00m\n\u001b[0;32m--> 859\u001b[0m         handle \u001b[38;5;241m=\u001b[39m \u001b[38;5;28;43mopen\u001b[39;49m\u001b[43m(\u001b[49m\n\u001b[1;32m    860\u001b[0m \u001b[43m            \u001b[49m\u001b[43mhandle\u001b[49m\u001b[43m,\u001b[49m\n\u001b[1;32m    861\u001b[0m \u001b[43m            \u001b[49m\u001b[43mioargs\u001b[49m\u001b[38;5;241;43m.\u001b[39;49m\u001b[43mmode\u001b[49m\u001b[43m,\u001b[49m\n\u001b[1;32m    862\u001b[0m \u001b[43m            \u001b[49m\u001b[43mencoding\u001b[49m\u001b[38;5;241;43m=\u001b[39;49m\u001b[43mioargs\u001b[49m\u001b[38;5;241;43m.\u001b[39;49m\u001b[43mencoding\u001b[49m\u001b[43m,\u001b[49m\n\u001b[1;32m    863\u001b[0m \u001b[43m            \u001b[49m\u001b[43merrors\u001b[49m\u001b[38;5;241;43m=\u001b[39;49m\u001b[43merrors\u001b[49m\u001b[43m,\u001b[49m\n\u001b[1;32m    864\u001b[0m \u001b[43m            \u001b[49m\u001b[43mnewline\u001b[49m\u001b[38;5;241;43m=\u001b[39;49m\u001b[38;5;124;43m\"\u001b[39;49m\u001b[38;5;124;43m\"\u001b[39;49m\u001b[43m,\u001b[49m\n\u001b[1;32m    865\u001b[0m \u001b[43m        \u001b[49m\u001b[43m)\u001b[49m\n\u001b[1;32m    866\u001b[0m     \u001b[38;5;28;01melse\u001b[39;00m:\n\u001b[1;32m    867\u001b[0m         \u001b[38;5;66;03m# Binary mode\u001b[39;00m\n\u001b[1;32m    868\u001b[0m         handle \u001b[38;5;241m=\u001b[39m \u001b[38;5;28mopen\u001b[39m(handle, ioargs\u001b[38;5;241m.\u001b[39mmode)\n",
      "\u001b[0;31mFileNotFoundError\u001b[0m: [Errno 2] No such file or directory: 'singapore_policy_100_runs_2.csv'"
     ]
    }
   ],
   "source": [
    "# Load data again (in case not newly generated)\n",
    "singapore_results = pd.read_csv('singapore_policy_100_runs_2.csv')\n",
    "vienna_results = pd.read_csv('vienna_policy_result_100_runs2.csv')\n",
    "random_results = pd.read_csv('no_policy_result_100_runs.csv')"
   ]
  },
  {
   "cell_type": "code",
   "execution_count": 15,
   "metadata": {},
   "outputs": [
    {
     "ename": "NameError",
     "evalue": "name 'vienna_results' is not defined",
     "output_type": "error",
     "traceback": [
      "\u001b[0;31m---------------------------------------------------------------------------\u001b[0m",
      "\u001b[0;31mNameError\u001b[0m                                 Traceback (most recent call last)",
      "Cell \u001b[0;32mIn[15], line 1\u001b[0m\n\u001b[0;32m----> 1\u001b[0m desirability_vienna \u001b[38;5;241m=\u001b[39m \u001b[43mvienna_results\u001b[49m[\u001b[38;5;124m'\u001b[39m\u001b[38;5;124m# desirability_entropy\u001b[39m\u001b[38;5;124m'\u001b[39m]\u001b[38;5;241m.\u001b[39mto_numpy()\n\u001b[1;32m      2\u001b[0m desirability_singapore \u001b[38;5;241m=\u001b[39m singapore_results[\u001b[38;5;124m'\u001b[39m\u001b[38;5;124m# desirability_entropy\u001b[39m\u001b[38;5;124m'\u001b[39m]\u001b[38;5;241m.\u001b[39mto_numpy()\n\u001b[1;32m      3\u001b[0m desirability_random \u001b[38;5;241m=\u001b[39m random_results[\u001b[38;5;124m'\u001b[39m\u001b[38;5;124m# desirability_entropy\u001b[39m\u001b[38;5;124m'\u001b[39m]\u001b[38;5;241m.\u001b[39mto_numpy()\n",
      "\u001b[0;31mNameError\u001b[0m: name 'vienna_results' is not defined"
     ]
    }
   ],
   "source": [
    "desirability_vienna = vienna_results['# desirability_entropy'].to_numpy()\n",
    "desirability_singapore = singapore_results['# desirability_entropy'].to_numpy()\n",
    "desirability_random = random_results['# desirability_entropy'].to_numpy()\n",
    "\n",
    "agent_vienna = vienna_results[' agent_entropy'].to_numpy()\n",
    "agent_singapore = singapore_results[' agent_entropy'].to_numpy()\n",
    "agent_random = random_results[' agent_entropy'].to_numpy()\n",
    "\n",
    "utility_vienna = vienna_results[' utility'].to_numpy()\n",
    "utility_singapore = singapore_results[' utility'].to_numpy()\n",
    "utility_random = random_results[' utility'].to_numpy()\n",
    "\n",
    "plt.figure(dpi = 300, figsize = (10, 16))\n",
    "\n",
    "plt.subplot(311)\n",
    "# Create distribution plots for both datasets\n",
    "sns.histplot(desirability_vienna, kde=True, color='#63d298ff', label='Policy: Vienna', stat=\"density\")\n",
    "sns.histplot(desirability_singapore, kde=True, color='#fff176ff', label='Policy: Singapore', stat=\"density\")\n",
    "sns.histplot(desirability_random, kde=True, color='#ff5252ff', label='no policy', stat=\"density\")\n",
    "\n",
    "# Customize the plot\n",
    "plt.title('Desirability: Distribution Plots of different Policies')\n",
    "plt.xlabel('Value')\n",
    "plt.ylabel('Density')\n",
    "plt.legend()\n",
    "\n",
    "plt.subplot(312)\n",
    "# Create distribution plots for both datasets\n",
    "sns.histplot(agent_vienna, kde=True, color='#63d298ff', label='Policy: Vienna', stat=\"density\")\n",
    "sns.histplot(agent_singapore, kde=True, color='#fff176ff', label='Policy: Singapore', stat=\"density\")\n",
    "sns.histplot(agent_random, kde=True, color='#ff5252ff', label='no policy', stat=\"density\")\n",
    "\n",
    "# Customize the plot\n",
    "plt.title('Agent entropy: Distribution Plots of different Policies')\n",
    "plt.xlabel('Value')\n",
    "plt.ylabel('Density')\n",
    "\n",
    "plt.subplot(313)\n",
    "# Create distribution plots for both datasets\n",
    "sns.histplot(utility_vienna, kde=True, color='#63d298ff', label='Policy: Vienna', stat=\"density\")\n",
    "sns.histplot(utility_singapore, kde=True, color='#fff176ff', label='Policy: Singapore', stat=\"density\")\n",
    "sns.histplot(utility_random, kde=True, color='#ff5252ff', label='no policy', stat=\"density\")\n",
    "\n",
    "# Customize the plot\n",
    "plt.title('Average utility: Distribution Plots of different Policies')\n",
    "plt.xlabel('Value')\n",
    "plt.ylabel('Density')\n",
    "\n",
    "# Show the plot\n",
    "plt.savefig('Experiment_Results')\n",
    "plt.show()\n",
    "plt.close()"
   ]
  },
  {
   "cell_type": "markdown",
   "metadata": {},
   "source": [
    "# Local Sensitivity analysis; Varying Density "
   ]
  },
  {
   "cell_type": "markdown",
   "metadata": {},
   "source": [
    "## Functions:"
   ]
  },
  {
   "cell_type": "code",
   "execution_count": 16,
   "metadata": {},
   "outputs": [],
   "source": [
    "def run_sensitivity_analysis(model_class, fixed_params, variable_params, iterations, max_steps, data_collection_period, features_to_analyze, steps_to_skip=5):\n",
    "    # Perform the batch run with the specified parameters\n",
    "    results = batch_run(\n",
    "        model_class,\n",
    "        parameters={**fixed_params, **variable_params},\n",
    "        iterations=iterations,\n",
    "        max_steps=max_steps,\n",
    "        number_processes=None,\n",
    "        data_collection_period=data_collection_period,\n",
    "        display_progress=True\n",
    "    )\n",
    "    \n",
    "    # Convert the results to a DataFrame\n",
    "    results_df = pd.DataFrame(results)\n",
    "    \n",
    "    # Filter out the initial steps to skip\n",
    "    filtered_results = results_df[results_df['Step'] > steps_to_skip]\n",
    "    \n",
    "    # Prepare a dictionary to store the mean and std of the specified features\n",
    "    analysis_results = {}\n",
    "    \n",
    "    # Analyze each feature specified\n",
    "    for feature in features_to_analyze:\n",
    "        mean_feature = filtered_results.groupby(list(variable_params.keys()))[feature].mean().reset_index()\n",
    "        std_feature = filtered_results.groupby(list(variable_params.keys()))[feature].std().reset_index()\n",
    "        analysis_results[feature] = {\n",
    "            'mean': mean_feature,\n",
    "            'std': std_feature\n",
    "        }\n",
    "    \n",
    "    return analysis_results"
   ]
  },
  {
   "cell_type": "code",
   "execution_count": 17,
   "metadata": {},
   "outputs": [],
   "source": [
    "def plot_feature_analysis(feature_analysis, feature_name, variable_param_name):\n",
    "    mean_df = feature_analysis[feature_name]['mean']\n",
    "    std_df = feature_analysis[feature_name]['std']\n",
    "    \n",
    "    plt.figure(figsize=(10, 6), dpi=300)\n",
    "    \n",
    "    # Plot the mean with standard deviation as error bars\n",
    "    plt.errorbar(mean_df[variable_param_name], mean_df[feature_name], \n",
    "                 yerr=std_df[feature_name], fmt='o', capsize=5, \n",
    "                 label=f'Average {feature_name}', color='#63d298ff')\n",
    "    \n",
    "    plt.title(f'Average {feature_name} vs {variable_param_name} with Standard Deviation')\n",
    "    plt.xlabel(variable_param_name)\n",
    "    #plt.ylim(0,1)\n",
    "    plt.ylabel(feature_name)\n",
    "    plt.legend()\n",
    "    plt.grid(True)\n",
    "    plt.savefig('diff_singapore_param_entropy_desirable.png')\n",
    "    plt.show()"
   ]
  },
  {
   "cell_type": "code",
   "execution_count": 18,
   "metadata": {},
   "outputs": [],
   "source": [
    "def plot_feature_analysis_multiple(feature_analyses, feature_name, variable_param_name, labels=None):\n",
    "    \"\"\"\n",
    "    Plots the specified feature from multiple analyses on the same plot with different colors.\n",
    "    \n",
    "    Parameters:\n",
    "    feature_analyses (list of dict): List of feature analysis dictionaries containing 'mean' and 'std' data frames.\n",
    "    feature_name (str): Name of the feature to plot.\n",
    "    variable_param_name (str): Name of the variable parameter to plot on the X-axis.\n",
    "    labels (list of str): List of labels for the analyses. Defaults to None.\n",
    "    \"\"\"\n",
    "    \n",
    "    plt.figure(figsize=(10, 6), dpi=300)\n",
    "    colors = ['#63d298ff', '#ff5252ff', '#fff176ff'] # plt.cm.rainbow(np.linspace(0, 1, len(feature_analyses)))\n",
    "    \n",
    "    for i, feature_analysis in enumerate(feature_analyses):\n",
    "        mean_df = feature_analysis[feature_name]['mean']\n",
    "        std_df = feature_analysis[feature_name]['std']\n",
    "        label = labels[i] if labels else f\"Analysis {i+1}\"\n",
    "        \n",
    "        # Plot the mean with standard deviation as error bars\n",
    "        plt.errorbar(mean_df[variable_param_name], mean_df[feature_name], \n",
    "                     yerr=std_df[feature_name], fmt='o', capsize=5, \n",
    "                     label=label, color=colors[i])\n",
    "    \n",
    "    plt.title(f'Average {feature_name} over {variable_param_name}')\n",
    "    plt.xlabel(variable_param_name)\n",
    "    plt.ylabel(feature_name)\n",
    "    plt.legend()\n",
    "    plt.grid(True)\n",
    "    #plt.savefig('avarage_desirable_entropy_sigma_diff_policy.png')\n",
    "    plt.show()\n",
    "\n",
    "# Example usage:\n",
    "# Assuming `feature_analyses` is a list of dictionaries with the required structure\n",
    "# feature_analyses = [analysis1, analysis2, analysis3]\n",
    "# plot_feature_analysis_multiple(feature_analyses, 'feature_name', 'variable_param_name', labels=['Analysis 1', 'Analysis 2', 'Analysis 3'])"
   ]
  },
  {
   "cell_type": "markdown",
   "metadata": {},
   "source": [
    "## Example usage:"
   ]
  },
  {
   "cell_type": "code",
   "execution_count": 19,
   "metadata": {},
   "outputs": [],
   "source": [
    "iterations = 100\n",
    "max_steps = 30\n",
    "\n",
    "# Example usage:\n",
    "fixed_params = {\n",
    "    \"property_value_func\": modules.property_value_from_gdf,\n",
    "    \"income_func\": modules.income_func,\n",
    "    \"desirability_func\": modules.desirability_func,\n",
    "    \"update_interested_agents_func\": modules.update_interested_agents_concurrently,\n",
    "    \"utility_func\": modules.utility_func,\n",
    "    \"price_func\": modules.price_func,\n",
    "    \"compute_similar_neighbours\": modules.compute_similar_neighbours,\n",
    "    \"calculate_gi_star\": modules.calculate_gi_star,\n",
    "    \"price_func_cap\": modules.price_func_cap,\n",
    "    \"height\": 20,\n",
    "    \"width\": 20,\n",
    "    \"policy_singapore_threshold\": 0.8,\n",
    "    \"density\": 0.8,\n",
    "    \"minority_pc\": 0.2,\n",
    "    \"alpha\": 0.5,\n",
    "    \"income_scale\": 1.5,\n",
    "    \"property_value_weight\": 0.35,\n",
    "    \"mu_theta\": 0.8,\n",
    "    \"sigma_theta\": 0.3\n",
    "}\n",
    "\n",
    "variable_params = {\n",
    "    'density': np.linspace(0, 1, 10),\n",
    "}\n",
    "\n",
    "features_to_analyze = [\"Utility\", \"Agent entropy\", \"Desirability entropy\"]\n"
   ]
  },
  {
   "cell_type": "code",
   "execution_count": 20,
   "metadata": {},
   "outputs": [
    {
     "data": {
      "application/vnd.jupyter.widget-view+json": {
       "model_id": "1fb60755ba86485e86004a17404e20d4",
       "version_major": 2,
       "version_minor": 0
      },
      "text/plain": [
       "  0%|          | 0/1000 [00:00<?, ?it/s]"
      ]
     },
     "metadata": {},
     "output_type": "display_data"
    },
    {
     "name": "stderr",
     "output_type": "stream",
     "text": [
      "/Users/jennadevries/Desktop/FINAL_CODE/modules.py:67: UserWarning: Default value 0 (int) might not be best suitable with dtype=float64.\n",
      "  layer = mesa.space.PropertyLayer(name, width, height, 0)\n",
      "/Users/jennadevries/Desktop/FINAL_CODE/modules.py:67: FutureWarning: The new PropertyLayer and _PropertyGrid classes experimental. It may be changed or removed in any and all future releases, including patch releases.\n",
      "We would love to hear what you think about this new feature. If you have any thoughts, share them with us here: https://github.com/projectmesa/mesa/discussions/1932\n",
      "  layer = mesa.space.PropertyLayer(name, width, height, 0)\n",
      "Skipping field color: unsupported OGR type: 3\n",
      "/Users/jennadevries/Desktop/FINAL_CODE/modules.py:67: UserWarning: Default value 0 (int) might not be best suitable with dtype=float64.\n",
      "  layer = mesa.space.PropertyLayer(name, width, height, 0)\n",
      "/Users/jennadevries/Desktop/FINAL_CODE/modules.py:67: FutureWarning: The new PropertyLayer and _PropertyGrid classes experimental. It may be changed or removed in any and all future releases, including patch releases.\n",
      "We would love to hear what you think about this new feature. If you have any thoughts, share them with us here: https://github.com/projectmesa/mesa/discussions/1932\n",
      "  layer = mesa.space.PropertyLayer(name, width, height, 0)\n",
      "/Users/jennadevries/Desktop/FINAL_CODE/modules.py:67: UserWarning: Default value 0 (int) might not be best suitable with dtype=float64.\n",
      "  layer = mesa.space.PropertyLayer(name, width, height, 0)\n",
      "/Users/jennadevries/Desktop/FINAL_CODE/modules.py:67: FutureWarning: The new PropertyLayer and _PropertyGrid classes experimental. It may be changed or removed in any and all future releases, including patch releases.\n",
      "We would love to hear what you think about this new feature. If you have any thoughts, share them with us here: https://github.com/projectmesa/mesa/discussions/1932\n",
      "  layer = mesa.space.PropertyLayer(name, width, height, 0)\n",
      "Skipping field color: unsupported OGR type: 3\n",
      "Skipping field color: unsupported OGR type: 3\n",
      "/Users/jennadevries/Desktop/FINAL_CODE/modules.py:67: UserWarning: Default value 0 (int) might not be best suitable with dtype=float64.\n",
      "  layer = mesa.space.PropertyLayer(name, width, height, 0)\n",
      "/Users/jennadevries/Desktop/FINAL_CODE/modules.py:67: FutureWarning: The new PropertyLayer and _PropertyGrid classes experimental. It may be changed or removed in any and all future releases, including patch releases.\n",
      "We would love to hear what you think about this new feature. If you have any thoughts, share them with us here: https://github.com/projectmesa/mesa/discussions/1932\n",
      "  layer = mesa.space.PropertyLayer(name, width, height, 0)\n",
      "/Users/jennadevries/Desktop/FINAL_CODE/modules.py:67: UserWarning: Default value 0 (int) might not be best suitable with dtype=float64.\n",
      "  layer = mesa.space.PropertyLayer(name, width, height, 0)\n",
      "/Users/jennadevries/Desktop/FINAL_CODE/modules.py:67: FutureWarning: The new PropertyLayer and _PropertyGrid classes experimental. It may be changed or removed in any and all future releases, including patch releases.\n",
      "We would love to hear what you think about this new feature. If you have any thoughts, share them with us here: https://github.com/projectmesa/mesa/discussions/1932\n",
      "  layer = mesa.space.PropertyLayer(name, width, height, 0)\n",
      "/Users/jennadevries/Desktop/FINAL_CODE/modules.py:67: UserWarning: Default value 0 (int) might not be best suitable with dtype=float64.\n",
      "  layer = mesa.space.PropertyLayer(name, width, height, 0)\n",
      "/Users/jennadevries/Desktop/FINAL_CODE/modules.py:67: FutureWarning: The new PropertyLayer and _PropertyGrid classes experimental. It may be changed or removed in any and all future releases, including patch releases.\n",
      "We would love to hear what you think about this new feature. If you have any thoughts, share them with us here: https://github.com/projectmesa/mesa/discussions/1932\n",
      "  layer = mesa.space.PropertyLayer(name, width, height, 0)\n",
      "/Users/jennadevries/Desktop/FINAL_CODE/modules.py:67: UserWarning: Default value 0 (int) might not be best suitable with dtype=float64.\n",
      "  layer = mesa.space.PropertyLayer(name, width, height, 0)\n",
      "/Users/jennadevries/Desktop/FINAL_CODE/modules.py:67: FutureWarning: The new PropertyLayer and _PropertyGrid classes experimental. It may be changed or removed in any and all future releases, including patch releases.\n",
      "We would love to hear what you think about this new feature. If you have any thoughts, share them with us here: https://github.com/projectmesa/mesa/discussions/1932\n",
      "  layer = mesa.space.PropertyLayer(name, width, height, 0)\n",
      "/Users/jennadevries/Desktop/FINAL_CODE/modules.py:67: UserWarning: Default value 0 (int) might not be best suitable with dtype=float64.\n",
      "  layer = mesa.space.PropertyLayer(name, width, height, 0)\n",
      "/Users/jennadevries/Desktop/FINAL_CODE/modules.py:67: FutureWarning: The new PropertyLayer and _PropertyGrid classes experimental. It may be changed or removed in any and all future releases, including patch releases.\n",
      "We would love to hear what you think about this new feature. If you have any thoughts, share them with us here: https://github.com/projectmesa/mesa/discussions/1932\n",
      "  layer = mesa.space.PropertyLayer(name, width, height, 0)\n",
      "Skipping field color: unsupported OGR type: 3\n",
      "Skipping field color: unsupported OGR type: 3\n",
      "Skipping field color: unsupported OGR type: 3\n",
      "Skipping field color: unsupported OGR type: 3\n",
      "Skipping field color: unsupported OGR type: 3\n",
      "/Users/jennadevries/Desktop/FINAL_CODE/model.py:173: UserWarning: Default value 0.5 (float) might not be best suitable with dtype=float64.\n",
      "  self.desirability_layer = mesa.space.PropertyLayer(\"desirability\", width, height, 0.5)\n",
      "/Users/jennadevries/Desktop/FINAL_CODE/model.py:179: UserWarning: Default value 0 (int) might not be best suitable with dtype=float64.\n",
      "  self.interested_agents_layer = mesa.space.PropertyLayer(\"interested_agents\", width, height, 0)\n",
      "/Users/jennadevries/Desktop/FINAL_CODE/model.py:185: UserWarning: Default value 0.5 (float) might not be best suitable with dtype=float64.\n",
      "  self.utility_layer = mesa.space.PropertyLayer(\"utility\", width, height, 0.5)\n",
      "/Users/jennadevries/Desktop/FINAL_CODE/model.py:173: UserWarning: Default value 0.5 (float) might not be best suitable with dtype=float64.\n",
      "  self.desirability_layer = mesa.space.PropertyLayer(\"desirability\", width, height, 0.5)\n",
      "/Users/jennadevries/Desktop/FINAL_CODE/model.py:179: UserWarning: Default value 0 (int) might not be best suitable with dtype=float64.\n",
      "  self.interested_agents_layer = mesa.space.PropertyLayer(\"interested_agents\", width, height, 0)\n",
      "/Users/jennadevries/Desktop/FINAL_CODE/model.py:185: UserWarning: Default value 0.5 (float) might not be best suitable with dtype=float64.\n",
      "  self.utility_layer = mesa.space.PropertyLayer(\"utility\", width, height, 0.5)\n",
      "/Users/jennadevries/Desktop/FINAL_CODE/model.py:173: UserWarning: Default value 0.5 (float) might not be best suitable with dtype=float64.\n",
      "  self.desirability_layer = mesa.space.PropertyLayer(\"desirability\", width, height, 0.5)\n",
      "/Users/jennadevries/Desktop/FINAL_CODE/model.py:179: UserWarning: Default value 0 (int) might not be best suitable with dtype=float64.\n",
      "  self.interested_agents_layer = mesa.space.PropertyLayer(\"interested_agents\", width, height, 0)\n",
      "/Users/jennadevries/Desktop/FINAL_CODE/model.py:185: UserWarning: Default value 0.5 (float) might not be best suitable with dtype=float64.\n",
      "  self.utility_layer = mesa.space.PropertyLayer(\"utility\", width, height, 0.5)\n",
      "/Users/jennadevries/Desktop/FINAL_CODE/model.py:173: UserWarning: Default value 0.5 (float) might not be best suitable with dtype=float64.\n",
      "  self.desirability_layer = mesa.space.PropertyLayer(\"desirability\", width, height, 0.5)\n",
      "/Users/jennadevries/Desktop/FINAL_CODE/model.py:179: UserWarning: Default value 0 (int) might not be best suitable with dtype=float64.\n",
      "  self.interested_agents_layer = mesa.space.PropertyLayer(\"interested_agents\", width, height, 0)\n",
      "/Users/jennadevries/Desktop/FINAL_CODE/model.py:185: UserWarning: Default value 0.5 (float) might not be best suitable with dtype=float64.\n",
      "  self.utility_layer = mesa.space.PropertyLayer(\"utility\", width, height, 0.5)\n",
      "/Users/jennadevries/Desktop/FINAL_CODE/model.py:173: UserWarning: Default value 0.5 (float) might not be best suitable with dtype=float64.\n",
      "  self.desirability_layer = mesa.space.PropertyLayer(\"desirability\", width, height, 0.5)\n",
      "/Users/jennadevries/Desktop/FINAL_CODE/model.py:179: UserWarning: Default value 0 (int) might not be best suitable with dtype=float64.\n",
      "  self.interested_agents_layer = mesa.space.PropertyLayer(\"interested_agents\", width, height, 0)\n",
      "/Users/jennadevries/Desktop/FINAL_CODE/model.py:185: UserWarning: Default value 0.5 (float) might not be best suitable with dtype=float64.\n",
      "  self.utility_layer = mesa.space.PropertyLayer(\"utility\", width, height, 0.5)\n",
      "/Users/jennadevries/Desktop/FINAL_CODE/model.py:173: UserWarning: Default value 0.5 (float) might not be best suitable with dtype=float64.\n",
      "  self.desirability_layer = mesa.space.PropertyLayer(\"desirability\", width, height, 0.5)\n",
      "/Users/jennadevries/Desktop/FINAL_CODE/model.py:179: UserWarning: Default value 0 (int) might not be best suitable with dtype=float64.\n",
      "  self.interested_agents_layer = mesa.space.PropertyLayer(\"interested_agents\", width, height, 0)\n",
      "/Users/jennadevries/Desktop/FINAL_CODE/model.py:185: UserWarning: Default value 0.5 (float) might not be best suitable with dtype=float64.\n",
      "  self.utility_layer = mesa.space.PropertyLayer(\"utility\", width, height, 0.5)\n",
      "/Users/jennadevries/Desktop/FINAL_CODE/model.py:173: UserWarning: Default value 0.5 (float) might not be best suitable with dtype=float64.\n",
      "  self.desirability_layer = mesa.space.PropertyLayer(\"desirability\", width, height, 0.5)\n",
      "/Users/jennadevries/Desktop/FINAL_CODE/model.py:179: UserWarning: Default value 0 (int) might not be best suitable with dtype=float64.\n",
      "  self.interested_agents_layer = mesa.space.PropertyLayer(\"interested_agents\", width, height, 0)\n",
      "/Users/jennadevries/Desktop/FINAL_CODE/model.py:185: UserWarning: Default value 0.5 (float) might not be best suitable with dtype=float64.\n",
      "  self.utility_layer = mesa.space.PropertyLayer(\"utility\", width, height, 0.5)\n",
      "/Users/jennadevries/Desktop/FINAL_CODE/modules.py:137: RuntimeWarning: invalid value encountered in divide\n",
      "  return prop_value_weight * model.property_value_layer.data / most_expensive_prop + (1-prop_value_weight) * model.interested_agents_layer.data / num_agents\n",
      "/Users/jennadevries/Desktop/FINAL_CODE/modules.py:67: UserWarning: Default value 0 (int) might not be best suitable with dtype=float64.\n",
      "  layer = mesa.space.PropertyLayer(name, width, height, 0)\n",
      "/Users/jennadevries/Desktop/FINAL_CODE/model.py:173: UserWarning: Default value 0.5 (float) might not be best suitable with dtype=float64.\n",
      "  self.desirability_layer = mesa.space.PropertyLayer(\"desirability\", width, height, 0.5)\n",
      "/Users/jennadevries/Desktop/FINAL_CODE/model.py:179: UserWarning: Default value 0 (int) might not be best suitable with dtype=float64.\n",
      "  self.interested_agents_layer = mesa.space.PropertyLayer(\"interested_agents\", width, height, 0)\n",
      "/Users/jennadevries/Desktop/FINAL_CODE/model.py:185: UserWarning: Default value 0.5 (float) might not be best suitable with dtype=float64.\n",
      "  self.utility_layer = mesa.space.PropertyLayer(\"utility\", width, height, 0.5)\n",
      "Skipping field color: unsupported OGR type: 3\n",
      "/Users/jennadevries/Desktop/FINAL_CODE/modules.py:153: RuntimeWarning: invalid value encountered in scalar power\n",
      "  return theta**alpha*desirability**(1-alpha)\n",
      "/Users/jennadevries/Desktop/FINAL_CODE/modules.py:153: RuntimeWarning: invalid value encountered in scalar power\n",
      "  return theta**alpha*desirability**(1-alpha)\n",
      "/Users/jennadevries/Desktop/FINAL_CODE/modules.py:153: RuntimeWarning: invalid value encountered in scalar power\n",
      "  return theta**alpha*desirability**(1-alpha)\n",
      "/Users/jennadevries/Desktop/FINAL_CODE/model.py:173: UserWarning: Default value 0.5 (float) might not be best suitable with dtype=float64.\n",
      "  self.desirability_layer = mesa.space.PropertyLayer(\"desirability\", width, height, 0.5)\n",
      "/Users/jennadevries/Desktop/FINAL_CODE/model.py:179: UserWarning: Default value 0 (int) might not be best suitable with dtype=float64.\n",
      "  self.interested_agents_layer = mesa.space.PropertyLayer(\"interested_agents\", width, height, 0)\n",
      "/Users/jennadevries/Desktop/FINAL_CODE/model.py:185: UserWarning: Default value 0.5 (float) might not be best suitable with dtype=float64.\n",
      "  self.utility_layer = mesa.space.PropertyLayer(\"utility\", width, height, 0.5)\n",
      "/Users/jennadevries/Desktop/FINAL_CODE/modules.py:153: RuntimeWarning: invalid value encountered in scalar power\n",
      "  return theta**alpha*desirability**(1-alpha)\n",
      "/Users/jennadevries/Desktop/FINAL_CODE/modules.py:67: UserWarning: Default value 0 (int) might not be best suitable with dtype=float64.\n",
      "  layer = mesa.space.PropertyLayer(name, width, height, 0)\n",
      "Skipping field color: unsupported OGR type: 3\n",
      "/Users/jennadevries/Desktop/FINAL_CODE/model.py:173: UserWarning: Default value 0.5 (float) might not be best suitable with dtype=float64.\n",
      "  self.desirability_layer = mesa.space.PropertyLayer(\"desirability\", width, height, 0.5)\n",
      "/Users/jennadevries/Desktop/FINAL_CODE/model.py:179: UserWarning: Default value 0 (int) might not be best suitable with dtype=float64.\n",
      "  self.interested_agents_layer = mesa.space.PropertyLayer(\"interested_agents\", width, height, 0)\n",
      "/Users/jennadevries/Desktop/FINAL_CODE/model.py:185: UserWarning: Default value 0.5 (float) might not be best suitable with dtype=float64.\n",
      "  self.utility_layer = mesa.space.PropertyLayer(\"utility\", width, height, 0.5)\n",
      "/Users/jennadevries/Desktop/FINAL_CODE/modules.py:67: UserWarning: Default value 0 (int) might not be best suitable with dtype=float64.\n",
      "  layer = mesa.space.PropertyLayer(name, width, height, 0)\n",
      "Skipping field color: unsupported OGR type: 3\n",
      "/Users/jennadevries/Desktop/FINAL_CODE/model.py:173: UserWarning: Default value 0.5 (float) might not be best suitable with dtype=float64.\n",
      "  self.desirability_layer = mesa.space.PropertyLayer(\"desirability\", width, height, 0.5)\n",
      "/Users/jennadevries/Desktop/FINAL_CODE/model.py:179: UserWarning: Default value 0 (int) might not be best suitable with dtype=float64.\n",
      "  self.interested_agents_layer = mesa.space.PropertyLayer(\"interested_agents\", width, height, 0)\n",
      "/Users/jennadevries/Desktop/FINAL_CODE/model.py:185: UserWarning: Default value 0.5 (float) might not be best suitable with dtype=float64.\n",
      "  self.utility_layer = mesa.space.PropertyLayer(\"utility\", width, height, 0.5)\n",
      "/Users/jennadevries/Desktop/FINAL_CODE/modules.py:137: RuntimeWarning: invalid value encountered in divide\n",
      "  return prop_value_weight * model.property_value_layer.data / most_expensive_prop + (1-prop_value_weight) * model.interested_agents_layer.data / num_agents\n",
      "/Users/jennadevries/Desktop/FINAL_CODE/modules.py:67: UserWarning: Default value 0 (int) might not be best suitable with dtype=float64.\n",
      "  layer = mesa.space.PropertyLayer(name, width, height, 0)\n",
      "Skipping field color: unsupported OGR type: 3\n",
      "/Users/jennadevries/Desktop/FINAL_CODE/model.py:173: UserWarning: Default value 0.5 (float) might not be best suitable with dtype=float64.\n",
      "  self.desirability_layer = mesa.space.PropertyLayer(\"desirability\", width, height, 0.5)\n",
      "/Users/jennadevries/Desktop/FINAL_CODE/model.py:179: UserWarning: Default value 0 (int) might not be best suitable with dtype=float64.\n",
      "  self.interested_agents_layer = mesa.space.PropertyLayer(\"interested_agents\", width, height, 0)\n",
      "/Users/jennadevries/Desktop/FINAL_CODE/model.py:185: UserWarning: Default value 0.5 (float) might not be best suitable with dtype=float64.\n",
      "  self.utility_layer = mesa.space.PropertyLayer(\"utility\", width, height, 0.5)\n",
      "/Users/jennadevries/Desktop/FINAL_CODE/modules.py:153: RuntimeWarning: invalid value encountered in scalar power\n",
      "  return theta**alpha*desirability**(1-alpha)\n",
      "/Users/jennadevries/Desktop/FINAL_CODE/modules.py:67: UserWarning: Default value 0 (int) might not be best suitable with dtype=float64.\n",
      "  layer = mesa.space.PropertyLayer(name, width, height, 0)\n",
      "Skipping field color: unsupported OGR type: 3\n",
      "/Users/jennadevries/Desktop/FINAL_CODE/model.py:173: UserWarning: Default value 0.5 (float) might not be best suitable with dtype=float64.\n",
      "  self.desirability_layer = mesa.space.PropertyLayer(\"desirability\", width, height, 0.5)\n",
      "/Users/jennadevries/Desktop/FINAL_CODE/model.py:179: UserWarning: Default value 0 (int) might not be best suitable with dtype=float64.\n",
      "  self.interested_agents_layer = mesa.space.PropertyLayer(\"interested_agents\", width, height, 0)\n",
      "/Users/jennadevries/Desktop/FINAL_CODE/model.py:185: UserWarning: Default value 0.5 (float) might not be best suitable with dtype=float64.\n",
      "  self.utility_layer = mesa.space.PropertyLayer(\"utility\", width, height, 0.5)\n",
      "/Users/jennadevries/Desktop/FINAL_CODE/modules.py:67: UserWarning: Default value 0 (int) might not be best suitable with dtype=float64.\n",
      "  layer = mesa.space.PropertyLayer(name, width, height, 0)\n",
      "Skipping field color: unsupported OGR type: 3\n",
      "/Users/jennadevries/Desktop/FINAL_CODE/modules.py:153: RuntimeWarning: invalid value encountered in scalar power\n",
      "  return theta**alpha*desirability**(1-alpha)\n",
      "/Users/jennadevries/Desktop/FINAL_CODE/modules.py:67: UserWarning: Default value 0 (int) might not be best suitable with dtype=float64.\n",
      "  layer = mesa.space.PropertyLayer(name, width, height, 0)\n",
      "Skipping field color: unsupported OGR type: 3\n",
      "/Users/jennadevries/Desktop/FINAL_CODE/modules.py:67: UserWarning: Default value 0 (int) might not be best suitable with dtype=float64.\n",
      "  layer = mesa.space.PropertyLayer(name, width, height, 0)\n",
      "/Users/jennadevries/Desktop/FINAL_CODE/model.py:173: UserWarning: Default value 0.5 (float) might not be best suitable with dtype=float64.\n",
      "  self.desirability_layer = mesa.space.PropertyLayer(\"desirability\", width, height, 0.5)\n",
      "/Users/jennadevries/Desktop/FINAL_CODE/model.py:179: UserWarning: Default value 0 (int) might not be best suitable with dtype=float64.\n",
      "  self.interested_agents_layer = mesa.space.PropertyLayer(\"interested_agents\", width, height, 0)\n",
      "/Users/jennadevries/Desktop/FINAL_CODE/model.py:185: UserWarning: Default value 0.5 (float) might not be best suitable with dtype=float64.\n",
      "  self.utility_layer = mesa.space.PropertyLayer(\"utility\", width, height, 0.5)\n",
      "Skipping field color: unsupported OGR type: 3\n",
      "/Users/jennadevries/Desktop/FINAL_CODE/modules.py:67: UserWarning: Default value 0 (int) might not be best suitable with dtype=float64.\n",
      "  layer = mesa.space.PropertyLayer(name, width, height, 0)\n",
      "Skipping field color: unsupported OGR type: 3\n",
      "/Users/jennadevries/Desktop/FINAL_CODE/model.py:173: UserWarning: Default value 0.5 (float) might not be best suitable with dtype=float64.\n",
      "  self.desirability_layer = mesa.space.PropertyLayer(\"desirability\", width, height, 0.5)\n",
      "/Users/jennadevries/Desktop/FINAL_CODE/model.py:179: UserWarning: Default value 0 (int) might not be best suitable with dtype=float64.\n",
      "  self.interested_agents_layer = mesa.space.PropertyLayer(\"interested_agents\", width, height, 0)\n",
      "/Users/jennadevries/Desktop/FINAL_CODE/model.py:185: UserWarning: Default value 0.5 (float) might not be best suitable with dtype=float64.\n",
      "  self.utility_layer = mesa.space.PropertyLayer(\"utility\", width, height, 0.5)\n",
      "/Users/jennadevries/Desktop/FINAL_CODE/model.py:173: UserWarning: Default value 0.5 (float) might not be best suitable with dtype=float64.\n",
      "  self.desirability_layer = mesa.space.PropertyLayer(\"desirability\", width, height, 0.5)\n",
      "/Users/jennadevries/Desktop/FINAL_CODE/model.py:179: UserWarning: Default value 0 (int) might not be best suitable with dtype=float64.\n",
      "  self.interested_agents_layer = mesa.space.PropertyLayer(\"interested_agents\", width, height, 0)\n",
      "/Users/jennadevries/Desktop/FINAL_CODE/model.py:185: UserWarning: Default value 0.5 (float) might not be best suitable with dtype=float64.\n",
      "  self.utility_layer = mesa.space.PropertyLayer(\"utility\", width, height, 0.5)\n",
      "/Users/jennadevries/Desktop/FINAL_CODE/modules.py:153: RuntimeWarning: invalid value encountered in scalar power\n",
      "  return theta**alpha*desirability**(1-alpha)\n",
      "/Users/jennadevries/Desktop/FINAL_CODE/model.py:173: UserWarning: Default value 0.5 (float) might not be best suitable with dtype=float64.\n",
      "  self.desirability_layer = mesa.space.PropertyLayer(\"desirability\", width, height, 0.5)\n",
      "/Users/jennadevries/Desktop/FINAL_CODE/model.py:179: UserWarning: Default value 0 (int) might not be best suitable with dtype=float64.\n",
      "  self.interested_agents_layer = mesa.space.PropertyLayer(\"interested_agents\", width, height, 0)\n",
      "/Users/jennadevries/Desktop/FINAL_CODE/model.py:185: UserWarning: Default value 0.5 (float) might not be best suitable with dtype=float64.\n",
      "  self.utility_layer = mesa.space.PropertyLayer(\"utility\", width, height, 0.5)\n",
      "/Users/jennadevries/Desktop/FINAL_CODE/modules.py:153: RuntimeWarning: invalid value encountered in scalar power\n",
      "  return theta**alpha*desirability**(1-alpha)\n",
      "/Users/jennadevries/Desktop/FINAL_CODE/modules.py:153: RuntimeWarning: invalid value encountered in scalar power\n",
      "  return theta**alpha*desirability**(1-alpha)\n",
      "/Users/jennadevries/Desktop/FINAL_CODE/modules.py:67: UserWarning: Default value 0 (int) might not be best suitable with dtype=float64.\n",
      "  layer = mesa.space.PropertyLayer(name, width, height, 0)\n",
      "/Users/jennadevries/Desktop/FINAL_CODE/modules.py:153: RuntimeWarning: invalid value encountered in scalar power\n",
      "  return theta**alpha*desirability**(1-alpha)\n",
      "Skipping field color: unsupported OGR type: 3\n",
      "/Users/jennadevries/Desktop/FINAL_CODE/modules.py:67: UserWarning: Default value 0 (int) might not be best suitable with dtype=float64.\n",
      "  layer = mesa.space.PropertyLayer(name, width, height, 0)\n",
      "Skipping field color: unsupported OGR type: 3\n",
      "/Users/jennadevries/Desktop/FINAL_CODE/model.py:173: UserWarning: Default value 0.5 (float) might not be best suitable with dtype=float64.\n",
      "  self.desirability_layer = mesa.space.PropertyLayer(\"desirability\", width, height, 0.5)\n",
      "/Users/jennadevries/Desktop/FINAL_CODE/model.py:179: UserWarning: Default value 0 (int) might not be best suitable with dtype=float64.\n",
      "  self.interested_agents_layer = mesa.space.PropertyLayer(\"interested_agents\", width, height, 0)\n",
      "/Users/jennadevries/Desktop/FINAL_CODE/model.py:185: UserWarning: Default value 0.5 (float) might not be best suitable with dtype=float64.\n",
      "  self.utility_layer = mesa.space.PropertyLayer(\"utility\", width, height, 0.5)\n",
      "/Users/jennadevries/Desktop/FINAL_CODE/modules.py:67: UserWarning: Default value 0 (int) might not be best suitable with dtype=float64.\n",
      "  layer = mesa.space.PropertyLayer(name, width, height, 0)\n",
      "Skipping field color: unsupported OGR type: 3\n",
      "/Users/jennadevries/Desktop/FINAL_CODE/model.py:173: UserWarning: Default value 0.5 (float) might not be best suitable with dtype=float64.\n",
      "  self.desirability_layer = mesa.space.PropertyLayer(\"desirability\", width, height, 0.5)\n",
      "/Users/jennadevries/Desktop/FINAL_CODE/model.py:179: UserWarning: Default value 0 (int) might not be best suitable with dtype=float64.\n",
      "  self.interested_agents_layer = mesa.space.PropertyLayer(\"interested_agents\", width, height, 0)\n",
      "/Users/jennadevries/Desktop/FINAL_CODE/model.py:185: UserWarning: Default value 0.5 (float) might not be best suitable with dtype=float64.\n",
      "  self.utility_layer = mesa.space.PropertyLayer(\"utility\", width, height, 0.5)\n",
      "/Users/jennadevries/Desktop/FINAL_CODE/model.py:173: UserWarning: Default value 0.5 (float) might not be best suitable with dtype=float64.\n",
      "  self.desirability_layer = mesa.space.PropertyLayer(\"desirability\", width, height, 0.5)\n",
      "/Users/jennadevries/Desktop/FINAL_CODE/model.py:179: UserWarning: Default value 0 (int) might not be best suitable with dtype=float64.\n",
      "  self.interested_agents_layer = mesa.space.PropertyLayer(\"interested_agents\", width, height, 0)\n",
      "/Users/jennadevries/Desktop/FINAL_CODE/model.py:185: UserWarning: Default value 0.5 (float) might not be best suitable with dtype=float64.\n",
      "  self.utility_layer = mesa.space.PropertyLayer(\"utility\", width, height, 0.5)\n",
      "/Users/jennadevries/Desktop/FINAL_CODE/modules.py:67: UserWarning: Default value 0 (int) might not be best suitable with dtype=float64.\n",
      "  layer = mesa.space.PropertyLayer(name, width, height, 0)\n",
      "Skipping field color: unsupported OGR type: 3\n"
     ]
    },
    {
     "ename": "KeyboardInterrupt",
     "evalue": "",
     "output_type": "error",
     "traceback": [
      "\u001b[0;31m---------------------------------------------------------------------------\u001b[0m",
      "\u001b[0;31mIndexError\u001b[0m                                Traceback (most recent call last)",
      "File \u001b[0;32m~/anaconda3/lib/python3.10/multiprocessing/pool.py:856\u001b[0m, in \u001b[0;36mIMapIterator.next\u001b[0;34m(self, timeout)\u001b[0m\n\u001b[1;32m    855\u001b[0m \u001b[38;5;28;01mtry\u001b[39;00m:\n\u001b[0;32m--> 856\u001b[0m     item \u001b[38;5;241m=\u001b[39m \u001b[38;5;28;43mself\u001b[39;49m\u001b[38;5;241;43m.\u001b[39;49m\u001b[43m_items\u001b[49m\u001b[38;5;241;43m.\u001b[39;49m\u001b[43mpopleft\u001b[49m\u001b[43m(\u001b[49m\u001b[43m)\u001b[49m\n\u001b[1;32m    857\u001b[0m \u001b[38;5;28;01mexcept\u001b[39;00m \u001b[38;5;167;01mIndexError\u001b[39;00m:\n",
      "\u001b[0;31mIndexError\u001b[0m: pop from an empty deque",
      "\nDuring handling of the above exception, another exception occurred:\n",
      "\u001b[0;31mKeyboardInterrupt\u001b[0m                         Traceback (most recent call last)",
      "Cell \u001b[0;32mIn[20], line 2\u001b[0m\n\u001b[1;32m      1\u001b[0m \u001b[38;5;66;03m# Run the sensitivity analysis\u001b[39;00m\n\u001b[0;32m----> 2\u001b[0m analysis_density_no_policy \u001b[38;5;241m=\u001b[39m \u001b[43mrun_sensitivity_analysis\u001b[49m\u001b[43m(\u001b[49m\n\u001b[1;32m      3\u001b[0m \u001b[43m    \u001b[49m\u001b[43mmodel_class\u001b[49m\u001b[38;5;241;43m=\u001b[39;49m\u001b[43mmodel\u001b[49m\u001b[38;5;241;43m.\u001b[39;49m\u001b[43mSchelling\u001b[49m\u001b[43m,\u001b[49m\n\u001b[1;32m      4\u001b[0m \u001b[43m    \u001b[49m\u001b[43mfixed_params\u001b[49m\u001b[38;5;241;43m=\u001b[39;49m\u001b[43mfixed_params\u001b[49m\u001b[43m,\u001b[49m\n\u001b[1;32m      5\u001b[0m \u001b[43m    \u001b[49m\u001b[43mvariable_params\u001b[49m\u001b[38;5;241;43m=\u001b[39;49m\u001b[43mvariable_params\u001b[49m\u001b[43m,\u001b[49m\n\u001b[1;32m      6\u001b[0m \u001b[43m    \u001b[49m\u001b[43miterations\u001b[49m\u001b[38;5;241;43m=\u001b[39;49m\u001b[43miterations\u001b[49m\u001b[43m,\u001b[49m\n\u001b[1;32m      7\u001b[0m \u001b[43m    \u001b[49m\u001b[43mmax_steps\u001b[49m\u001b[38;5;241;43m=\u001b[39;49m\u001b[43mmax_steps\u001b[49m\u001b[43m,\u001b[49m\n\u001b[1;32m      8\u001b[0m \u001b[43m    \u001b[49m\u001b[43mdata_collection_period\u001b[49m\u001b[38;5;241;43m=\u001b[39;49m\u001b[38;5;241;43m8\u001b[39;49m\u001b[43m,\u001b[49m\n\u001b[1;32m      9\u001b[0m \u001b[43m    \u001b[49m\u001b[43mfeatures_to_analyze\u001b[49m\u001b[38;5;241;43m=\u001b[39;49m\u001b[43mfeatures_to_analyze\u001b[49m\n\u001b[1;32m     10\u001b[0m \u001b[43m)\u001b[49m\n",
      "Cell \u001b[0;32mIn[16], line 3\u001b[0m, in \u001b[0;36mrun_sensitivity_analysis\u001b[0;34m(model_class, fixed_params, variable_params, iterations, max_steps, data_collection_period, features_to_analyze, steps_to_skip)\u001b[0m\n\u001b[1;32m      1\u001b[0m \u001b[38;5;28;01mdef\u001b[39;00m \u001b[38;5;21mrun_sensitivity_analysis\u001b[39m(model_class, fixed_params, variable_params, iterations, max_steps, data_collection_period, features_to_analyze, steps_to_skip\u001b[38;5;241m=\u001b[39m\u001b[38;5;241m5\u001b[39m):\n\u001b[1;32m      2\u001b[0m     \u001b[38;5;66;03m# Perform the batch run with the specified parameters\u001b[39;00m\n\u001b[0;32m----> 3\u001b[0m     results \u001b[38;5;241m=\u001b[39m \u001b[43mbatch_run\u001b[49m\u001b[43m(\u001b[49m\n\u001b[1;32m      4\u001b[0m \u001b[43m        \u001b[49m\u001b[43mmodel_class\u001b[49m\u001b[43m,\u001b[49m\n\u001b[1;32m      5\u001b[0m \u001b[43m        \u001b[49m\u001b[43mparameters\u001b[49m\u001b[38;5;241;43m=\u001b[39;49m\u001b[43m{\u001b[49m\u001b[38;5;241;43m*\u001b[39;49m\u001b[38;5;241;43m*\u001b[39;49m\u001b[43mfixed_params\u001b[49m\u001b[43m,\u001b[49m\u001b[43m \u001b[49m\u001b[38;5;241;43m*\u001b[39;49m\u001b[38;5;241;43m*\u001b[39;49m\u001b[43mvariable_params\u001b[49m\u001b[43m}\u001b[49m\u001b[43m,\u001b[49m\n\u001b[1;32m      6\u001b[0m \u001b[43m        \u001b[49m\u001b[43miterations\u001b[49m\u001b[38;5;241;43m=\u001b[39;49m\u001b[43miterations\u001b[49m\u001b[43m,\u001b[49m\n\u001b[1;32m      7\u001b[0m \u001b[43m        \u001b[49m\u001b[43mmax_steps\u001b[49m\u001b[38;5;241;43m=\u001b[39;49m\u001b[43mmax_steps\u001b[49m\u001b[43m,\u001b[49m\n\u001b[1;32m      8\u001b[0m \u001b[43m        \u001b[49m\u001b[43mnumber_processes\u001b[49m\u001b[38;5;241;43m=\u001b[39;49m\u001b[38;5;28;43;01mNone\u001b[39;49;00m\u001b[43m,\u001b[49m\n\u001b[1;32m      9\u001b[0m \u001b[43m        \u001b[49m\u001b[43mdata_collection_period\u001b[49m\u001b[38;5;241;43m=\u001b[39;49m\u001b[43mdata_collection_period\u001b[49m\u001b[43m,\u001b[49m\n\u001b[1;32m     10\u001b[0m \u001b[43m        \u001b[49m\u001b[43mdisplay_progress\u001b[49m\u001b[38;5;241;43m=\u001b[39;49m\u001b[38;5;28;43;01mTrue\u001b[39;49;00m\n\u001b[1;32m     11\u001b[0m \u001b[43m    \u001b[49m\u001b[43m)\u001b[49m\n\u001b[1;32m     13\u001b[0m     \u001b[38;5;66;03m# Convert the results to a DataFrame\u001b[39;00m\n\u001b[1;32m     14\u001b[0m     results_df \u001b[38;5;241m=\u001b[39m pd\u001b[38;5;241m.\u001b[39mDataFrame(results)\n",
      "File \u001b[0;32m~/anaconda3/lib/python3.10/site-packages/mesa/batchrunner.py:71\u001b[0m, in \u001b[0;36mbatch_run\u001b[0;34m(model_cls, parameters, number_processes, iterations, data_collection_period, max_steps, display_progress)\u001b[0m\n\u001b[1;32m     69\u001b[0m \u001b[38;5;28;01melse\u001b[39;00m:\n\u001b[1;32m     70\u001b[0m     \u001b[38;5;28;01mwith\u001b[39;00m Pool(number_processes) \u001b[38;5;28;01mas\u001b[39;00m p:\n\u001b[0;32m---> 71\u001b[0m         \u001b[38;5;28;01mfor\u001b[39;00m data \u001b[38;5;129;01min\u001b[39;00m p\u001b[38;5;241m.\u001b[39mimap_unordered(process_func, runs_list):\n\u001b[1;32m     72\u001b[0m             results\u001b[38;5;241m.\u001b[39mextend(data)\n\u001b[1;32m     73\u001b[0m             pbar\u001b[38;5;241m.\u001b[39mupdate()\n",
      "File \u001b[0;32m~/anaconda3/lib/python3.10/multiprocessing/pool.py:861\u001b[0m, in \u001b[0;36mIMapIterator.next\u001b[0;34m(self, timeout)\u001b[0m\n\u001b[1;32m    859\u001b[0m     \u001b[38;5;28mself\u001b[39m\u001b[38;5;241m.\u001b[39m_pool \u001b[38;5;241m=\u001b[39m \u001b[38;5;28;01mNone\u001b[39;00m\n\u001b[1;32m    860\u001b[0m     \u001b[38;5;28;01mraise\u001b[39;00m \u001b[38;5;167;01mStopIteration\u001b[39;00m \u001b[38;5;28;01mfrom\u001b[39;00m \u001b[38;5;28;01mNone\u001b[39;00m\n\u001b[0;32m--> 861\u001b[0m \u001b[38;5;28;43mself\u001b[39;49m\u001b[38;5;241;43m.\u001b[39;49m\u001b[43m_cond\u001b[49m\u001b[38;5;241;43m.\u001b[39;49m\u001b[43mwait\u001b[49m\u001b[43m(\u001b[49m\u001b[43mtimeout\u001b[49m\u001b[43m)\u001b[49m\n\u001b[1;32m    862\u001b[0m \u001b[38;5;28;01mtry\u001b[39;00m:\n\u001b[1;32m    863\u001b[0m     item \u001b[38;5;241m=\u001b[39m \u001b[38;5;28mself\u001b[39m\u001b[38;5;241m.\u001b[39m_items\u001b[38;5;241m.\u001b[39mpopleft()\n",
      "File \u001b[0;32m~/anaconda3/lib/python3.10/threading.py:320\u001b[0m, in \u001b[0;36mCondition.wait\u001b[0;34m(self, timeout)\u001b[0m\n\u001b[1;32m    318\u001b[0m \u001b[38;5;28;01mtry\u001b[39;00m:    \u001b[38;5;66;03m# restore state no matter what (e.g., KeyboardInterrupt)\u001b[39;00m\n\u001b[1;32m    319\u001b[0m     \u001b[38;5;28;01mif\u001b[39;00m timeout \u001b[38;5;129;01mis\u001b[39;00m \u001b[38;5;28;01mNone\u001b[39;00m:\n\u001b[0;32m--> 320\u001b[0m         \u001b[43mwaiter\u001b[49m\u001b[38;5;241;43m.\u001b[39;49m\u001b[43macquire\u001b[49m\u001b[43m(\u001b[49m\u001b[43m)\u001b[49m\n\u001b[1;32m    321\u001b[0m         gotit \u001b[38;5;241m=\u001b[39m \u001b[38;5;28;01mTrue\u001b[39;00m\n\u001b[1;32m    322\u001b[0m     \u001b[38;5;28;01melse\u001b[39;00m:\n",
      "\u001b[0;31mKeyboardInterrupt\u001b[0m: "
     ]
    }
   ],
   "source": [
    "# Run the sensitivity analysis\n",
    "analysis_density_no_policy = run_sensitivity_analysis(\n",
    "    model_class=model.Schelling,\n",
    "    fixed_params=fixed_params,\n",
    "    variable_params=variable_params,\n",
    "    iterations=iterations,\n",
    "    max_steps=max_steps,\n",
    "    data_collection_period=8,\n",
    "    features_to_analyze=features_to_analyze\n",
    ")\n"
   ]
  },
  {
   "cell_type": "code",
   "execution_count": 21,
   "metadata": {},
   "outputs": [
    {
     "ename": "NameError",
     "evalue": "name 'analysis_density_no_policy' is not defined",
     "output_type": "error",
     "traceback": [
      "\u001b[0;31m---------------------------------------------------------------------------\u001b[0m",
      "\u001b[0;31mNameError\u001b[0m                                 Traceback (most recent call last)",
      "Cell \u001b[0;32mIn[21], line 1\u001b[0m\n\u001b[0;32m----> 1\u001b[0m plot_feature_analysis(\u001b[43manalysis_density_no_policy\u001b[49m, \u001b[38;5;124m\"\u001b[39m\u001b[38;5;124mAgent entropy\u001b[39m\u001b[38;5;124m\"\u001b[39m, \u001b[38;5;124m\"\u001b[39m\u001b[38;5;124mdensity\u001b[39m\u001b[38;5;124m\"\u001b[39m)\n\u001b[1;32m      2\u001b[0m plot_feature_analysis(analysis_density_no_policy,\u001b[38;5;124m\"\u001b[39m\u001b[38;5;124mDesirability entropy\u001b[39m\u001b[38;5;124m\"\u001b[39m, \u001b[38;5;124m\"\u001b[39m\u001b[38;5;124mdensity\u001b[39m\u001b[38;5;124m\"\u001b[39m)\n\u001b[1;32m      3\u001b[0m plot_feature_analysis(analysis_density_no_policy, \u001b[38;5;124m\"\u001b[39m\u001b[38;5;124mUtility\u001b[39m\u001b[38;5;124m\"\u001b[39m, \u001b[38;5;124m\"\u001b[39m\u001b[38;5;124mdensity\u001b[39m\u001b[38;5;124m\"\u001b[39m)\n",
      "\u001b[0;31mNameError\u001b[0m: name 'analysis_density_no_policy' is not defined"
     ]
    }
   ],
   "source": [
    "plot_feature_analysis(analysis_density_no_policy, \"Agent entropy\", \"density\")\n",
    "plot_feature_analysis(analysis_density_no_policy,\"Desirability entropy\", \"density\")\n",
    "plot_feature_analysis(analysis_density_no_policy, \"Utility\", \"density\")"
   ]
  },
  {
   "cell_type": "markdown",
   "metadata": {},
   "source": [
    "# Statistical testing of results"
   ]
  },
  {
   "cell_type": "code",
   "execution_count": 23,
   "metadata": {},
   "outputs": [],
   "source": [
    "# Load the data from CSV files\n",
    "data_vienna_policy = pd.read_csv(\"vienna_policy_result_100_runs2.csv\")\n",
    "data_singapore_policy = pd.read_csv(\"singapore_policy_100_runs_2.csv\")\n",
    "data_no_policy = pd.read_csv(\"no_policy_result_100_runs.csv\")\n",
    "\n",
    "data_vienna_policy.columns = data_vienna_policy.columns.str.strip()\n",
    "data_no_policy.columns = data_no_policy.columns.str.strip()\n",
    "data_singapore_policy.columns = data_singapore_policy.columns.str.strip()\n",
    "\n",
    "# Metrics to compare\n",
    "metrics = [\"# desirability_entropy\", \"agent_entropy\", \"utility\"]"
   ]
  },
  {
   "cell_type": "code",
   "execution_count": null,
   "metadata": {},
   "outputs": [
    {
     "ename": "",
     "evalue": "",
     "output_type": "error",
     "traceback": [
      "\u001b[1;31mRunning cells with 'Python 3.8.9' requires the ipykernel package.\n",
      "\u001b[1;31mRun the following command to install 'ipykernel' into the Python environment. \n",
      "\u001b[1;31mCommand: '/Library/Developer/CommandLineTools/usr/bin/python3.8 -m pip install ipykernel -U --user --force-reinstall'"
     ]
    }
   ],
   "source": [
    "# Prepare data for ANOVA\n",
    "data_combined = pd.concat([data_vienna_policy.assign(policy='Vienna'),\n",
    "                           data_singapore_policy.assign(policy='Singapore'),\n",
    "                           data_no_policy.assign(policy='No Policy')])\n"
   ]
  },
  {
   "cell_type": "code",
   "execution_count": null,
   "metadata": {},
   "outputs": [
    {
     "ename": "",
     "evalue": "",
     "output_type": "error",
     "traceback": [
      "\u001b[1;31mRunning cells with 'Python 3.8.9' requires the ipykernel package.\n",
      "\u001b[1;31mRun the following command to install 'ipykernel' into the Python environment. \n",
      "\u001b[1;31mCommand: '/Library/Developer/CommandLineTools/usr/bin/python3.8 -m pip install ipykernel -U --user --force-reinstall'"
     ]
    }
   ],
   "source": [
    "# Fit the ANOVA model for each metric\n",
    "metrics = [\"desirability_entropy\", \"agent_entropy\", \"utility\"]\n",
    "anova_results = {}\n",
    "\n",
    "for metric in metrics:\n",
    "    model = smf.ols(f'{metric} ~ C(policy)', data=data_combined).fit()\n",
    "    anova_table = sm.stats.anova_lm(model, typ=2)\n",
    "    anova_results[metric] = anova_table\n",
    "    print(f'ANOVA result for {metric}:')\n",
    "    print(anova_table)\n",
    "    print('\\n')\n",
    "\n",
    "    # Check normality of residuals\n",
    "    residuals = model.resid\n",
    "    fig, ax = plt.subplots(1, 2, figsize=(12, 6))\n",
    "    sm.qqplot(residuals, line='s', ax=ax[0])\n",
    "    ax[0].set_title('Q-Q Plot')\n",
    "    \n",
    "    sns.histplot(residuals, kde=True, ax=ax[1])\n",
    "    ax[1].set_title('Histogram of Residuals')\n",
    "    plt.show()\n",
    "\n",
    "    # Shapiro-Wilk test\n",
    "    shapiro_test = stats.shapiro(residuals)\n",
    "    print('Shapiro-Wilk Test:')\n",
    "    print('Statistic:', shapiro_test.statistic)\n",
    "    print('p-value:', shapiro_test.pvalue)\n",
    "    print('\\n')\n",
    "\n",
    "    # Check homogeneity of variances\n",
    "    # Levene's Test\n",
    "    levene_test = stats.levene(\n",
    "        data_combined[data_combined['policy'] == 'Vienna'][metric],\n",
    "        data_combined[data_combined['policy'] == 'Singapore'][metric],\n",
    "        data_combined[data_combined['policy'] == 'No Policy'][metric]\n",
    "    )\n",
    "    print('Levene\\'s Test:')\n",
    "    print('Statistic:', levene_test.statistic)\n",
    "    print('p-value:', levene_test.pvalue)\n",
    "    print('\\n')\n",
    "\n",
    "    # Plot residuals vs. fitted values\n",
    "    fitted_vals = model.fittedvalues\n",
    "    fig, ax = plt.subplots(figsize=(8, 6))\n",
    "    sns.scatterplot(x=fitted_vals, y=residuals, ax=ax)\n",
    "    ax.axhline(0, linestyle='--', color='r')\n",
    "    ax.set_xlabel('Fitted Values')\n",
    "    ax.set_ylabel('Residuals')\n",
    "    ax.set_title('Residuals vs. Fitted Values')\n",
    "    plt.show()\n",
    "\n",
    "    # Check independence of observations\n",
    "    # Durbin-Watson test\n",
    "    durbin_watson_test = sm.stats.durbin_watson(residuals)\n",
    "    print('Durbin-Watson Test:')\n",
    "    print('Statistic:', durbin_watson_test)\n",
    "    print('\\n')\n",
    "\n",
    "# Variance Inflation Factor (VIF) to check for multicollinearity (if applicable)\n",
    "variables = model.model.exog\n",
    "vif_data = pd.DataFrame()\n",
    "vif_data['VIF'] = [variance_inflation_factor(variables, i) for i in range(variables.shape[1])]\n",
    "vif_data['variable'] = model.model.exog_names\n",
    "print(vif_data)"
   ]
  },
  {
   "cell_type": "markdown",
   "metadata": {},
   "source": [
    "# Perform Kruskall Wallis for when assumptions are not met; desirability and utility"
   ]
  },
  {
   "cell_type": "code",
   "execution_count": null,
   "metadata": {},
   "outputs": [
    {
     "ename": "",
     "evalue": "",
     "output_type": "error",
     "traceback": [
      "\u001b[1;31mRunning cells with 'Python 3.8.9' requires the ipykernel package.\n",
      "\u001b[1;31mRun the following command to install 'ipykernel' into the Python environment. \n",
      "\u001b[1;31mCommand: '/Library/Developer/CommandLineTools/usr/bin/python3.8 -m pip install ipykernel -U --user --force-reinstall'"
     ]
    }
   ],
   "source": [
    "#Extract groups\n",
    "groups = [data_combined[data_combined['policy'] == policy]['utility'].values for policy in data_combined['policy'].unique()]\n",
    "\n",
    "# Perform Kruskal-Wallis Test\n",
    "statistic, p_value = kruskal(*groups)\n",
    "\n",
    "print(f\"Kruskal-Wallis H test statistic: {statistic}\")\n",
    "print(f\"p-value: {p_value}\")"
   ]
  },
  {
   "cell_type": "code",
   "execution_count": null,
   "metadata": {},
   "outputs": [
    {
     "ename": "",
     "evalue": "",
     "output_type": "error",
     "traceback": [
      "\u001b[1;31mRunning cells with 'Python 3.8.9' requires the ipykernel package.\n",
      "\u001b[1;31mRun the following command to install 'ipykernel' into the Python environment. \n",
      "\u001b[1;31mCommand: '/Library/Developer/CommandLineTools/usr/bin/python3.8 -m pip install ipykernel -U --user --force-reinstall'"
     ]
    }
   ],
   "source": [
    "groups = [data_combined[data_combined['policy'] == policy]['desirability_entropy'].values for policy in data_combined['policy'].unique()]\n",
    "# Perform Kruskal-Wallis Test\n",
    "statistic, p_value = kruskal(*groups)\n",
    "\n",
    "print(f\"Kruskal-Wallis H test statistic: {statistic}\")\n",
    "print(f\"p-value: {p_value}\")"
   ]
  },
  {
   "cell_type": "markdown",
   "metadata": {},
   "source": [
    "# singificant p-value indicates differences between groups, so post hoc analysis \n",
    "One commonly used post-hoc test for non-parametric data is the Dunn’s test with a Bonferroni correction for multiple comparisons."
   ]
  },
  {
   "cell_type": "code",
   "execution_count": null,
   "metadata": {},
   "outputs": [
    {
     "ename": "",
     "evalue": "",
     "output_type": "error",
     "traceback": [
      "\u001b[1;31mRunning cells with 'Python 3.8.9' requires the ipykernel package.\n",
      "\u001b[1;31mRun the following command to install 'ipykernel' into the Python environment. \n",
      "\u001b[1;31mCommand: '/Library/Developer/CommandLineTools/usr/bin/python3.8 -m pip install ipykernel -U --user --force-reinstall'"
     ]
    }
   ],
   "source": [
    "# Perform Dunn's test\n",
    "dunn_results = sp.posthoc_dunn(data_combined, val_col='utility', group_col='policy', p_adjust='bonferroni')\n",
    "\n",
    "print(dunn_results)"
   ]
  },
  {
   "cell_type": "code",
   "execution_count": null,
   "metadata": {},
   "outputs": [
    {
     "ename": "",
     "evalue": "",
     "output_type": "error",
     "traceback": [
      "\u001b[1;31mRunning cells with 'Python 3.8.9' requires the ipykernel package.\n",
      "\u001b[1;31mRun the following command to install 'ipykernel' into the Python environment. \n",
      "\u001b[1;31mCommand: '/Library/Developer/CommandLineTools/usr/bin/python3.8 -m pip install ipykernel -U --user --force-reinstall'"
     ]
    }
   ],
   "source": [
    "dunn_results = sp.posthoc_dunn(data_combined, val_col='desirability_entropy', group_col='policy', p_adjust='bonferroni')\n",
    "\n",
    "print(dunn_results)"
   ]
  },
  {
   "cell_type": "code",
   "execution_count": null,
   "metadata": {},
   "outputs": [
    {
     "ename": "",
     "evalue": "",
     "output_type": "error",
     "traceback": [
      "\u001b[1;31mRunning cells with 'Python 3.8.9' requires the ipykernel package.\n",
      "\u001b[1;31mRun the following command to install 'ipykernel' into the Python environment. \n",
      "\u001b[1;31mCommand: '/Library/Developer/CommandLineTools/usr/bin/python3.8 -m pip install ipykernel -U --user --force-reinstall'"
     ]
    }
   ],
   "source": [
    "# Fit the ANOVA model\n",
    "model = smf.ols('agent_entropy ~ C(policy)', data=data_combined).fit()\n",
    "anova_table = sm.stats.anova_lm(model, typ=2)\n",
    "\n",
    "# Print ANOVA table\n",
    "print(anova_table)\n",
    "\n",
    "# Perform Tukey's HSD test\n",
    "tukey = pairwise_tukeyhsd(endog=data_combined['agent_entropy'], groups=data_combined['policy'], alpha=0.05)\n",
    "\n",
    "# Print Tukey HSD test summary\n",
    "print(tukey)\n",
    "\n",
    "# Plot the results\n",
    "tukey.plot_simultaneous()\n",
    "plt.show()"
   ]
  }
 ],
 "metadata": {
  "kernelspec": {
   "display_name": "ABM-Notebooks-0-1-OzA5lFMJ",
   "language": "python",
   "name": "python3"
  },
  "language_info": {
   "codemirror_mode": {
    "name": "ipython",
    "version": 3
   },
   "file_extension": ".py",
   "mimetype": "text/x-python",
   "name": "python",
   "nbconvert_exporter": "python",
   "pygments_lexer": "ipython3",
   "version": "3.10.11"
  }
 },
 "nbformat": 4,
 "nbformat_minor": 2
}
