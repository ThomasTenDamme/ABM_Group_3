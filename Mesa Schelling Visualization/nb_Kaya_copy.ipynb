{
 "cells": [
  {
   "cell_type": "code",
   "execution_count": 1,
   "metadata": {},
   "outputs": [],
   "source": [
    "import numpy as np\n",
    "import matplotlib.pyplot as plt\n",
    "from collections import defaultdict\n",
    "import pandas as pd\n",
    "import seaborn as sns\n",
    "import warnings\n",
    "warnings.filterwarnings('ignore')"
   ]
  },
  {
   "cell_type": "markdown",
   "metadata": {},
   "source": [
    "Satelli sampling means variance based sampling, but not a good measure for non-uniform distribution. Advantage: just extends series further if you want to increase number of samples\n",
    "Parallelization of sampling --> batch run (concurrent)"
   ]
  },
  {
   "cell_type": "markdown",
   "metadata": {},
   "source": [
    "# Added modules"
   ]
  },
  {
   "cell_type": "code",
   "execution_count": 2,
   "metadata": {},
   "outputs": [],
   "source": [
    "def get_theta(x, mu, sigma):\n",
    "    \"\"\"\n",
    "    x: fraction of similar neighbours\n",
    "    mu: optimal fraction of similar neighbours\n",
    "    sigma: acceptance range\n",
    "    \"\"\"\n",
    "    theta = np.exp(-((x - mu) ** 2) / (2 * sigma ** 2))\n",
    "    return theta"
   ]
  },
  {
   "cell_type": "code",
   "execution_count": 3,
   "metadata": {},
   "outputs": [
    {
     "data": {
      "image/png": "[encoded data removed]",
      "text/plain": [
       "<Figure size 640x480 with 1 Axes>"
      ]
     },
     "metadata": {},
     "output_type": "display_data"
    }
   ],
   "source": [
    "def gaussian_function(x, mu, sigma):\n",
    "    return np.exp(-((x - mu) ** 2) / (2 * sigma ** 2))\n",
    "\n",
    "# Example usage:\n",
    "x_values = np.linspace(0, 1, 100)\n",
    "mu = 0.8  # Peak in the middle\n",
    "sigma = 0.3  # Controls the width\n",
    "\n",
    "y_values = gaussian_function(x_values, mu, sigma)\n",
    "\n",
    "# You can plot the function to visualize it\n",
    "import matplotlib.pyplot as plt\n",
    "\n",
    "plt.plot(x_values, y_values)\n",
    "plt.xlabel('x')\n",
    "plt.ylabel('f(x)')\n",
    "plt.title(f'Gaussian Function with Peak at {mu}')\n",
    "plt.show()"
   ]
  },
  {
   "cell_type": "markdown",
   "metadata": {},
   "source": [
    "# Experiment"
   ]
  },
  {
   "cell_type": "code",
   "execution_count": 4,
   "metadata": {},
   "outputs": [],
   "source": [
    "from model import Schelling\n",
    "from modules import property_value_from_gdf, update_interested_agents_concurrently, property_value_func_random, utility_func, price_func, income_func, property_value_from_gdf, property_value_quadrants, desirability_func, compute_similar_neighbours, property_value_equal, calculate_gi_star, price_func_cap\n",
    "\n",
    "\n",
    "def schelling_singapore(num_runs, num_steps, burn_in_period, minority_pc, property_value_weight, alpha, mu_theta, sigma_theta, density, policy = True):\n",
    "\n",
    "    # initialize storage for parameters\n",
    "    overall_desirability_entropy = []\n",
    "    overall_agent_entropy = []\n",
    "    overall_utility = []\n",
    "\n",
    "    # run the model several times for the same parameter setting \n",
    "    for run in range(num_runs):\n",
    "        print('I am in round', run)\n",
    "        \n",
    "        # initialize model\n",
    "        models = Schelling(\n",
    "            property_value_func=property_value_from_gdf, # quadrants,\n",
    "            income_func=income_func,\n",
    "            desirability_func=desirability_func,\n",
    "            utility_func=utility_func,\n",
    "            price_func=price_func,\n",
    "            compute_similar_neighbours=compute_similar_neighbours,\n",
    "            calculate_gi_star = calculate_gi_star,\n",
    "            update_interested_agents_func = update_interested_agents_concurrently,\n",
    "            price_func_cap=price_func_cap,\n",
    "            policy_singapore=True,\n",
    "            #height=20,\n",
    "            #width=20,\n",
    "            radius=1,\n",
    "            density=density,\n",
    "            minority_pc=minority_pc,\n",
    "            alpha=alpha,\n",
    "            income_scale=1.5, # the scale by which the income is higher than the property value\n",
    "            property_value_weight=property_value_weight,\n",
    "            mu_theta = mu_theta,\n",
    "            sigma_theta = sigma_theta,\n",
    "            seed=41)\n",
    "\n",
    "        # Run the model for a certain number of steps\n",
    "        for _ in range(num_steps):\n",
    "            models.step()\n",
    "\n",
    "        # call necessary data collectors\n",
    "        agent_data = models.datacollector.get_agent_vars_dataframe()\n",
    "        model_data_entropy = models.datacollector.get_model_vars_dataframe()\n",
    "    \n",
    "        # Compute mean and standard deviation of entropies over time per run\n",
    "        desirability_entropy = model_data_entropy['Desirability entropy'].to_numpy()\n",
    "        # desirability_entropy_std = model_data_entropy['Desirability entropy'].std()\n",
    "        mean_desirability_entropy = np.mean(np.array(desirability_entropy[burn_in_period::]))\n",
    "        \n",
    "        agent_entropy = model_data_entropy['Agent entropy'].to_numpy()\n",
    "        # agent_entropy_std = model_data_entropy['Agent entropy'].std()\n",
    "        mean_agent_entropy = np.mean(np.array(agent_entropy[burn_in_period::]))\n",
    "        print(agent_entropy)\n",
    "        \n",
    "        # Compute mean and standard deviation of utility per time step over each agent \n",
    "        utility_mean = agent_data.groupby(level='Step')['Utility'].mean()\n",
    "        utility_std = agent_data.groupby(level='Step')['Utility'].std()\n",
    "        \n",
    "        # Compute mean and standard deviation of utility over time \n",
    "        utility_mean = pd.DataFrame(utility_mean).to_numpy()\n",
    "        utility_std = pd.DataFrame(utility_std).to_numpy()\n",
    "        mean_utility_interim = np.mean(utility_mean[burn_in_period::])\n",
    "\n",
    "        # Append all results to storage\n",
    "        overall_desirability_entropy.append(mean_desirability_entropy)\n",
    "        overall_agent_entropy.append(mean_agent_entropy)\n",
    "        overall_utility.append(mean_utility_interim)\n",
    "\n",
    "    return np.array(overall_desirability_entropy), np.array(overall_agent_entropy), np.array(overall_utility)"
   ]
  },
  {
   "cell_type": "code",
   "execution_count": 5,
   "metadata": {},
   "outputs": [
    {
     "name": "stdout",
     "output_type": "stream",
     "text": [
      "I am in round 0\n",
      "[       nan 0.59303986 0.53609946 0.65248167 0.50490683 0.59628802\n",
      " 0.62963896 0.63983642 0.60100265 0.55942867 0.50084534 0.52257861\n",
      " 0.4870042  0.54279722 0.55091449 0.55356639 0.52829815 0.51882773\n",
      " 0.45879664 0.43671946 0.43671946 0.43671946 0.51769588 0.43208984\n",
      " 0.39290055 0.46807336 0.397594   0.48213141 0.46227511 0.50988427\n",
      " 0.44873489]\n",
      "I am in round 1\n"
     ]
    },
    {
     "ename": "KeyboardInterrupt",
     "evalue": "",
     "output_type": "error",
     "traceback": [
      "\u001b[0;31m---------------------------------------------------------------------------\u001b[0m",
      "\u001b[0;31mKeyboardInterrupt\u001b[0m                         Traceback (most recent call last)",
      "Cell \u001b[0;32mIn[5], line 15\u001b[0m\n\u001b[1;32m     12\u001b[0m sigma \u001b[38;5;241m=\u001b[39m \u001b[38;5;241m0.3\u001b[39m\n\u001b[1;32m     14\u001b[0m \u001b[38;5;66;03m# Run simulation\u001b[39;00m\n\u001b[0;32m---> 15\u001b[0m singapore_policy_effect \u001b[38;5;241m=\u001b[39m \u001b[43mschelling_singapore\u001b[49m\u001b[43m(\u001b[49m\u001b[43mnum_iters\u001b[49m\u001b[43m,\u001b[49m\u001b[43m \u001b[49m\u001b[43mmodel_steps\u001b[49m\u001b[43m,\u001b[49m\u001b[43m \u001b[49m\u001b[43mburn_in_period\u001b[49m\u001b[43m,\u001b[49m\u001b[43m \u001b[49m\u001b[43mdensity\u001b[49m\u001b[43m,\u001b[49m\u001b[43m \u001b[49m\u001b[43mminority\u001b[49m\u001b[43m,\u001b[49m\u001b[43m \u001b[49m\u001b[43malpha\u001b[49m\u001b[43m,\u001b[49m\u001b[43m \u001b[49m\u001b[43mproperty_value_weight\u001b[49m\u001b[43m,\u001b[49m\u001b[43m \u001b[49m\u001b[43mmu\u001b[49m\u001b[43m,\u001b[49m\u001b[43m \u001b[49m\u001b[43msigma\u001b[49m\u001b[43m,\u001b[49m\u001b[43m \u001b[49m\u001b[38;5;28;43;01mTrue\u001b[39;49;00m\u001b[43m)\u001b[49m\n",
      "Cell \u001b[0;32mIn[4], line 42\u001b[0m, in \u001b[0;36mschelling_singapore\u001b[0;34m(num_runs, num_steps, burn_in_period, minority_pc, property_value_weight, alpha, mu_theta, sigma_theta, density, policy)\u001b[0m\n\u001b[1;32m     40\u001b[0m \u001b[38;5;66;03m# Run the model for a certain number of steps\u001b[39;00m\n\u001b[1;32m     41\u001b[0m \u001b[38;5;28;01mfor\u001b[39;00m _ \u001b[38;5;129;01min\u001b[39;00m \u001b[38;5;28mrange\u001b[39m(num_steps):\n\u001b[0;32m---> 42\u001b[0m     \u001b[43mmodels\u001b[49m\u001b[38;5;241;43m.\u001b[39;49m\u001b[43mstep\u001b[49m\u001b[43m(\u001b[49m\u001b[43m)\u001b[49m\n\u001b[1;32m     44\u001b[0m \u001b[38;5;66;03m# call necessary data collectors\u001b[39;00m\n\u001b[1;32m     45\u001b[0m agent_data \u001b[38;5;241m=\u001b[39m models\u001b[38;5;241m.\u001b[39mdatacollector\u001b[38;5;241m.\u001b[39mget_agent_vars_dataframe()\n",
      "File \u001b[0;32m~/Desktop/Master - Computational Science/Agent-Based Modelling/ABM-Notebooks-0-1/ABM_Group_3/Mesa Schelling Visualization/modelK.py:314\u001b[0m, in \u001b[0;36mSchelling.step\u001b[0;34m(self)\u001b[0m\n\u001b[1;32m    311\u001b[0m \u001b[38;5;28;01mif\u001b[39;00m \u001b[38;5;129;01mnot\u001b[39;00m \u001b[38;5;28mself\u001b[39m\u001b[38;5;241m.\u001b[39mconcurrent:\n\u001b[1;32m    312\u001b[0m     \u001b[38;5;66;03m# Iterate over cells and compare utility to current location, add to interested_agents_layer if better\u001b[39;00m\n\u001b[1;32m    313\u001b[0m     \u001b[38;5;28;01mfor\u001b[39;00m _, loc  \u001b[38;5;129;01min\u001b[39;00m \u001b[38;5;28mself\u001b[39m\u001b[38;5;241m.\u001b[39mgrid\u001b[38;5;241m.\u001b[39mcoord_iter():\n\u001b[0;32m--> 314\u001b[0m         utility \u001b[38;5;241m=\u001b[39m \u001b[38;5;28;43mself\u001b[39;49m\u001b[38;5;241;43m.\u001b[39;49m\u001b[43mutility_func\u001b[49m\u001b[43m(\u001b[49m\u001b[38;5;28;43mself\u001b[39;49m\u001b[43m,\u001b[49m\u001b[43m \u001b[49m\u001b[43magent\u001b[49m\u001b[43m,\u001b[49m\u001b[43m \u001b[49m\u001b[43mloc\u001b[49m\u001b[43m,\u001b[49m\u001b[43m \u001b[49m\u001b[43mbudgetless\u001b[49m\u001b[38;5;241;43m=\u001b[39;49m\u001b[38;5;28;43;01mFalse\u001b[39;49;00m\u001b[43m)\u001b[49m\n\u001b[1;32m    316\u001b[0m         \u001b[38;5;28;01mif\u001b[39;00m utility \u001b[38;5;241m>\u001b[39m agent\u001b[38;5;241m.\u001b[39mutility:\n\u001b[1;32m    317\u001b[0m             \u001b[38;5;28mself\u001b[39m\u001b[38;5;241m.\u001b[39minterested_agents_layer\u001b[38;5;241m.\u001b[39mmodify_cell(loc, \u001b[38;5;28;01mlambda\u001b[39;00m v: v \u001b[38;5;241m+\u001b[39m \u001b[38;5;241m1\u001b[39m)\n",
      "File \u001b[0;32m~/Desktop/Master - Computational Science/Agent-Based Modelling/ABM-Notebooks-0-1/ABM_Group_3/Mesa Schelling Visualization/modulesK.py:148\u001b[0m, in \u001b[0;36mutility_func\u001b[0;34m(model, agent, property_loc, budgetless)\u001b[0m\n\u001b[1;32m    144\u001b[0m alpha \u001b[38;5;241m=\u001b[39m model\u001b[38;5;241m.\u001b[39malpha\n\u001b[1;32m    146\u001b[0m budget \u001b[38;5;241m=\u001b[39m agent\u001b[38;5;241m.\u001b[39mbudget\n\u001b[0;32m--> 148\u001b[0m price \u001b[38;5;241m=\u001b[39m \u001b[43mmodel\u001b[49m\u001b[38;5;241;43m.\u001b[39;49m\u001b[43mprice_func\u001b[49m\u001b[43m(\u001b[49m\u001b[43mmodel\u001b[49m\u001b[43m,\u001b[49m\u001b[43m \u001b[49m\u001b[43mproperty_loc\u001b[49m\u001b[43m)\u001b[49m\n\u001b[1;32m    150\u001b[0m \u001b[38;5;28;01mif\u001b[39;00m budget \u001b[38;5;241m<\u001b[39m price \u001b[38;5;129;01mand\u001b[39;00m \u001b[38;5;129;01mnot\u001b[39;00m budgetless:\n\u001b[1;32m    151\u001b[0m     \u001b[38;5;28;01mreturn\u001b[39;00m \u001b[38;5;241m0\u001b[39m\n",
      "File \u001b[0;32m~/Desktop/Master - Computational Science/Agent-Based Modelling/ABM-Notebooks-0-1/ABM_Group_3/Mesa Schelling Visualization/modulesK.py:156\u001b[0m, in \u001b[0;36mprice_func\u001b[0;34m(model, property_loc)\u001b[0m\n\u001b[1;32m    151\u001b[0m         \u001b[38;5;28;01mreturn\u001b[39;00m \u001b[38;5;241m0\u001b[39m\n\u001b[1;32m    153\u001b[0m     \u001b[38;5;28;01mreturn\u001b[39;00m theta\u001b[38;5;241m*\u001b[39m\u001b[38;5;241m*\u001b[39malpha\u001b[38;5;241m*\u001b[39mdesirability\u001b[38;5;241m*\u001b[39m\u001b[38;5;241m*\u001b[39m(\u001b[38;5;241m1\u001b[39m\u001b[38;5;241m-\u001b[39malpha)\n\u001b[0;32m--> 156\u001b[0m \u001b[38;5;28;01mdef\u001b[39;00m \u001b[38;5;21mprice_func\u001b[39m(model: mesa\u001b[38;5;241m.\u001b[39mModel, property_loc: \u001b[38;5;28mtuple\u001b[39m) \u001b[38;5;241m-\u001b[39m\u001b[38;5;241m>\u001b[39m \u001b[38;5;28mfloat\u001b[39m:\n\u001b[1;32m    158\u001b[0m     desirability \u001b[38;5;241m=\u001b[39m model\u001b[38;5;241m.\u001b[39mdesirability_layer\u001b[38;5;241m.\u001b[39mdata[property_loc]\n\u001b[1;32m    159\u001b[0m     property_value \u001b[38;5;241m=\u001b[39m model\u001b[38;5;241m.\u001b[39mproperty_value_layer\u001b[38;5;241m.\u001b[39mdata[property_loc]\n",
      "\u001b[0;31mKeyboardInterrupt\u001b[0m: "
     ]
    }
   ],
   "source": [
    "# experiment settings\n",
    "num_iters = 5\n",
    "burn_in_period = 5\n",
    "model_steps = 30\n",
    "\n",
    "# model settings\n",
    "density = 0.8\n",
    "minority = 0.3\n",
    "alpha = 0.5\n",
    "property_value_weight = 0.1\n",
    "mu = 0.8\n",
    "sigma = 0.3\n",
    "\n",
    "# Run simulation\n",
    "singapore_policy_effect = schelling_singapore(num_iters, model_steps, burn_in_period, density, minority, alpha, property_value_weight, mu, sigma, True)"
   ]
  },
  {
   "cell_type": "code",
   "execution_count": null,
   "metadata": {},
   "outputs": [],
   "source": [
    "# Save simulation \n",
    "singapore_initial_results = np.column_stack((singapore_policy_effect[0], singapore_policy_effect[1], singapore_policy_effect[2]))\n",
    "\n",
    "# Save the stacked array to a CSV file\n",
    "np.savetxt('singapore_policy_100_runs_2.csv', singapore_initial_results, delimiter=',', header='desirability_entropy, agent_entropy, utility') "
   ]
  },
  {
   "cell_type": "code",
   "execution_count": null,
   "metadata": {},
   "outputs": [],
   "source": [
    "# experiment settings\n",
    "num_iters = 5\n",
    "burn_in_period = 5\n",
    "model_steps = 30\n",
    "\n",
    "# model settings\n",
    "density = 0.8\n",
    "minority = 0.3\n",
    "alpha = 0.5\n",
    "property_value_weight = 0.1\n",
    "mu = 0.8\n",
    "sigma = 0.3\n",
    "\n",
    "# Run simulation\n",
    "no_policy_effect = schelling_singapore(num_iters, model_steps, burn_in_period, density, minority, alpha, property_value_weight, mu, sigma, policy=False)"
   ]
  },
  {
   "cell_type": "code",
   "execution_count": null,
   "metadata": {},
   "outputs": [],
   "source": [
    "no_policy_results = np.column_stack((no_policy_effect[0], no_policy_effect[1], no_policy_effect[2]))\n",
    "\n",
    "# Save the stacked array to a CSV file\n",
    "np.savetxt('no_policy_result_100_runs.csv', no_policy_results, delimiter=',', header='desirability_entropy, agent_entropy, utility') "
   ]
  },
  {
   "cell_type": "code",
   "execution_count": null,
   "metadata": {},
   "outputs": [],
   "source": [
    "import modules as modules\n",
    "import model as model\n",
    "from model import Schelling\n",
    "\n",
    "def schelling_vienna(num_runs, num_steps, burn_in_period, minority_pc, property_value_weight, alpha, mu_theta, sigma_theta, density, policy = True):\n",
    "\n",
    "    # initialize storage for parameters\n",
    "    overall_desirability_entropy = []\n",
    "    overall_agent_entropy = []\n",
    "    overall_utility = []\n",
    "\n",
    "    # run the model several times for the same parameter setting \n",
    "    for run in range(num_runs):\n",
    "        print('I am in round', run)\n",
    "        \n",
    "        # initialize model\n",
    "        models = Schelling(\n",
    "            property_value_func=modules.property_value_from_gdf, # quadrants,\n",
    "            income_func=modules.income_func,\n",
    "            desirability_func=modules.desirability_func,\n",
    "            utility_func=modules.utility_func,\n",
    "            price_func=modules.price_func,\n",
    "            compute_similar_neighbours=modules.compute_similar_neighbours,\n",
    "            calculate_gi_star = modules.calculate_gi_star,\n",
    "            update_interested_agents_func = modules.update_interested_agents_concurrently,\n",
    "            price_func_cap=modules.price_func_cap,\n",
    "            policy_vienna=policy,\n",
    "            #height=20,\n",
    "            #width=20,\n",
    "            radius=1,\n",
    "            density=density,\n",
    "            minority_pc=minority_pc,\n",
    "            alpha=alpha,\n",
    "            income_scale=1.5, # the scale by which the income is higher than the property value\n",
    "            property_value_weight=property_value_weight,\n",
    "            mu_theta = mu_theta,\n",
    "            sigma_theta = sigma_theta,\n",
    "            seed=42)\n",
    "\n",
    "        # Run the model for a certain number of steps\n",
    "        for _ in range(num_steps):\n",
    "            models.step()\n",
    "\n",
    "        # call necessary data collectors\n",
    "        agent_data = models.datacollector.get_agent_vars_dataframe()\n",
    "        model_data_entropy = models.datacollector.get_model_vars_dataframe()\n",
    "    \n",
    "        # Compute mean and standard deviation of entropies over time per run\n",
    "        desirability_entropy = model_data_entropy['Desirability entropy'].to_numpy()\n",
    "        # desirability_entropy_std = model_data_entropy['Desirability entropy'].std()\n",
    "        mean_desirability_entropy = np.mean(np.array(desirability_entropy[burn_in_period::]))\n",
    "        \n",
    "        agent_entropy = model_data_entropy['Agent entropy'].to_numpy()\n",
    "        # agent_entropy_std = model_data_entropy['Agent entropy'].std()\n",
    "        mean_agent_entropy = np.mean(np.array(agent_entropy[burn_in_period::]))\n",
    "        print(agent_entropy)\n",
    "        \n",
    "        # Compute mean and standard deviation of utility per time step over each agent \n",
    "        utility_mean = agent_data.groupby(level='Step')['Utility'].mean()\n",
    "        utility_std = agent_data.groupby(level='Step')['Utility'].std()\n",
    "        \n",
    "        # Compute mean and standard deviation of utility over time \n",
    "        utility_mean = pd.DataFrame(utility_mean).to_numpy()\n",
    "        utility_std = pd.DataFrame(utility_std).to_numpy()\n",
    "        mean_utility_interim = np.mean(utility_mean[burn_in_period::])\n",
    "\n",
    "        # Append all results to storage\n",
    "        overall_desirability_entropy.append(mean_desirability_entropy)\n",
    "        overall_agent_entropy.append(mean_agent_entropy)\n",
    "        overall_utility.append(mean_utility_interim)\n",
    "\n",
    "    return np.array(overall_desirability_entropy), np.array(overall_agent_entropy), np.array(overall_utility)"
   ]
  },
  {
   "cell_type": "code",
   "execution_count": null,
   "metadata": {},
   "outputs": [],
   "source": [
    "# experiment settings\n",
    "num_iters = 100\n",
    "burn_in_period = 5\n",
    "model_steps = 30\n",
    "\n",
    "# model settings\n",
    "density = 0.8\n",
    "minority = 0.3\n",
    "alpha = 0.5\n",
    "property_value_weight = 0.1\n",
    "mu = 0.8\n",
    "sigma = 0.3\n",
    "\n",
    "# Run simulation\n",
    "vienna_policy_effect = schelling_vienna(num_iters, model_steps, burn_in_period, density, minority, alpha, property_value_weight, mu, sigma, policy=True)"
   ]
  },
  {
   "cell_type": "code",
   "execution_count": null,
   "metadata": {},
   "outputs": [],
   "source": [
    "vienna_policy_effect = np.column_stack((vienna_policy_effect[0], vienna_policy_effect[1], vienna_policy_effect[2]))\n",
    "\n",
    "# Save the stacked array to a CSV file\n",
    "np.savetxt('vienna_policy_result_100_runs2.csv', vienna_policy_effect, delimiter=',', header='desirability_entropy, agent_entropy, utility') "
   ]
  },
  {
   "cell_type": "markdown",
   "metadata": {},
   "source": [
    "# Plots for initial experiment"
   ]
  },
  {
   "cell_type": "code",
   "execution_count": null,
   "metadata": {},
   "outputs": [],
   "source": [
    "singapore_results = pd.read_csv('singapore_policy_100_runs_2.csv')\n",
    "vienna_results = pd.read_csv('vienna_policy_result_100_runs2.csv')\n",
    "random_results = pd.read_csv('no_policy_result_100_runs.csv')"
   ]
  },
  {
   "cell_type": "code",
   "execution_count": null,
   "metadata": {},
   "outputs": [],
   "source": [
    "desirability_vienna = vienna_results['# desirability_entropy'].to_numpy()\n",
    "desirability_singapore = singapore_results['# desirability_entropy'].to_numpy()\n",
    "desirability_random = random_results['# desirability_entropy'].to_numpy()\n",
    "\n",
    "agent_vienna = vienna_results[' agent_entropy'].to_numpy()\n",
    "agent_singapore = singapore_results[' agent_entropy'].to_numpy()\n",
    "agent_random = random_results[' agent_entropy'].to_numpy()\n",
    "\n",
    "utility_vienna = vienna_results[' utility'].to_numpy()\n",
    "utility_singapore = singapore_results[' utility'].to_numpy()\n",
    "utility_random = random_results[' utility'].to_numpy()\n",
    "\n",
    "plt.figure(dpi = 300, figsize = (10, 16))\n",
    "\n",
    "plt.subplot(311)\n",
    "# Create distribution plots for both datasets\n",
    "sns.histplot(desirability_vienna, kde=True, color='#63d298ff', label='Policy: Vienna', stat=\"density\")\n",
    "sns.histplot(desirability_singapore, kde=True, color='#fff176ff', label='Policy: Singapore', stat=\"density\")\n",
    "sns.histplot(desirability_random, kde=True, color='#ff5252ff', label='no policy', stat=\"density\")\n",
    "\n",
    "# Customize the plot\n",
    "plt.title('Desirability: Distribution Plots of different Policies')\n",
    "plt.xlabel('Value')\n",
    "plt.ylabel('Density')\n",
    "plt.legend()\n",
    "\n",
    "plt.subplot(312)\n",
    "# Create distribution plots for both datasets\n",
    "sns.histplot(agent_vienna, kde=True, color='#63d298ff', label='Policy: Vienna', stat=\"density\")\n",
    "sns.histplot(agent_singapore, kde=True, color='#fff176ff', label='Policy: Singapore', stat=\"density\")\n",
    "sns.histplot(agent_random, kde=True, color='#ff5252ff', label='no policy', stat=\"density\")\n",
    "\n",
    "# Customize the plot\n",
    "plt.title('Agent entropy: Distribution Plots of different Policies')\n",
    "plt.xlabel('Value')\n",
    "plt.ylabel('Density')\n",
    "\n",
    "plt.subplot(313)\n",
    "# Create distribution plots for both datasets\n",
    "sns.histplot(utility_vienna, kde=True, color='#63d298ff', label='Policy: Vienna', stat=\"density\")\n",
    "sns.histplot(utility_singapore, kde=True, color='#fff176ff', label='Policy: Singapore', stat=\"density\")\n",
    "sns.histplot(utility_random, kde=True, color='#ff5252ff', label='no policy', stat=\"density\")\n",
    "\n",
    "# Customize the plot\n",
    "plt.title('Average utility: Distribution Plots of different Policies')\n",
    "plt.xlabel('Value')\n",
    "plt.ylabel('Density')\n",
    "\n",
    "# Show the plot\n",
    "plt.show()\n",
    "plt.close()"
   ]
  },
  {
   "cell_type": "markdown",
   "metadata": {},
   "source": [
    "# Variations of relevant parameters for experiment"
   ]
  }
 ],
 "metadata": {
  "kernelspec": {
   "display_name": "ABM-Notebooks-0-1-OzA5lFMJ",
   "language": "python",
   "name": "python3"
  },
  "language_info": {
   "codemirror_mode": {
    "name": "ipython",
    "version": 3
   },
   "file_extension": ".py",
   "mimetype": "text/x-python",
   "name": "python",
   "nbconvert_exporter": "python",
   "pygments_lexer": "ipython3",
   "version": "3.11.8"
  }
 },
 "nbformat": 4,
 "nbformat_minor": 2
}
