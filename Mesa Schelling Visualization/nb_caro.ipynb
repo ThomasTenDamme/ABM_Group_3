{
 "cells": [
  {
   "cell_type": "code",
   "execution_count": null,
   "metadata": {},
   "outputs": [],
   "source": [
    "import mesa\n",
    "import numpy as np\n",
    "import mesa\n",
    "import random\n",
    "import math\n",
    "import modules as modules\n",
    "import model as model\n",
    "import matplotlib.pyplot as plt\n",
    "import pandas as pd\n",
    "import optuna\n",
    "\n",
    "from mesa.time import RandomActivation\n",
    "from mesa.space import SingleGrid\n",
    "from mesa.datacollection import DataCollector\n",
    "from mesa.batchrunner import batch_run\n",
    "import multiprocessing\n",
    "import os\n",
    "from scipy.stats import ttest_ind\n",
    "import scipy.stats as stats\n",
    "from statsmodels.stats.multicomp import pairwise_tukeyhsd"
   ]
  },
  {
   "cell_type": "markdown",
   "metadata": {},
   "source": [
    "# Collecting data baseline model"
   ]
  },
  {
   "cell_type": "code",
   "execution_count": null,
   "metadata": {},
   "outputs": [],
   "source": [
    "# Example usage:\n",
    "fixed_params = {\n",
    "    \"property_value_func\": modules.property_value_quadrants,\n",
    "    \"income_func\": modules.income_func,\n",
    "    \"desirability_func\": modules.desirability_func,\n",
    "    \"update_interested_agents_func\": modules.update_interested_agents_concurrently,\n",
    "    \"utility_func\": modules.utility_func,\n",
    "    \"price_func\": modules.price_func,\n",
    "    \"compute_similar_neighbours\": modules.compute_similar_neighbours,\n",
    "    \"calculate_gi_star\": modules.calculate_gi_star,\n",
    "    \"price_func_cap\": modules.price_func_cap,\n",
    "    \"height\": 20,\n",
    "    \"width\": 20,\n",
    "    \"density\": 0.8,\n",
    "    \"minority_pc\": 0.2,\n",
    "    \"alpha\": 0.5,\n",
    "    \"income_scale\": 1.5,\n",
    "    \"property_value_weight\": 0.1,\n",
    "    \"mu_theta\": 0.8,\n",
    "    #\"sigma_theta\": 0.1\n",
    "}"
   ]
  },
  {
   "cell_type": "code",
   "execution_count": null,
   "metadata": {},
   "outputs": [],
   "source": [
    "variable_params = {\n",
    "    'sigma_theta': np.linspace(0, 1, 10),\n",
    "}"
   ]
  },
  {
   "cell_type": "code",
   "execution_count": null,
   "metadata": {},
   "outputs": [],
   "source": [
    "iterations= 1\n",
    "max_steps = 10\n",
    "data_collection_period = -1"
   ]
  },
  {
   "cell_type": "code",
   "execution_count": null,
   "metadata": {},
   "outputs": [],
   "source": [
    "results = batch_run(\n",
    "        model.Schelling,\n",
    "        parameters={**fixed_params, **variable_params},\n",
    "        iterations=iterations,\n",
    "        max_steps=max_steps,\n",
    "        number_processes=None,\n",
    "        data_collection_period=data_collection_period,\n",
    "        display_progress=True\n",
    "    )"
   ]
  },
  {
   "cell_type": "code",
   "execution_count": null,
   "metadata": {},
   "outputs": [],
   "source": [
    "results"
   ]
  },
  {
   "cell_type": "markdown",
   "metadata": {},
   "source": [
    "# Added Modules"
   ]
  },
  {
   "cell_type": "code",
   "execution_count": null,
   "metadata": {},
   "outputs": [],
   "source": [
    "def utility_func(model: mesa.Model, agent: mesa.Agent, agent_loc: tuple, property_loc: tuple) -> float:\n",
    "    \n",
    "    theta = model.get_theta(agent_loc, model.grid.get_property(property_loc))\n",
    "\n",
    "    desirability = model.desirability_layer(property_loc)\n",
    "\n",
    "    alpha = model.alpha\n",
    "\n",
    "    budget = agent.budget\n",
    "    \n",
    "    price = model.price_func(property_loc)\n",
    "    \n",
    "    return theta**alpha*desirability**(1-alpha)*((budget-price)/budget)"
   ]
  },
  {
   "cell_type": "code",
   "execution_count": null,
   "metadata": {},
   "outputs": [],
   "source": [
    "def calculate_gi_star(grid, values, x, y, d):\n",
    "    sum_wx = 0\n",
    "    sum_w = 0\n",
    "    sum_wx2 = 0\n",
    "    n = len(values)\n",
    "\n",
    "    for (i, j), value in values.items():\n",
    "        dist = np.sqrt((x - i)**2 + (y - j)**2)\n",
    "        if dist <= d:\n",
    "            w = 1  # Binary weight, 1 if within distance threshold\n",
    "            sum_wx += w * value\n",
    "            sum_w += w\n",
    "            sum_wx2 += w * value**2\n",
    "\n",
    "    mean_x = np.mean(list(values.values()))\n",
    "    s = np.std(list(values.values()))\n",
    "\n",
    "    numerator = sum_wx - mean_x * sum_w\n",
    "    denominator = s * np.sqrt((n * sum_w - sum_w**2) / (n - 1))\n",
    "\n",
    "    return numerator / denominator if denominator != 0 else 0"
   ]
  },
  {
   "cell_type": "code",
   "execution_count": null,
   "metadata": {},
   "outputs": [],
   "source": [
    "def price_func(model: mesa.Model, property_loc: tuple) -> float:\n",
    "    \n",
    "    desirability = model.desirability_layer.data[property_loc]\n",
    "    property_value = model.property_value_layer.data[property_loc]\n",
    "\n",
    "\n",
    "    price= (0.5 + desirability) * property_value\n",
    "    print('price_func applied')\n",
    "    return price\n",
    "\n",
    "def price_func_cap(model: mesa.Model, property_loc: tuple, param:float) -> float:\n",
    "    desirability = model.desirability_layer.data[property_loc]\n",
    "    property_value = model.property_value_layer.data[property_loc]\n",
    "\n",
    "    initial_price = property_value\n",
    "\n",
    "    price= (0.5 + desirability) * property_value\n",
    "\n",
    "    price_cap = param * initial_price \n",
    "    \n",
    "    if price > price_cap:\n",
    "        print(\"price_cap applied\")\n",
    "        return price_cap\n",
    "    \n",
    "    return price\n"
   ]
  },
  {
   "cell_type": "markdown",
   "metadata": {},
   "source": [
    "# Example usage of plotting hotspot"
   ]
  },
  {
   "cell_type": "code",
   "execution_count": null,
   "metadata": {},
   "outputs": [],
   "source": [
    "def plot_heatmap(data, title=\"Heatmap\"):\n",
    "    plt.figure(figsize=(10, 8), dpi=300)\n",
    "    plt.imshow(data, cmap='hot', interpolation='nearest')\n",
    "    #plt.colorbar()\n",
    "    plt.title(title)\n",
    "    cbar = plt.colorbar()\n",
    "    cbar.set_label('z-score')\n",
    "    plt.show()\n"
   ]
  },
  {
   "cell_type": "code",
   "execution_count": null,
   "metadata": {},
   "outputs": [],
   "source": [
    "# Example of usage after a model run\n",
    "model = model.Schelling(\n",
    "     property_value_func=modules.property_value_quadrants,\n",
    "     income_func=modules.income_func,\n",
    "     desirability_func=modules.desirability_func,\n",
    "     utility_func=modules.utility_func,\n",
    "     price_func=modules.price_func,\n",
    "     compute_similar_neighbours=modules.compute_similar_neighbours,\n",
    "    calculate_gi_star=modules.calculate_gi_star,\n",
    "    update_interested_agents_func=modules.update_interested_agents_concurrently,\n",
    "    price_func_cap=modules.price_func_cap,\n",
    "     height=20,\n",
    "     width=20,\n",
    "     #homophily=0.5,\n",
    "     radius=1,\n",
    "     density=0.8,\n",
    "     minority_pc=0.2,\n",
    "     alpha=0.5,\n",
    "     seed=42\n",
    " )\n",
    "\n",
    "for i in range(10):\n",
    "    model.step()\n",
    "    gi_star_values = model.calculate_hotspots(distance_threshold=3)\n",
    "\n",
    "\n",
    "#plot_heatmap(gi_star_values, title=\"Gi* Hotspot Analysis\")\n",
    "#print(model.gi_star_history), optional for now this is muted in the model"
   ]
  },
  {
   "cell_type": "markdown",
   "metadata": {},
   "source": [
    "# Make animation of desirable hotspots "
   ]
  },
  {
   "cell_type": "code",
   "execution_count": null,
   "metadata": {},
   "outputs": [],
   "source": [
    "fig, ax = plt.subplots()\n",
    "\n",
    "def update_heatmap(frame):\n",
    "    model.step()\n",
    "    gi_star_values = model.calculate_hotspots(distance_threshold=3)\n",
    "    ax.clear()\n",
    "    heatmap = ax.imshow(gi_star_values, cmap='hot', interpolation='nearest')\n",
    "    ax.set_title(f'Gi* Hotspot Analysis - Step {frame}')\n",
    "    return heatmap,\n",
    "\n",
    "ani = animation.FuncAnimation(fig, update_heatmap, frames=30, blit=False)\n",
    "\n",
    "# Save the animation\n",
    "ani.save('heatmap_animation_vienna.gif', writer=PillowWriter(fps=2))\n",
    "\n",
    "plt.show()"
   ]
  },
  {
   "cell_type": "markdown",
   "metadata": {},
   "source": [
    "# OFAT Analysis"
   ]
  },
  {
   "cell_type": "markdown",
   "metadata": {},
   "source": [
    "#### Take 5 warm up steps \n",
    "#### values chosen; 0.1,0.2,0.3,0....."
   ]
  },
  {
   "cell_type": "markdown",
   "metadata": {},
   "source": [
    "# FUNCTIONS TO RUN SENSITIVITY ANALYSIS AND PLOT DATA FROM SENSITIVITY ANALYSIS"
   ]
  },
  {
   "cell_type": "code",
   "execution_count": null,
   "metadata": {},
   "outputs": [],
   "source": [
    "def run_sensitivity_analysis(model_class, fixed_params, variable_params, iterations, max_steps, data_collection_period, features_to_analyze, steps_to_skip=5):\n",
    "    # Perform the batch run with the specified parameters\n",
    "    results = batch_run(\n",
    "        model_class,\n",
    "        parameters={**fixed_params, **variable_params},\n",
    "        iterations=iterations,\n",
    "        max_steps=max_steps,\n",
    "        number_processes=None,\n",
    "        data_collection_period=data_collection_period,\n",
    "        display_progress=True\n",
    "    )\n",
    "    \n",
    "    # Convert the results to a DataFrame\n",
    "    results_df = pd.DataFrame(results)\n",
    "    \n",
    "    # Filter out the initial steps to skip\n",
    "    filtered_results = results_df[results_df['Step'] > steps_to_skip]\n",
    "    \n",
    "    # Prepare a dictionary to store the mean and std of the specified features\n",
    "    analysis_results = {}\n",
    "    \n",
    "    # Analyze each feature specified\n",
    "    for feature in features_to_analyze:\n",
    "        mean_feature = filtered_results.groupby(list(variable_params.keys()))[feature].mean().reset_index()\n",
    "        std_feature = filtered_results.groupby(list(variable_params.keys()))[feature].std().reset_index()\n",
    "        analysis_results[feature] = {\n",
    "            'mean': mean_feature,\n",
    "            'std': std_feature\n",
    "        }\n",
    "    \n",
    "    return analysis_results"
   ]
  },
  {
   "cell_type": "code",
   "execution_count": null,
   "metadata": {},
   "outputs": [],
   "source": [
    "def plot_feature_analysis(feature_analysis, feature_name, variable_param_name):\n",
    "    mean_df = feature_analysis[feature_name]['mean']\n",
    "    std_df = feature_analysis[feature_name]['std']\n",
    "    \n",
    "    plt.figure(figsize=(10, 6), dpi=300)\n",
    "    \n",
    "    # Plot the mean with standard deviation as error bars\n",
    "    plt.errorbar(mean_df[variable_param_name], mean_df[feature_name], \n",
    "                 yerr=std_df[feature_name], fmt='o', capsize=5, label=f'Average {feature_name}')\n",
    "    \n",
    "    plt.title(f'Average {feature_name} vs {variable_param_name} with Standard Deviation')\n",
    "    plt.xlabel(variable_param_name)\n",
    "    plt.ylabel(feature_name)\n",
    "    plt.legend()\n",
    "    plt.grid(True)\n",
    "    plt.show()"
   ]
  },
  {
   "cell_type": "code",
   "execution_count": null,
   "metadata": {},
   "outputs": [],
   "source": [
    "iterations = 30\n",
    "max_steps = 30"
   ]
  },
  {
   "cell_type": "markdown",
   "metadata": {},
   "source": [
    "# SIGMA ANALYSIS"
   ]
  },
  {
   "cell_type": "code",
   "execution_count": null,
   "metadata": {},
   "outputs": [],
   "source": [
    "\n",
    "# Example usage:\n",
    "fixed_params = {\n",
    "    \"property_value_func\": modules.property_value_quadrants,\n",
    "    \"income_func\": modules.income_func,\n",
    "    \"desirability_func\": modules.desirability_func,\n",
    "    \"update_interested_agents_func\": modules.update_interested_agents_concurrently,\n",
    "    \"utility_func\": modules.utility_func,\n",
    "    \"price_func\": modules.price_func,\n",
    "    \"compute_similar_neighbours\": modules.compute_similar_neighbours,\n",
    "    \"calculate_gi_star\": modules.calculate_gi_star,\n",
    "    \"price_func_cap\": modules.price_func_cap,\n",
    "    \"height\": 20,\n",
    "    \"width\": 20,\n",
    "    \"density\": 0.8,\n",
    "    \"minority_pc\": 0.2,\n",
    "    \"alpha\": 0.5,\n",
    "    \"income_scale\": 1.5,\n",
    "    \"property_value_weight\": 0.1,\n",
    "    \"mu_theta\": 0.8,\n",
    "    #\"sigma_theta\": 0.1\n",
    "}\n",
    "\n",
    "variable_params = {\n",
    "    'sigma_theta': np.linspace(0, 1, 10),\n",
    "}\n",
    "\n",
    "features_to_analyze = [\"Utility\", \"Agent entropy\", \"Desirability entropy\"]\n",
    "\n",
    "# Run the sensitivity analysis\n",
    "analysis_sigma = run_sensitivity_analysis(\n",
    "    model_class=model.Schelling,\n",
    "    fixed_params=fixed_params,\n",
    "    variable_params=variable_params,\n",
    "    iterations=iterations,\n",
    "    max_steps=max_steps,\n",
    "    data_collection_period=8,\n",
    "    features_to_analyze=features_to_analyze\n",
    ")\n",
    "\n"
   ]
  },
  {
   "cell_type": "code",
   "execution_count": null,
   "metadata": {},
   "outputs": [],
   "source": [
    "plot_feature_analysis(analysis_sigma, \"Agent entropy\", \"sigma_theta\")\n",
    "plot_feature_analysis(analysis_sigma,\"Desirability entropy\", \"sigma_theta\")\n",
    "plot_feature_analysis(analysis_sigma, \"Utility\", \"sigma_theta\")"
   ]
  },
  {
   "cell_type": "markdown",
   "metadata": {},
   "source": [
    "# ALPHA ANALYSIS"
   ]
  },
  {
   "cell_type": "code",
   "execution_count": null,
   "metadata": {},
   "outputs": [],
   "source": [
    "# Example usage:\n",
    "fixed_params = {\n",
    "    \"property_value_func\": modules.property_value_quadrants,\n",
    "    \"income_func\": modules.income_func,\n",
    "    \"desirability_func\": modules.desirability_func,\n",
    "    \"update_interested_agents_func\": modules.update_interested_agents_concurrently,\n",
    "    \"utility_func\": modules.utility_func,\n",
    "    \"price_func\": modules.price_func,\n",
    "    \"compute_similar_neighbours\": modules.compute_similar_neighbours,\n",
    "    \"calculate_gi_star\": modules.calculate_gi_star,\n",
    "    \"price_func_cap\": modules.price_func_cap,\n",
    "    \"height\": 20,\n",
    "    \"width\": 20,\n",
    "    \"density\": 0.8,\n",
    "    \"minority_pc\": 0.2,\n",
    "    #\"alpha\": 0.5,\n",
    "    \"income_scale\": 1.5,\n",
    "    \"property_value_weight\": 0.1,\n",
    "    \"mu_theta\": 0.8,\n",
    "    \"sigma_theta\": 0.1\n",
    "}\n",
    "\n",
    "variable_params = {\n",
    "    'alpha': np.linspace(0, 1, 10),\n",
    "}\n",
    "\n",
    "features_to_analyze = [\"Utility\", \"Agent entropy\", \"Desirability entropy\"]\n",
    "\n",
    "# Run the sensitivity analysis\n",
    "analysis_alpha = run_sensitivity_analysis(\n",
    "    model_class=model.Schelling,\n",
    "    fixed_params=fixed_params,\n",
    "    variable_params=variable_params,\n",
    "    iterations=iterations,\n",
    "    max_steps=max_steps,\n",
    "    data_collection_period=8,\n",
    "    features_to_analyze=features_to_analyze\n",
    ")\n"
   ]
  },
  {
   "cell_type": "code",
   "execution_count": null,
   "metadata": {},
   "outputs": [],
   "source": [
    "plot_feature_analysis(analysis_alpha, \"Agent entropy\", \"alpha\")\n",
    "plot_feature_analysis(analysis_alpha,\"Desirability entropy\", \"alpha\")\n",
    "plot_feature_analysis(analysis_alpha, \"Utility\", \"alpha\")"
   ]
  },
  {
   "cell_type": "markdown",
   "metadata": {},
   "source": [
    "# MINORITY ANALYSIS"
   ]
  },
  {
   "cell_type": "code",
   "execution_count": null,
   "metadata": {},
   "outputs": [],
   "source": [
    "# Example usage:\n",
    "fixed_params = {\n",
    "    \"property_value_func\": modules.property_value_quadrants,\n",
    "    \"income_func\": modules.income_func,\n",
    "    \"desirability_func\": modules.desirability_func,\n",
    "    \"update_interested_agents_func\": modules.update_interested_agents_concurrently,\n",
    "    \"utility_func\": modules.utility_func,\n",
    "    \"price_func\": modules.price_func,\n",
    "    \"compute_similar_neighbours\": modules.compute_similar_neighbours,\n",
    "    \"calculate_gi_star\": modules.calculate_gi_star,\n",
    "    \"price_func_cap\": modules.price_func_cap,\n",
    "    \"height\": 20,\n",
    "    \"width\": 20,\n",
    "    \"density\": 0.8,\n",
    "    #\"minority_pc\": 0.2,\n",
    "    \"alpha\": 0.5,\n",
    "    \"income_scale\": 1.5,\n",
    "    \"property_value_weight\": 0.1,\n",
    "    \"mu_theta\": 0.8,\n",
    "    \"sigma_theta\": 0.1\n",
    "}\n",
    "\n",
    "variable_params = {\n",
    "    'minority_pc': np.linspace(0, 1, 10),\n",
    "}\n",
    "\n",
    "features_to_analyze = [\"Utility\", \"Agent entropy\", \"Desirability entropy\"]\n",
    "\n",
    "# Run the sensitivity analysis\n",
    "analysis_minority = run_sensitivity_analysis(\n",
    "    model_class=model.Schelling,\n",
    "    fixed_params=fixed_params,\n",
    "    variable_params=variable_params,\n",
    "    iterations=iterations,\n",
    "    max_steps=max_steps,\n",
    "    data_collection_period=8,\n",
    "    features_to_analyze=features_to_analyze\n",
    ")"
   ]
  },
  {
   "cell_type": "code",
   "execution_count": null,
   "metadata": {},
   "outputs": [],
   "source": [
    "plot_feature_analysis(analysis_minority , \"Agent entropy\", \"minority_pc\")\n",
    "plot_feature_analysis(analysis_minority ,\"Desirability entropy\", \"minority_pc\")\n",
    "plot_feature_analysis(analysis_minority,  \"Utility\", \"minority_pc\")"
   ]
  },
  {
   "cell_type": "markdown",
   "metadata": {},
   "source": [
    "# MU ANALYSIS"
   ]
  },
  {
   "cell_type": "code",
   "execution_count": null,
   "metadata": {},
   "outputs": [],
   "source": [
    "# Example usage:\n",
    "fixed_params = {\n",
    "    \"property_value_func\": modules.property_value_quadrants,\n",
    "    \"income_func\": modules.income_func,\n",
    "    \"desirability_func\": modules.desirability_func,\n",
    "    \"update_interested_agents_func\": modules.update_interested_agents_concurrently,\n",
    "    \"utility_func\": modules.utility_func,\n",
    "    \"price_func\": modules.price_func,\n",
    "    \"compute_similar_neighbours\": modules.compute_similar_neighbours,\n",
    "    \"calculate_gi_star\": modules.calculate_gi_star,\n",
    "    \"price_func_cap\": modules.price_func_cap,\n",
    "    \"height\": 20,\n",
    "    \"width\": 20,\n",
    "    \"density\": 0.8,\n",
    "    \"minority_pc\": 0.2,\n",
    "    \"alpha\": 0.5,\n",
    "    \"income_scale\": 1.5,\n",
    "    \"property_value_weight\": 0.1,\n",
    "    #\"mu_theta\": 0.8,\n",
    "    \"sigma_theta\": 0.1\n",
    "}\n",
    "\n",
    "variable_params = {\n",
    "    'mu_theta': np.linspace(0, 1, 10),\n",
    "}\n",
    "\n",
    "features_to_analyze = [\"Utility\", \"Agent entropy\", \"Desirability entropy\"]\n",
    "\n",
    "# Run the sensitivity analysis\n",
    "analysis_mu = run_sensitivity_analysis(\n",
    "    model_class=model.Schelling,\n",
    "    fixed_params=fixed_params,\n",
    "    variable_params=variable_params,\n",
    "    iterations=iterations,\n",
    "    max_steps=max_steps,\n",
    "    data_collection_period=8,\n",
    "    features_to_analyze=features_to_analyze\n",
    ")"
   ]
  },
  {
   "cell_type": "code",
   "execution_count": null,
   "metadata": {},
   "outputs": [],
   "source": [
    "plot_feature_analysis(analysis_mu, \"Agent entropy\", \"mu_theta\")\n",
    "plot_feature_analysis(analysis_mu,\"Desirability entropy\", \"mu_theta\")\n",
    "plot_feature_analysis(analysis_mu, \"Utility\", \"mu_theta\")"
   ]
  },
  {
   "cell_type": "markdown",
   "metadata": {},
   "source": [
    "# DENSITY"
   ]
  },
  {
   "cell_type": "code",
   "execution_count": null,
   "metadata": {},
   "outputs": [],
   "source": [
    "# Example usage:\n",
    "fixed_params = {\n",
    "    \"property_value_func\": modules.property_value_quadrants,\n",
    "    \"income_func\": modules.income_func,\n",
    "    \"desirability_func\": modules.desirability_func,\n",
    "    \"update_interested_agents_func\": modules.update_interested_agents_concurrently,\n",
    "    \"utility_func\": modules.utility_func,\n",
    "    \"price_func\": modules.price_func,\n",
    "    \"compute_similar_neighbours\": modules.compute_similar_neighbours,\n",
    "    \"calculate_gi_star\": modules.calculate_gi_star,\n",
    "    \"price_func_cap\": modules.price_func_cap,\n",
    "    \"height\": 20,\n",
    "    \"width\": 20,\n",
    "    #\"density\": 0.8,\n",
    "    \"minority_pc\": 0.2,\n",
    "    \"alpha\": 0.5,\n",
    "    \"income_scale\": 1.5,\n",
    "    \"property_value_weight\": 0.1,\n",
    "    \"mu_theta\": 0.8,\n",
    "    \"sigma_theta\": 0.1\n",
    "}\n",
    "\n",
    "variable_params = {\n",
    "    'density': np.linspace(0, 1, 10),\n",
    "}\n",
    "\n",
    "features_to_analyze = [\"Utility\", \"Agent entropy\", \"Desirability entropy\"]\n",
    "\n",
    "# Run the sensitivity analysis\n",
    "analysis_density = run_sensitivity_analysis(\n",
    "    model_class=model.Schelling,\n",
    "    fixed_params=fixed_params,\n",
    "    variable_params=variable_params,\n",
    "    iterations=iterations,\n",
    "    max_steps=max_steps,\n",
    "    data_collection_period=8,\n",
    "    features_to_analyze=features_to_analyze\n",
    ")"
   ]
  },
  {
   "cell_type": "code",
   "execution_count": null,
   "metadata": {},
   "outputs": [],
   "source": [
    "plot_feature_analysis(analysis_density, \"Agent entropy\", \"density\")\n",
    "plot_feature_analysis(analysis_density,\"Desirability entropy\", \"density\")\n",
    "plot_feature_analysis(analysis_density, \"Utility\", \"density\")"
   ]
  },
  {
   "cell_type": "markdown",
   "metadata": {},
   "source": [
    "# PROPERTY VALUE WEIGHT"
   ]
  },
  {
   "cell_type": "code",
   "execution_count": null,
   "metadata": {},
   "outputs": [],
   "source": [
    "# Example usage:\n",
    "fixed_params = {\n",
    "    \"property_value_func\": modules.property_value_quadrants,\n",
    "    \"income_func\": modules.income_func,\n",
    "    \"desirability_func\": modules.desirability_func,\n",
    "    \"update_interested_agents_func\": modules.update_interested_agents_concurrently,\n",
    "    \"utility_func\": modules.utility_func,\n",
    "    \"price_func\": modules.price_func,\n",
    "    \"compute_similar_neighbours\": modules.compute_similar_neighbours,\n",
    "    \"calculate_gi_star\": modules.calculate_gi_star,\n",
    "    \"price_func_cap\": modules.price_func_cap,\n",
    "    \"height\": 20,\n",
    "    \"width\": 20,\n",
    "    \"density\": 0.8,\n",
    "    \"minority_pc\": 0.2,\n",
    "    \"alpha\": 0.5,\n",
    "    \"income_scale\": 1.5,\n",
    "    #\"property_value_weight\": 0.1,\n",
    "    \"mu_theta\": 0.8,\n",
    "    \"sigma_theta\": 0.1\n",
    "}\n",
    "\n",
    "variable_params = {\n",
    "    'property_value_weight': np.linspace(0, 1, 10),\n",
    "}\n",
    "\n",
    "features_to_analyze = [\"Utility\", \"Agent entropy\", \"Desirability entropy\"]\n",
    "\n",
    "# Run the sensitivity analysis\n",
    "analysis_prop_weight = run_sensitivity_analysis(\n",
    "    model_class=model.Schelling,\n",
    "    fixed_params=fixed_params,\n",
    "    variable_params=variable_params,\n",
    "    iterations=iterations,\n",
    "    max_steps=max_steps,\n",
    "    data_collection_period=8,\n",
    "    features_to_analyze=features_to_analyze\n",
    ")\n",
    "\n"
   ]
  },
  {
   "cell_type": "code",
   "execution_count": null,
   "metadata": {},
   "outputs": [],
   "source": [
    "plot_feature_analysis(analysis_prop_weight, \"Agent entropy\", \"property_value_weight\")\n",
    "plot_feature_analysis(analysis_prop_weight,\"Desirability entropy\", \"property_value_weight\")\n",
    "plot_feature_analysis(analysis_prop_weight, \"Utility\", \"property_value_weight\")"
   ]
  },
  {
   "cell_type": "markdown",
   "metadata": {},
   "source": [
    "# Collecting Data Vienna policy"
   ]
  },
  {
   "cell_type": "code",
   "execution_count": null,
   "metadata": {},
   "outputs": [],
   "source": [
    "import modules as modules\n",
    "import model as model\n",
    "from model import Schelling\n",
    "\n",
    "def schelling_vienna(num_runs, num_steps, burn_in_period, minority_pc, property_value_weight, alpha, mu_theta, sigma_theta, density):\n",
    "\n",
    "    # initialize storage for parameters\n",
    "    overall_desirability_entropy = []\n",
    "    overall_agent_entropy = []\n",
    "    overall_utility = []\n",
    "\n",
    "    # run the model several times for the same parameter setting \n",
    "    for _ in range(num_runs):\n",
    "\n",
    "        # initialize model\n",
    "        models = Schelling(\n",
    "            property_value_func=modules.property_value_quadrants,\n",
    "            income_func=modules.income_func,\n",
    "            desirability_func=modules.desirability_func,\n",
    "            utility_func=modules.utility_func,\n",
    "            price_func=modules.price_func,\n",
    "            compute_similar_neighbours=modules.compute_similar_neighbours,\n",
    "            calculate_gi_star = modules.calculate_gi_star,\n",
    "            update_interested_agents_func = modules.update_interested_agents_concurrently,\n",
    "            price_func_cap=modules.price_func_cap,\n",
    "            policy_vienna=False,\n",
    "            policy_singapore=True,\n",
    "            #height=20,\n",
    "            #width=20,\n",
    "            radius=1,\n",
    "            density=density,\n",
    "            minority_pc=minority_pc,\n",
    "            alpha=alpha,\n",
    "            income_scale=1.5, # the scale by which the income is higher than the property value\n",
    "            property_value_weight=property_value_weight,\n",
    "            mu_theta = mu_theta,\n",
    "            sigma_theta = sigma_theta,\n",
    "            seed=42)\n",
    "\n",
    "        # Run the model for a certain number of steps\n",
    "        for _ in range(num_steps):\n",
    "            models.step()\n",
    "\n",
    "        # call necessary data collectors\n",
    "        agent_data = models.datacollector.get_agent_vars_dataframe()\n",
    "        model_data_entropy = models.datacollector.get_model_vars_dataframe()\n",
    "    \n",
    "        # Compute mean and standard deviation of entropies over time per run\n",
    "        desirability_entropy = model_data_entropy['Desirability entropy'].to_numpy()\n",
    "        # desirability_entropy_std = model_data_entropy['Desirability entropy'].std()\n",
    "        mean_desirability_entropy = np.mean(desirability_entropy[burn_in_period::])\n",
    "        \n",
    "        agent_entropy = model_data_entropy['Agent entropy'].to_numpy()\n",
    "        # agent_entropy_std = model_data_entropy['Agent entropy'].std()\n",
    "        mean_agent_entropy = np.mean(agent_entropy[burn_in_period::])\n",
    "        \n",
    "        # Compute mean and standard deviation of utility per time step over each agent \n",
    "        utility_mean = agent_data.groupby(level='Step')['Utility'].mean()\n",
    "        utility_std = agent_data.groupby(level='Step')['Utility'].std()\n",
    "        \n",
    "        # Compute mean and standard deviation of utility over time \n",
    "        utility_mean = pd.DataFrame(utility_mean).to_numpy()\n",
    "        utility_std = pd.DataFrame(utility_std).to_numpy()\n",
    "        mean_utility_interim = np.mean(utility_mean[burn_in_period::])\n",
    "\n",
    "        # Append all results to storage\n",
    "        overall_desirability_entropy.append(mean_desirability_entropy)\n",
    "        overall_agent_entropy.append(mean_agent_entropy)\n",
    "        overall_utility.append(mean_utility_interim)\n",
    "\n",
    "    return np.array(overall_desirability_entropy), np.array(overall_agent_entropy), np.array(overall_utility)"
   ]
  },
  {
   "cell_type": "code",
   "execution_count": null,
   "metadata": {},
   "outputs": [],
   "source": [
    "minority_pc, property_value_weight, alpha, mu_theta, sigma_theta, density = 0.3, 0.1, 0.5, 0.8, 0.1, 0.8"
   ]
  },
  {
   "cell_type": "code",
   "execution_count": null,
   "metadata": {},
   "outputs": [],
   "source": [
    "overall_desirability_entropy,overall_agent_entropy,overall_utility= schelling_vienna(100, 30, 5, minority_pc, property_value_weight, alpha, mu_theta, sigma_theta, density)"
   ]
  },
  {
   "cell_type": "code",
   "execution_count": null,
   "metadata": {},
   "outputs": [],
   "source": [
    "singapore_initial_results = np.column_stack((overall_desirability_entropy, overall_agent_entropy, overall_utility))\n",
    "\n",
    "# Save the stacked array to a CSV file\n",
    "np.savetxt('singapore_policy_100_runs.csv', singapore_initial_results, delimiter=',', header='desirability_entropy, agent_entropy, utility')"
   ]
  },
  {
   "cell_type": "markdown",
   "metadata": {},
   "source": [
    "# ANOVA of results from different policies and control"
   ]
  },
  {
   "cell_type": "code",
   "execution_count": null,
   "metadata": {},
   "outputs": [],
   "source": [
    "# Load the data from CSV files\n",
    "data_vienna_policy = pd.read_csv(\"/Users/carokluin/Documents/CSM/Agent-Based-modelling/ABM_assignment.py/Mesa Schelling Visualization/vienna_policy.csv\")\n",
    "data_singapore_policy = pd.read_csv(\"/Users/carokluin/Documents/CSM/Agent-Based-modelling/ABM_assignment.py/Mesa Schelling Visualization/singapore_policy.csv\")\n",
    "data_no_policy = pd.read_csv(\"/Users/carokluin/Documents/CSM/Agent-Based-modelling/ABM_assignment.py/Mesa Schelling Visualization/no_policy_result.csv\")\n",
    "\n",
    "data_vienna_policy.columns = data_vienna_policy.columns.str.strip()\n",
    "data_no_policy.columns = data_no_policy.columns.str.strip()\n",
    "data_singapore_policy.columns = data_singapore_policy.columns.str.strip()\n",
    "\n",
    "# Metrics to compare\n",
    "metrics = [\"# desirability_entropy\", \"agent_entropy\", \"utility\"]\n",
    "\n",
    "# Perform t-test comparisons\n",
    "print(\"Comparison: No Policy vs Vienna Policy\")\n",
    "\n",
    "for metric in metrics:\n",
    "    perform_ttest(data_no_policy, data_vienna_policy, \"No Policy\", \"Vienna Policy\", metric)\n",
    "\n",
    "print(\"Comparison: No Policy vs Singapore Policy\")\n",
    "\n",
    "for metric in metrics:\n",
    "    perform_ttest(data_no_policy, data_singapore_policy, \"No Policy\", \"Singapore Policy\", metric)\n",
    "\n",
    "print(\"Comparison: Vienna Policy vs Singapore Policy\")\n",
    "for metric in metrics:\n",
    "    perform_ttest(data_vienna_policy, data_singapore_policy, \"Vienna Policy\", \"Singapore Policy\", metric)"
   ]
  },
  {
   "cell_type": "code",
   "execution_count": null,
   "metadata": {},
   "outputs": [],
   "source": [
    "# Prepare data for ANOVA\n",
    "data_combined = pd.concat([data_vienna_policy.assign(policy='Vienna'),\n",
    "                           data_singapore_policy.assign(policy='Singapore'),\n",
    "                           data_no_policy.assign(policy='No Policy')])\n",
    "\n",
    "# Function to perform ANOVA\n",
    "def perform_anova(metric):\n",
    "    groups = data_combined.groupby('policy')[metric].apply(list)\n",
    "    f_stat, p_value = stats.f_oneway(*groups)\n",
    "    print(f\"ANOVA result for {metric}:\")\n",
    "    print(f\"F-statistic: {f_stat:.2f}\")\n",
    "    print(f\"P-value: {p_value:.4f}\\n\")\n",
    "    return p_value\n",
    "\n",
    "# Metrics to compare\n",
    "metrics = [\"# desirability_entropy\", \"agent_entropy\", \"utility\"]\n",
    "\n",
    "# Perform ANOVA for each metric\n",
    "anova_results = {metric: perform_anova(metric) for metric in metrics}"
   ]
  },
  {
   "cell_type": "code",
   "execution_count": null,
   "metadata": {},
   "outputs": [],
   "source": [
    "\n",
    "# Function to perform Tukey's HSD test\n",
    "def perform_tukey(metric):\n",
    "    tukey = pairwise_tukeyhsd(endog=data_combined[metric], \n",
    "                              groups=data_combined['policy'], \n",
    "                              alpha=0.05)\n",
    "    print(f\"Tukey's HSD test result for {metric}:\\n\")\n",
    "    print(tukey)\n",
    "    print(\"\\n\")\n",
    "\n",
    "# Perform Tukey's HSD test for each metric where ANOVA was significant\n",
    "for metric in metrics:\n",
    "    if anova_results[metric] < 0.05:\n",
    "        perform_tukey(metric)"
   ]
  }
 ],
 "metadata": {
  "kernelspec": {
   "display_name": "Python 3",
   "language": "python",
   "name": "python3"
  },
  "language_info": {
   "codemirror_mode": {
    "name": "ipython",
    "version": 3
   },
   "file_extension": ".py",
   "mimetype": "text/x-python",
   "name": "python",
   "nbconvert_exporter": "python",
   "pygments_lexer": "ipython3",
   "version": "3.11.4"
  }
 },
 "nbformat": 4,
 "nbformat_minor": 2
}
