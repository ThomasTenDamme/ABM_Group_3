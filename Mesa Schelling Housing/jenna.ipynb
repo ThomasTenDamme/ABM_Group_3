{
 "cells": [
  {
   "cell_type": "code",
   "execution_count": 1,
   "metadata": {},
   "outputs": [
    {
     "name": "stderr",
     "output_type": "stream",
     "text": [
      "/Users/jennadevries/Documents/GitHub/ABM_Group_3/Mesa Schelling Housing/modules.py:8: UserWarning: Default value 0 (int) might not be best suitable with dtype=float64.\n",
      "  layer = mesa.space.PropertyLayer(name, width, height, 0)\n",
      "/Users/jennadevries/Documents/GitHub/ABM_Group_3/Mesa Schelling Housing/model.py:119: UserWarning: Default value 1 (int) might not be best suitable with dtype=float64.\n",
      "  self.desirability_layer = mesa.space.PropertyLayer(\"desirability\", width, height, 1)\n",
      "/Users/jennadevries/Documents/GitHub/ABM_Group_3/Mesa Schelling Housing/model.py:125: UserWarning: Default value 0 (int) might not be best suitable with dtype=float64.\n",
      "  self.interested_agents_layer = mesa.space.PropertyLayer(\"interested_agents\", width, height, 0)\n",
      "/Users/jennadevries/Documents/GitHub/ABM_Group_3/Mesa Schelling Housing/model.py:131: UserWarning: Default value 0.5 (float) might not be best suitable with dtype=float64.\n",
      "  self.utility_layer = mesa.space.PropertyLayer(\"utility\", width, height, 0.5)\n"
     ]
    },
    {
     "name": "stdout",
     "output_type": "stream",
     "text": [
      "0\n",
      "1\n",
      "2\n",
      "3\n",
      "4\n",
      "               Utility  Segregation  Moves\n",
      "Step AgentID                              \n",
      "0    1        0.500000          NaN      0\n",
      "     2        0.500000          NaN      0\n",
      "     3        0.500000          NaN      0\n",
      "     4        0.500000          NaN      0\n",
      "     5        0.500000          NaN      0\n",
      "...                ...          ...    ...\n",
      "5    163      0.899327          1.0      1\n",
      "     75       0.900035          1.0      1\n",
      "     166      0.900352          1.0      1\n",
      "     110      0.900103          0.5      1\n",
      "     257      0.900875          1.0      1\n",
      "\n",
      "[1932 rows x 3 columns]\n"
     ]
    }
   ],
   "source": [
    "import modules\n",
    "from model import Schelling\n",
    "\n",
    "# Create and run the model\n",
    "model = Schelling(\n",
    "    property_value_func=modules.property_value_func,\n",
    "    utility_func=modules.utility_func,\n",
    "    price_func=modules.price_func,\n",
    "    height=20,\n",
    "    width=20,\n",
    "    homophily=0.5,\n",
    "    radius=1,\n",
    "    density=0.8,\n",
    "    minority_pc=0.2,\n",
    "    alpha=0.5,\n",
    "    seed=42\n",
    ")\n",
    "\n",
    "# Run the model for a certain number of steps\n",
    "for i in range(5):\n",
    "    print(i)\n",
    "    model.step()\n",
    "\n",
    "# Retrieve the collected data\n",
    "agent_data = model.datacollector.get_agent_vars_dataframe()\n",
    "model_data = model.datacollector.get_model_vars_dataframe()\n",
    "\n",
    "print(agent_data)"
   ]
  },
  {
   "cell_type": "code",
   "execution_count": 6,
   "metadata": {},
   "outputs": [
    {
     "name": "stdout",
     "output_type": "stream",
     "text": [
      "20\n"
     ]
    }
   ],
   "source": [
    "print(len(model_data['Desirability'][0][0]))"
   ]
  }
 ],
 "metadata": {
  "kernelspec": {
   "display_name": "base",
   "language": "python",
   "name": "python3"
  },
  "language_info": {
   "codemirror_mode": {
    "name": "ipython",
    "version": 3
   },
   "file_extension": ".py",
   "mimetype": "text/x-python",
   "name": "python",
   "nbconvert_exporter": "python",
   "pygments_lexer": "ipython3",
   "version": "3.10.11"
  }
 },
 "nbformat": 4,
 "nbformat_minor": 2
}
