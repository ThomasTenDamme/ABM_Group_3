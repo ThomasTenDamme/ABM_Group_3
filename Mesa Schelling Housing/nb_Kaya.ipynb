{
 "cells": [
  {
   "cell_type": "code",
   "execution_count": 1,
   "metadata": {},
   "outputs": [],
   "source": [
    "import numpy as np\n",
    "import matplotlib.pyplot as plt\n",
    "from collections import defaultdict\n",
    "import pandas as pd"
   ]
  },
  {
   "cell_type": "markdown",
   "metadata": {},
   "source": [
    "Satelli sampling means variance based sampling, but not a good measure for non-uniform distribution. Advantage: just extends series further if you want to increase number of samples\n",
    "Parallelization of sampling --> batch run (concurrent)"
   ]
  },
  {
   "cell_type": "markdown",
   "metadata": {},
   "source": [
    "# Added modules"
   ]
  },
  {
   "cell_type": "code",
   "execution_count": null,
   "metadata": {},
   "outputs": [],
   "source": [
    "def get_theta(x, mu, sigma):\n",
    "    \"\"\"\n",
    "    x: fraction of similar neighbours\n",
    "    mu: optimal fraction of similar neighbours\n",
    "    sigma: acceptance range\n",
    "    \"\"\"\n",
    "    theta = np.exp(-((x - mu) ** 2) / (2 * sigma ** 2))\n",
    "    return theta"
   ]
  },
  {
   "cell_type": "code",
   "execution_count": null,
   "metadata": {},
   "outputs": [],
   "source": [
    "def gaussian_function(x, mu, sigma):\n",
    "    return np.exp(-((x - mu) ** 2) / (2 * sigma ** 2))\n",
    "\n",
    "# Example usage:\n",
    "x_values = np.linspace(0, 1, 100)\n",
    "mu = 0.5  # Peak in the middle\n",
    "sigma = 0.6  # Controls the width\n",
    "\n",
    "y_values = gaussian_function(x_values, mu, sigma)\n",
    "\n",
    "# You can plot the function to visualize it\n",
    "import matplotlib.pyplot as plt\n",
    "\n",
    "plt.plot(x_values, y_values)\n",
    "plt.xlabel('x')\n",
    "plt.ylabel('f(x)')\n",
    "plt.title(f'Gaussian Function with Peak at {mu}')\n",
    "plt.show()"
   ]
  },
  {
   "cell_type": "markdown",
   "metadata": {},
   "source": [
    "# Sobol Sensitivity Analysis"
   ]
  },
  {
   "cell_type": "code",
   "execution_count": 2,
   "metadata": {},
   "outputs": [],
   "source": [
    "from SALib.sample import saltelli\n",
    "from SALib.analyze import sobol"
   ]
  },
  {
   "cell_type": "code",
   "execution_count": 3,
   "metadata": {},
   "outputs": [],
   "source": [
    "import modules as modules\n",
    "import model as model\n",
    "from model import Schelling\n",
    "\n",
    "def schelling_SA(num_steps, minority_pc, property_value_weight, alpha, mu_theta, sigma_theta, density):\n",
    "\n",
    "    # initialize model\n",
    "    models = Schelling(\n",
    "        property_value_func=modules.property_value_quadrants,\n",
    "        income_func=modules.income_func,\n",
    "        desirability_func=modules.desirability_func,\n",
    "        utility_func=modules.utility_func,\n",
    "        price_func=modules.price_func,\n",
    "        compute_similar_neighbours=modules.compute_similar_neighbours,\n",
    "        height=20,\n",
    "        width=20,\n",
    "        radius=1,\n",
    "        density=density,\n",
    "        minority_pc=minority_pc,\n",
    "        alpha=alpha,\n",
    "        income_scale=1.5, # the scale by which the income is higher than the property value\n",
    "        property_value_weight=property_value_weight,\n",
    "        mu_theta = mu_theta,\n",
    "        sigma_theta = sigma_theta,\n",
    "        seed=42)\n",
    "\n",
    "    # Run the model for a certain number of steps\n",
    "    for _ in range(num_steps):\n",
    "        models.step()\n",
    "\n",
    "    # call nece\n",
    "    model_data = models.datacollector_attempt.get_model_vars_dataframe()\n",
    "    \n",
    "    print(model_data)\n",
    "\n",
    "    \n"
   ]
  },
  {
   "cell_type": "code",
   "execution_count": 4,
   "metadata": {},
   "outputs": [
    {
     "name": "stderr",
     "output_type": "stream",
     "text": [
      "/var/folders/v9/l1nzr55125v697bcr39l01hr0000gn/T/ipykernel_55800/4282079107.py:7: DeprecationWarning: `salib.sample.saltelli` will be removed in SALib 1.5. Please use `salib.sample.sobol`\n",
      "  samples = saltelli.sample(problem, 1) #2**5) #2024\n",
      "/Users/kayamarlenedisselkamp/.local/share/virtualenvs/ABM-Notebooks-0-1-OzA5lFMJ/lib/python3.11/site-packages/SALib/sample/saltelli.py:109: UserWarning: \n",
      "        Convergence properties of the Sobol' sequence is only valid if\n",
      "        `N` (1) is equal to `2^n`.\n",
      "        \n",
      "  warnings.warn(msg)\n"
     ]
    }
   ],
   "source": [
    "# Step 1: Problem definition\n",
    "problem = {\n",
    "    'num_vars': 6,\n",
    "    'names': ['density', 'minority_pc', 'property_value_weight', 'alpha', 'mu_theta', 'sigma_theta'],\n",
    "    'bounds': [[0,1], [0,1], [0,1], [0,1], [0,1], [0,1]]\n",
    "}\n",
    "samples = saltelli.sample(problem, 1) #2**5) #2024"
   ]
  },
  {
   "cell_type": "code",
   "execution_count": 5,
   "metadata": {},
   "outputs": [
    {
     "name": "stderr",
     "output_type": "stream",
     "text": [
      "/Users/kayamarlenedisselkamp/Desktop/Master - Computational Science/Agent-Based Modelling/ABM-Notebooks-0-1/ABM_Group_3/Mesa Schelling Housing/modules.py:27: UserWarning: Default value 0 (int) might not be best suitable with dtype=float64.\n",
      "  layer = mesa.space.PropertyLayer(name, width, height, 0)\n",
      "/Users/kayamarlenedisselkamp/Desktop/Master - Computational Science/Agent-Based Modelling/ABM-Notebooks-0-1/ABM_Group_3/Mesa Schelling Housing/modules.py:27: FutureWarning: The new PropertyLayer and _PropertyGrid classes experimental. It may be changed or removed in any and all future releases, including patch releases.\n",
      "We would love to hear what you think about this new feature. If you have any thoughts, share them with us here: https://github.com/projectmesa/mesa/discussions/1932\n",
      "  layer = mesa.space.PropertyLayer(name, width, height, 0)\n",
      "/Users/kayamarlenedisselkamp/Desktop/Master - Computational Science/Agent-Based Modelling/ABM-Notebooks-0-1/ABM_Group_3/Mesa Schelling Housing/model.py:143: UserWarning: Default value 0.5 (float) might not be best suitable with dtype=float64.\n",
      "  self.desirability_layer = mesa.space.PropertyLayer(\"desirability\", width, height, 0.5)\n",
      "/Users/kayamarlenedisselkamp/Desktop/Master - Computational Science/Agent-Based Modelling/ABM-Notebooks-0-1/ABM_Group_3/Mesa Schelling Housing/model.py:149: UserWarning: Default value 0 (int) might not be best suitable with dtype=float64.\n",
      "  self.interested_agents_layer = mesa.space.PropertyLayer(\"interested_agents\", width, height, 0)\n",
      "/Users/kayamarlenedisselkamp/Desktop/Master - Computational Science/Agent-Based Modelling/ABM-Notebooks-0-1/ABM_Group_3/Mesa Schelling Housing/model.py:155: UserWarning: Default value 0.5 (float) might not be best suitable with dtype=float64.\n",
      "  self.utility_layer = mesa.space.PropertyLayer(\"utility\", width, height, 0.5)\n"
     ]
    },
    {
     "name": "stdout",
     "output_type": "stream",
     "text": [
      "   Desirability entropy  Agent entropy\n",
      "0              1.814272       0.657876\n",
      "1              2.791319       0.684783\n",
      "2              3.345990       0.669155\n",
      "3              3.540603       0.677673\n"
     ]
    },
    {
     "name": "stderr",
     "output_type": "stream",
     "text": [
      "/Users/kayamarlenedisselkamp/Desktop/Master - Computational Science/Agent-Based Modelling/ABM-Notebooks-0-1/ABM_Group_3/Mesa Schelling Housing/modules.py:27: UserWarning: Default value 0 (int) might not be best suitable with dtype=float64.\n",
      "  layer = mesa.space.PropertyLayer(name, width, height, 0)\n",
      "/Users/kayamarlenedisselkamp/Desktop/Master - Computational Science/Agent-Based Modelling/ABM-Notebooks-0-1/ABM_Group_3/Mesa Schelling Housing/model.py:143: UserWarning: Default value 0.5 (float) might not be best suitable with dtype=float64.\n",
      "  self.desirability_layer = mesa.space.PropertyLayer(\"desirability\", width, height, 0.5)\n",
      "/Users/kayamarlenedisselkamp/Desktop/Master - Computational Science/Agent-Based Modelling/ABM-Notebooks-0-1/ABM_Group_3/Mesa Schelling Housing/model.py:149: UserWarning: Default value 0 (int) might not be best suitable with dtype=float64.\n",
      "  self.interested_agents_layer = mesa.space.PropertyLayer(\"interested_agents\", width, height, 0)\n",
      "/Users/kayamarlenedisselkamp/Desktop/Master - Computational Science/Agent-Based Modelling/ABM-Notebooks-0-1/ABM_Group_3/Mesa Schelling Housing/model.py:155: UserWarning: Default value 0.5 (float) might not be best suitable with dtype=float64.\n",
      "  self.utility_layer = mesa.space.PropertyLayer(\"utility\", width, height, 0.5)\n"
     ]
    },
    {
     "name": "stdout",
     "output_type": "stream",
     "text": [
      "   Desirability entropy  Agent entropy\n",
      "0              1.915628       0.781821\n",
      "1              3.800426       0.824411\n",
      "2              4.549517       0.807963\n",
      "3              4.566859       0.805208\n"
     ]
    },
    {
     "name": "stderr",
     "output_type": "stream",
     "text": [
      "/Users/kayamarlenedisselkamp/Desktop/Master - Computational Science/Agent-Based Modelling/ABM-Notebooks-0-1/ABM_Group_3/Mesa Schelling Housing/modules.py:27: UserWarning: Default value 0 (int) might not be best suitable with dtype=float64.\n",
      "  layer = mesa.space.PropertyLayer(name, width, height, 0)\n",
      "/Users/kayamarlenedisselkamp/Desktop/Master - Computational Science/Agent-Based Modelling/ABM-Notebooks-0-1/ABM_Group_3/Mesa Schelling Housing/model.py:143: UserWarning: Default value 0.5 (float) might not be best suitable with dtype=float64.\n",
      "  self.desirability_layer = mesa.space.PropertyLayer(\"desirability\", width, height, 0.5)\n",
      "/Users/kayamarlenedisselkamp/Desktop/Master - Computational Science/Agent-Based Modelling/ABM-Notebooks-0-1/ABM_Group_3/Mesa Schelling Housing/model.py:149: UserWarning: Default value 0 (int) might not be best suitable with dtype=float64.\n",
      "  self.interested_agents_layer = mesa.space.PropertyLayer(\"interested_agents\", width, height, 0)\n",
      "/Users/kayamarlenedisselkamp/Desktop/Master - Computational Science/Agent-Based Modelling/ABM-Notebooks-0-1/ABM_Group_3/Mesa Schelling Housing/model.py:155: UserWarning: Default value 0.5 (float) might not be best suitable with dtype=float64.\n",
      "  self.utility_layer = mesa.space.PropertyLayer(\"utility\", width, height, 0.5)\n"
     ]
    },
    {
     "name": "stdout",
     "output_type": "stream",
     "text": [
      "   Desirability entropy  Agent entropy\n",
      "0              1.814272       0.657876\n",
      "1              2.811814       0.672545\n",
      "2              3.169787       0.686089\n",
      "3              3.227039       0.686045\n"
     ]
    },
    {
     "name": "stderr",
     "output_type": "stream",
     "text": [
      "/Users/kayamarlenedisselkamp/Desktop/Master - Computational Science/Agent-Based Modelling/ABM-Notebooks-0-1/ABM_Group_3/Mesa Schelling Housing/modules.py:27: UserWarning: Default value 0 (int) might not be best suitable with dtype=float64.\n",
      "  layer = mesa.space.PropertyLayer(name, width, height, 0)\n",
      "/Users/kayamarlenedisselkamp/Desktop/Master - Computational Science/Agent-Based Modelling/ABM-Notebooks-0-1/ABM_Group_3/Mesa Schelling Housing/model.py:143: UserWarning: Default value 0.5 (float) might not be best suitable with dtype=float64.\n",
      "  self.desirability_layer = mesa.space.PropertyLayer(\"desirability\", width, height, 0.5)\n",
      "/Users/kayamarlenedisselkamp/Desktop/Master - Computational Science/Agent-Based Modelling/ABM-Notebooks-0-1/ABM_Group_3/Mesa Schelling Housing/model.py:149: UserWarning: Default value 0 (int) might not be best suitable with dtype=float64.\n",
      "  self.interested_agents_layer = mesa.space.PropertyLayer(\"interested_agents\", width, height, 0)\n",
      "/Users/kayamarlenedisselkamp/Desktop/Master - Computational Science/Agent-Based Modelling/ABM-Notebooks-0-1/ABM_Group_3/Mesa Schelling Housing/model.py:155: UserWarning: Default value 0.5 (float) might not be best suitable with dtype=float64.\n",
      "  self.utility_layer = mesa.space.PropertyLayer(\"utility\", width, height, 0.5)\n"
     ]
    },
    {
     "name": "stdout",
     "output_type": "stream",
     "text": [
      "   Desirability entropy  Agent entropy\n",
      "0              1.814272       0.657876\n",
      "1              2.827270       0.661553\n",
      "2              2.928492       0.665221\n",
      "3              3.014695       0.662716\n"
     ]
    },
    {
     "name": "stderr",
     "output_type": "stream",
     "text": [
      "/Users/kayamarlenedisselkamp/Desktop/Master - Computational Science/Agent-Based Modelling/ABM-Notebooks-0-1/ABM_Group_3/Mesa Schelling Housing/modules.py:27: UserWarning: Default value 0 (int) might not be best suitable with dtype=float64.\n",
      "  layer = mesa.space.PropertyLayer(name, width, height, 0)\n",
      "/Users/kayamarlenedisselkamp/Desktop/Master - Computational Science/Agent-Based Modelling/ABM-Notebooks-0-1/ABM_Group_3/Mesa Schelling Housing/model.py:143: UserWarning: Default value 0.5 (float) might not be best suitable with dtype=float64.\n",
      "  self.desirability_layer = mesa.space.PropertyLayer(\"desirability\", width, height, 0.5)\n",
      "/Users/kayamarlenedisselkamp/Desktop/Master - Computational Science/Agent-Based Modelling/ABM-Notebooks-0-1/ABM_Group_3/Mesa Schelling Housing/model.py:149: UserWarning: Default value 0 (int) might not be best suitable with dtype=float64.\n",
      "  self.interested_agents_layer = mesa.space.PropertyLayer(\"interested_agents\", width, height, 0)\n",
      "/Users/kayamarlenedisselkamp/Desktop/Master - Computational Science/Agent-Based Modelling/ABM-Notebooks-0-1/ABM_Group_3/Mesa Schelling Housing/model.py:155: UserWarning: Default value 0.5 (float) might not be best suitable with dtype=float64.\n",
      "  self.utility_layer = mesa.space.PropertyLayer(\"utility\", width, height, 0.5)\n"
     ]
    },
    {
     "name": "stdout",
     "output_type": "stream",
     "text": [
      "   Desirability entropy  Agent entropy\n",
      "0              1.055460       0.657876\n",
      "1              2.276532       0.629198\n",
      "2              2.640862       0.635114\n",
      "3              2.788664       0.644015\n"
     ]
    },
    {
     "name": "stderr",
     "output_type": "stream",
     "text": [
      "/Users/kayamarlenedisselkamp/Desktop/Master - Computational Science/Agent-Based Modelling/ABM-Notebooks-0-1/ABM_Group_3/Mesa Schelling Housing/modules.py:27: UserWarning: Default value 0 (int) might not be best suitable with dtype=float64.\n",
      "  layer = mesa.space.PropertyLayer(name, width, height, 0)\n",
      "/Users/kayamarlenedisselkamp/Desktop/Master - Computational Science/Agent-Based Modelling/ABM-Notebooks-0-1/ABM_Group_3/Mesa Schelling Housing/model.py:143: UserWarning: Default value 0.5 (float) might not be best suitable with dtype=float64.\n",
      "  self.desirability_layer = mesa.space.PropertyLayer(\"desirability\", width, height, 0.5)\n",
      "/Users/kayamarlenedisselkamp/Desktop/Master - Computational Science/Agent-Based Modelling/ABM-Notebooks-0-1/ABM_Group_3/Mesa Schelling Housing/model.py:149: UserWarning: Default value 0 (int) might not be best suitable with dtype=float64.\n",
      "  self.interested_agents_layer = mesa.space.PropertyLayer(\"interested_agents\", width, height, 0)\n",
      "/Users/kayamarlenedisselkamp/Desktop/Master - Computational Science/Agent-Based Modelling/ABM-Notebooks-0-1/ABM_Group_3/Mesa Schelling Housing/model.py:155: UserWarning: Default value 0.5 (float) might not be best suitable with dtype=float64.\n",
      "  self.utility_layer = mesa.space.PropertyLayer(\"utility\", width, height, 0.5)\n"
     ]
    },
    {
     "ename": "KeyboardInterrupt",
     "evalue": "",
     "output_type": "error",
     "traceback": [
      "\u001b[0;31m---------------------------------------------------------------------------\u001b[0m",
      "\u001b[0;31mKeyboardInterrupt\u001b[0m                         Traceback (most recent call last)",
      "Cell \u001b[0;32mIn[5], line 1\u001b[0m\n\u001b[0;32m----> 1\u001b[0m \u001b[43m[\u001b[49m\u001b[43mschelling_SA\u001b[49m\u001b[43m(\u001b[49m\u001b[38;5;241;43m4\u001b[39;49m\u001b[43m,\u001b[49m\u001b[43m \u001b[49m\u001b[38;5;241;43m*\u001b[39;49m\u001b[43msample\u001b[49m\u001b[43m)\u001b[49m\u001b[43m \u001b[49m\u001b[38;5;28;43;01mfor\u001b[39;49;00m\u001b[43m \u001b[49m\u001b[43msample\u001b[49m\u001b[43m \u001b[49m\u001b[38;5;129;43;01min\u001b[39;49;00m\u001b[43m \u001b[49m\u001b[43msamples\u001b[49m\u001b[43m]\u001b[49m\n",
      "Cell \u001b[0;32mIn[5], line 1\u001b[0m, in \u001b[0;36m<listcomp>\u001b[0;34m(.0)\u001b[0m\n\u001b[0;32m----> 1\u001b[0m [\u001b[43mschelling_SA\u001b[49m\u001b[43m(\u001b[49m\u001b[38;5;241;43m4\u001b[39;49m\u001b[43m,\u001b[49m\u001b[43m \u001b[49m\u001b[38;5;241;43m*\u001b[39;49m\u001b[43msample\u001b[49m\u001b[43m)\u001b[49m \u001b[38;5;28;01mfor\u001b[39;00m sample \u001b[38;5;129;01min\u001b[39;00m samples]\n",
      "Cell \u001b[0;32mIn[3], line 29\u001b[0m, in \u001b[0;36mschelling_SA\u001b[0;34m(num_steps, minority_pc, property_value_weight, alpha, mu_theta, sigma_theta, density)\u001b[0m\n\u001b[1;32m     27\u001b[0m \u001b[38;5;66;03m# Run the model for a certain number of steps\u001b[39;00m\n\u001b[1;32m     28\u001b[0m \u001b[38;5;28;01mfor\u001b[39;00m _ \u001b[38;5;129;01min\u001b[39;00m \u001b[38;5;28mrange\u001b[39m(num_steps):\n\u001b[0;32m---> 29\u001b[0m     \u001b[43mmodels\u001b[49m\u001b[38;5;241;43m.\u001b[39;49m\u001b[43mstep\u001b[49m\u001b[43m(\u001b[49m\u001b[43m)\u001b[49m\n\u001b[1;32m     31\u001b[0m \u001b[38;5;66;03m# call nece\u001b[39;00m\n\u001b[1;32m     32\u001b[0m model_data \u001b[38;5;241m=\u001b[39m models\u001b[38;5;241m.\u001b[39mdatacollector_attempt\u001b[38;5;241m.\u001b[39mget_model_vars_dataframe()\n",
      "File \u001b[0;32m~/Desktop/Master - Computational Science/Agent-Based Modelling/ABM-Notebooks-0-1/ABM_Group_3/Mesa Schelling Housing/model.py:207\u001b[0m, in \u001b[0;36mSchelling.step\u001b[0;34m(self)\u001b[0m\n\u001b[1;32m    204\u001b[0m         utility \u001b[38;5;241m=\u001b[39m \u001b[38;5;28mself\u001b[39m\u001b[38;5;241m.\u001b[39mutility_func(\u001b[38;5;28mself\u001b[39m, agent, loc)\n\u001b[1;32m    206\u001b[0m         \u001b[38;5;28;01mif\u001b[39;00m utility \u001b[38;5;241m>\u001b[39m agent\u001b[38;5;241m.\u001b[39mutility:\n\u001b[0;32m--> 207\u001b[0m             \u001b[38;5;28;43mself\u001b[39;49m\u001b[38;5;241;43m.\u001b[39;49m\u001b[43minterested_agents_layer\u001b[49m\u001b[38;5;241;43m.\u001b[39;49m\u001b[43mmodify_cell\u001b[49m\u001b[43m(\u001b[49m\u001b[43mloc\u001b[49m\u001b[43m,\u001b[49m\u001b[43m \u001b[49m\u001b[38;5;28;43;01mlambda\u001b[39;49;00m\u001b[43m \u001b[49m\u001b[43mv\u001b[49m\u001b[43m:\u001b[49m\u001b[43m \u001b[49m\u001b[43mv\u001b[49m\u001b[43m \u001b[49m\u001b[38;5;241;43m+\u001b[39;49m\u001b[43m \u001b[49m\u001b[38;5;241;43m1\u001b[39;49m\u001b[43m)\u001b[49m\n\u001b[1;32m    209\u001b[0m \u001b[38;5;66;03m###### ADDED #############\u001b[39;00m\n\u001b[1;32m    210\u001b[0m     \u001b[38;5;66;03m# Compute number of agents with the same number of similar neighbours \u001b[39;00m\n\u001b[1;32m    211\u001b[0m     similar_neighbors \u001b[38;5;241m=\u001b[39m \u001b[38;5;28mself\u001b[39m\u001b[38;5;241m.\u001b[39mcompute_similar_neighbours(\u001b[38;5;28mself\u001b[39m, agent)\n",
      "File \u001b[0;32m~/.local/share/virtualenvs/ABM-Notebooks-0-1-OzA5lFMJ/lib/python3.11/site-packages/mesa/space.py:694\u001b[0m, in \u001b[0;36mPropertyLayer.modify_cell\u001b[0;34m(self, position, operation, value)\u001b[0m\n\u001b[1;32m    691\u001b[0m current_value \u001b[38;5;241m=\u001b[39m \u001b[38;5;28mself\u001b[39m\u001b[38;5;241m.\u001b[39mdata[position]\n\u001b[1;32m    693\u001b[0m \u001b[38;5;66;03m# Determine if the operation is a lambda function or a NumPy ufunc\u001b[39;00m\n\u001b[0;32m--> 694\u001b[0m \u001b[38;5;28;01mif\u001b[39;00m \u001b[43mis_single_argument_function\u001b[49m\u001b[43m(\u001b[49m\u001b[43moperation\u001b[49m\u001b[43m)\u001b[49m:\n\u001b[1;32m    695\u001b[0m     \u001b[38;5;66;03m# Lambda function case\u001b[39;00m\n\u001b[1;32m    696\u001b[0m     \u001b[38;5;28mself\u001b[39m\u001b[38;5;241m.\u001b[39mdata[position] \u001b[38;5;241m=\u001b[39m operation(current_value)\n\u001b[1;32m    697\u001b[0m \u001b[38;5;28;01melif\u001b[39;00m value \u001b[38;5;129;01mis\u001b[39;00m \u001b[38;5;129;01mnot\u001b[39;00m \u001b[38;5;28;01mNone\u001b[39;00m:\n\u001b[1;32m    698\u001b[0m     \u001b[38;5;66;03m# NumPy ufunc case\u001b[39;00m\n",
      "File \u001b[0;32m~/.local/share/virtualenvs/ABM-Notebooks-0-1-OzA5lFMJ/lib/python3.11/site-packages/mesa/space.py:559\u001b[0m, in \u001b[0;36mis_single_argument_function\u001b[0;34m(function)\u001b[0m\n\u001b[1;32m    555\u001b[0m \u001b[38;5;28;01mdef\u001b[39;00m \u001b[38;5;21mis_single_argument_function\u001b[39m(function):\n\u001b[1;32m    556\u001b[0m \u001b[38;5;250m    \u001b[39m\u001b[38;5;124;03m\"\"\"Check if a function is a single argument function.\"\"\"\u001b[39;00m\n\u001b[1;32m    557\u001b[0m     \u001b[38;5;28;01mreturn\u001b[39;00m (\n\u001b[1;32m    558\u001b[0m         inspect\u001b[38;5;241m.\u001b[39misfunction(function)\n\u001b[0;32m--> 559\u001b[0m         \u001b[38;5;129;01mand\u001b[39;00m \u001b[38;5;28mlen\u001b[39m(\u001b[43minspect\u001b[49m\u001b[38;5;241;43m.\u001b[39;49m\u001b[43msignature\u001b[49m\u001b[43m(\u001b[49m\u001b[43mfunction\u001b[49m\u001b[43m)\u001b[49m\u001b[38;5;241m.\u001b[39mparameters) \u001b[38;5;241m==\u001b[39m \u001b[38;5;241m1\u001b[39m\n\u001b[1;32m    560\u001b[0m     )\n",
      "File \u001b[0;32m/opt/anaconda3/lib/python3.11/inspect.py:3280\u001b[0m, in \u001b[0;36msignature\u001b[0;34m(obj, follow_wrapped, globals, locals, eval_str)\u001b[0m\n\u001b[1;32m   3278\u001b[0m \u001b[38;5;28;01mdef\u001b[39;00m \u001b[38;5;21msignature\u001b[39m(obj, \u001b[38;5;241m*\u001b[39m, follow_wrapped\u001b[38;5;241m=\u001b[39m\u001b[38;5;28;01mTrue\u001b[39;00m, \u001b[38;5;28mglobals\u001b[39m\u001b[38;5;241m=\u001b[39m\u001b[38;5;28;01mNone\u001b[39;00m, \u001b[38;5;28mlocals\u001b[39m\u001b[38;5;241m=\u001b[39m\u001b[38;5;28;01mNone\u001b[39;00m, eval_str\u001b[38;5;241m=\u001b[39m\u001b[38;5;28;01mFalse\u001b[39;00m):\n\u001b[1;32m   3279\u001b[0m \u001b[38;5;250m    \u001b[39m\u001b[38;5;124;03m\"\"\"Get a signature object for the passed callable.\"\"\"\u001b[39;00m\n\u001b[0;32m-> 3280\u001b[0m     \u001b[38;5;28;01mreturn\u001b[39;00m \u001b[43mSignature\u001b[49m\u001b[38;5;241;43m.\u001b[39;49m\u001b[43mfrom_callable\u001b[49m\u001b[43m(\u001b[49m\u001b[43mobj\u001b[49m\u001b[43m,\u001b[49m\u001b[43m \u001b[49m\u001b[43mfollow_wrapped\u001b[49m\u001b[38;5;241;43m=\u001b[39;49m\u001b[43mfollow_wrapped\u001b[49m\u001b[43m,\u001b[49m\n\u001b[1;32m   3281\u001b[0m \u001b[43m                                   \u001b[49m\u001b[38;5;28;43mglobals\u001b[39;49m\u001b[38;5;241;43m=\u001b[39;49m\u001b[38;5;28;43mglobals\u001b[39;49m\u001b[43m,\u001b[49m\u001b[43m \u001b[49m\u001b[38;5;28;43mlocals\u001b[39;49m\u001b[38;5;241;43m=\u001b[39;49m\u001b[38;5;28;43mlocals\u001b[39;49m\u001b[43m,\u001b[49m\u001b[43m \u001b[49m\u001b[43meval_str\u001b[49m\u001b[38;5;241;43m=\u001b[39;49m\u001b[43meval_str\u001b[49m\u001b[43m)\u001b[49m\n",
      "File \u001b[0;32m/opt/anaconda3/lib/python3.11/inspect.py:3028\u001b[0m, in \u001b[0;36mSignature.from_callable\u001b[0;34m(cls, obj, follow_wrapped, globals, locals, eval_str)\u001b[0m\n\u001b[1;32m   3024\u001b[0m \u001b[38;5;129m@classmethod\u001b[39m\n\u001b[1;32m   3025\u001b[0m \u001b[38;5;28;01mdef\u001b[39;00m \u001b[38;5;21mfrom_callable\u001b[39m(\u001b[38;5;28mcls\u001b[39m, obj, \u001b[38;5;241m*\u001b[39m,\n\u001b[1;32m   3026\u001b[0m                   follow_wrapped\u001b[38;5;241m=\u001b[39m\u001b[38;5;28;01mTrue\u001b[39;00m, \u001b[38;5;28mglobals\u001b[39m\u001b[38;5;241m=\u001b[39m\u001b[38;5;28;01mNone\u001b[39;00m, \u001b[38;5;28mlocals\u001b[39m\u001b[38;5;241m=\u001b[39m\u001b[38;5;28;01mNone\u001b[39;00m, eval_str\u001b[38;5;241m=\u001b[39m\u001b[38;5;28;01mFalse\u001b[39;00m):\n\u001b[1;32m   3027\u001b[0m \u001b[38;5;250m    \u001b[39m\u001b[38;5;124;03m\"\"\"Constructs Signature for the given callable object.\"\"\"\u001b[39;00m\n\u001b[0;32m-> 3028\u001b[0m     \u001b[38;5;28;01mreturn\u001b[39;00m \u001b[43m_signature_from_callable\u001b[49m\u001b[43m(\u001b[49m\u001b[43mobj\u001b[49m\u001b[43m,\u001b[49m\u001b[43m \u001b[49m\u001b[43msigcls\u001b[49m\u001b[38;5;241;43m=\u001b[39;49m\u001b[38;5;28;43mcls\u001b[39;49m\u001b[43m,\u001b[49m\n\u001b[1;32m   3029\u001b[0m \u001b[43m                                    \u001b[49m\u001b[43mfollow_wrapper_chains\u001b[49m\u001b[38;5;241;43m=\u001b[39;49m\u001b[43mfollow_wrapped\u001b[49m\u001b[43m,\u001b[49m\n\u001b[1;32m   3030\u001b[0m \u001b[43m                                    \u001b[49m\u001b[38;5;28;43mglobals\u001b[39;49m\u001b[38;5;241;43m=\u001b[39;49m\u001b[38;5;28;43mglobals\u001b[39;49m\u001b[43m,\u001b[49m\u001b[43m \u001b[49m\u001b[38;5;28;43mlocals\u001b[39;49m\u001b[38;5;241;43m=\u001b[39;49m\u001b[38;5;28;43mlocals\u001b[39;49m\u001b[43m,\u001b[49m\u001b[43m \u001b[49m\u001b[43meval_str\u001b[49m\u001b[38;5;241;43m=\u001b[39;49m\u001b[43meval_str\u001b[49m\u001b[43m)\u001b[49m\n",
      "File \u001b[0;32m/opt/anaconda3/lib/python3.11/inspect.py:2516\u001b[0m, in \u001b[0;36m_signature_from_callable\u001b[0;34m(obj, follow_wrapper_chains, skip_bound_arg, globals, locals, eval_str, sigcls)\u001b[0m\n\u001b[1;32m   2511\u001b[0m             \u001b[38;5;28;01mreturn\u001b[39;00m sig\u001b[38;5;241m.\u001b[39mreplace(parameters\u001b[38;5;241m=\u001b[39mnew_params)\n\u001b[1;32m   2513\u001b[0m \u001b[38;5;28;01mif\u001b[39;00m isfunction(obj) \u001b[38;5;129;01mor\u001b[39;00m _signature_is_functionlike(obj):\n\u001b[1;32m   2514\u001b[0m     \u001b[38;5;66;03m# If it's a pure Python function, or an object that is duck type\u001b[39;00m\n\u001b[1;32m   2515\u001b[0m     \u001b[38;5;66;03m# of a Python function (Cython functions, for instance), then:\u001b[39;00m\n\u001b[0;32m-> 2516\u001b[0m     \u001b[38;5;28;01mreturn\u001b[39;00m \u001b[43m_signature_from_function\u001b[49m\u001b[43m(\u001b[49m\u001b[43msigcls\u001b[49m\u001b[43m,\u001b[49m\u001b[43m \u001b[49m\u001b[43mobj\u001b[49m\u001b[43m,\u001b[49m\n\u001b[1;32m   2517\u001b[0m \u001b[43m                                    \u001b[49m\u001b[43mskip_bound_arg\u001b[49m\u001b[38;5;241;43m=\u001b[39;49m\u001b[43mskip_bound_arg\u001b[49m\u001b[43m,\u001b[49m\n\u001b[1;32m   2518\u001b[0m \u001b[43m                                    \u001b[49m\u001b[38;5;28;43mglobals\u001b[39;49m\u001b[38;5;241;43m=\u001b[39;49m\u001b[38;5;28;43mglobals\u001b[39;49m\u001b[43m,\u001b[49m\u001b[43m \u001b[49m\u001b[38;5;28;43mlocals\u001b[39;49m\u001b[38;5;241;43m=\u001b[39;49m\u001b[38;5;28;43mlocals\u001b[39;49m\u001b[43m,\u001b[49m\u001b[43m \u001b[49m\u001b[43meval_str\u001b[49m\u001b[38;5;241;43m=\u001b[39;49m\u001b[43meval_str\u001b[49m\u001b[43m)\u001b[49m\n\u001b[1;32m   2520\u001b[0m \u001b[38;5;28;01mif\u001b[39;00m _signature_is_builtin(obj):\n\u001b[1;32m   2521\u001b[0m     \u001b[38;5;28;01mreturn\u001b[39;00m _signature_from_builtin(sigcls, obj,\n\u001b[1;32m   2522\u001b[0m                                    skip_bound_arg\u001b[38;5;241m=\u001b[39mskip_bound_arg)\n",
      "File \u001b[0;32m/opt/anaconda3/lib/python3.11/inspect.py:2423\u001b[0m, in \u001b[0;36m_signature_from_function\u001b[0;34m(cls, func, skip_bound_arg, globals, locals, eval_str)\u001b[0m\n\u001b[1;32m   2418\u001b[0m     parameters\u001b[38;5;241m.\u001b[39mappend(Parameter(name, annotation\u001b[38;5;241m=\u001b[39mannotation,\n\u001b[1;32m   2419\u001b[0m                                 kind\u001b[38;5;241m=\u001b[39m_VAR_KEYWORD))\n\u001b[1;32m   2421\u001b[0m \u001b[38;5;66;03m# Is 'func' is a pure Python function - don't validate the\u001b[39;00m\n\u001b[1;32m   2422\u001b[0m \u001b[38;5;66;03m# parameters list (for correct order and defaults), it should be OK.\u001b[39;00m\n\u001b[0;32m-> 2423\u001b[0m \u001b[38;5;28;01mreturn\u001b[39;00m \u001b[38;5;28;43mcls\u001b[39;49m\u001b[43m(\u001b[49m\u001b[43mparameters\u001b[49m\u001b[43m,\u001b[49m\n\u001b[1;32m   2424\u001b[0m \u001b[43m           \u001b[49m\u001b[43mreturn_annotation\u001b[49m\u001b[38;5;241;43m=\u001b[39;49m\u001b[43mannotations\u001b[49m\u001b[38;5;241;43m.\u001b[39;49m\u001b[43mget\u001b[49m\u001b[43m(\u001b[49m\u001b[38;5;124;43m'\u001b[39;49m\u001b[38;5;124;43mreturn\u001b[39;49m\u001b[38;5;124;43m'\u001b[39;49m\u001b[43m,\u001b[49m\u001b[43m \u001b[49m\u001b[43m_empty\u001b[49m\u001b[43m)\u001b[49m\u001b[43m,\u001b[49m\n\u001b[1;32m   2425\u001b[0m \u001b[43m           \u001b[49m\u001b[43m__validate_parameters__\u001b[49m\u001b[38;5;241;43m=\u001b[39;49m\u001b[43mis_duck_function\u001b[49m\u001b[43m)\u001b[49m\n",
      "File \u001b[0;32m/opt/anaconda3/lib/python3.11/inspect.py:2972\u001b[0m, in \u001b[0;36mSignature.__init__\u001b[0;34m(self, parameters, return_annotation, __validate_parameters__)\u001b[0m\n\u001b[1;32m   2968\u001b[0m _bound_arguments_cls \u001b[38;5;241m=\u001b[39m BoundArguments\n\u001b[1;32m   2970\u001b[0m empty \u001b[38;5;241m=\u001b[39m _empty\n\u001b[0;32m-> 2972\u001b[0m \u001b[38;5;28;01mdef\u001b[39;00m \u001b[38;5;21m__init__\u001b[39m(\u001b[38;5;28mself\u001b[39m, parameters\u001b[38;5;241m=\u001b[39m\u001b[38;5;28;01mNone\u001b[39;00m, \u001b[38;5;241m*\u001b[39m, return_annotation\u001b[38;5;241m=\u001b[39m_empty,\n\u001b[1;32m   2973\u001b[0m              __validate_parameters__\u001b[38;5;241m=\u001b[39m\u001b[38;5;28;01mTrue\u001b[39;00m):\n\u001b[1;32m   2974\u001b[0m \u001b[38;5;250m    \u001b[39m\u001b[38;5;124;03m\"\"\"Constructs Signature from the given list of Parameter\u001b[39;00m\n\u001b[1;32m   2975\u001b[0m \u001b[38;5;124;03m    objects and 'return_annotation'.  All arguments are optional.\u001b[39;00m\n\u001b[1;32m   2976\u001b[0m \u001b[38;5;124;03m    \"\"\"\u001b[39;00m\n\u001b[1;32m   2978\u001b[0m     \u001b[38;5;28;01mif\u001b[39;00m parameters \u001b[38;5;129;01mis\u001b[39;00m \u001b[38;5;28;01mNone\u001b[39;00m:\n",
      "\u001b[0;31mKeyboardInterrupt\u001b[0m: "
     ]
    }
   ],
   "source": [
    "[schelling_SA(4, *sample) for sample in samples]"
   ]
  },
  {
   "cell_type": "code",
   "execution_count": null,
   "metadata": {},
   "outputs": [],
   "source": [
    "import modules as modules\n",
    "import model as model\n",
    "\n",
    "# # Create and run the model\n",
    "model = model.Schelling(\n",
    "     property_value_func=modules.property_value_quadrants,\n",
    "     income_func=modules.income_func,\n",
    "     desirability_func=modules.desirability_func,\n",
    "     utility_func=modules.utility_func,\n",
    "     price_func=modules.price_func,\n",
    "     compute_similar_neighbours=modules.compute_similar_neighbours,\n",
    "     height=20,\n",
    "     width=20,\n",
    "     radius=1,\n",
    "     density=0.8,\n",
    "     minority_pc=0.2,\n",
    "     alpha=0.5,\n",
    "     seed=42\n",
    " )\n",
    "\n"
   ]
  },
  {
   "cell_type": "code",
   "execution_count": null,
   "metadata": {},
   "outputs": [],
   "source": [
    "# # Run the model for a certain number of steps\n",
    "for i in range(5):\n",
    "     #print(i)\n",
    "     #print(model.entropy)\n",
    "     model.step()\n",
    "\n",
    "# Exemplory use of accessing datacollector\n",
    "model_data = model.datacollector.get_model_vars_dataframe()\n",
    "agent_data = model.datacollector.get_agent_vars_dataframe()\n",
    "print(model_data)\n",
    "print(agent_data)"
   ]
  },
  {
   "cell_type": "code",
   "execution_count": null,
   "metadata": {},
   "outputs": [],
   "source": [
    "# Step 1: Problem definition\n",
    "problem = {\n",
    "    'num_vars': 6,\n",
    "    'names': ['density', 'minority_pc', 'property_value_weight', 'alpha', 'mu_theta', 'sigma_theta'],\n",
    "    'bounds': [[0,1], [0,1], [0,1], [0,1], [0,1], [0,1]]\n",
    "}"
   ]
  },
  {
   "cell_type": "code",
   "execution_count": null,
   "metadata": {},
   "outputs": [],
   "source": [
    "# Step 2: Generate the samples (power of 2 for best performance)\n",
    "samples = saltelli.sample(problem, 1) #2**5) #2024"
   ]
  },
  {
   "cell_type": "code",
   "execution_count": null,
   "metadata": {},
   "outputs": [],
   "source": [
    "for sample in samples:\n",
    "    print(sample)\n",
    "    print('hi')"
   ]
  },
  {
   "cell_type": "code",
   "execution_count": null,
   "metadata": {},
   "outputs": [],
   "source": [
    "# Step 3: evaluate the model\n"
   ]
  },
  {
   "cell_type": "markdown",
   "metadata": {},
   "source": [
    "# BIN "
   ]
  },
  {
   "cell_type": "code",
   "execution_count": null,
   "metadata": {},
   "outputs": [],
   "source": [
    "def parabola(x, a, b):\n",
    "    \"\"\"Return y = a + b*x**2.\"\"\"\n",
    "    return a + b*x**2\n",
    "\n",
    "problem = {\n",
    "    'num_vars': 2,\n",
    "    'names': ['a', 'b'],\n",
    "    'bounds': [[0, 1]]*2\n",
    "}\n",
    "\n",
    "# sample\n",
    "param_values = saltelli.sample(problem, 2**6)\n",
    "\n",
    "# evaluate\n",
    "x = np.linspace(-1, 1, 100)\n",
    "y = np.array([parabola(x, *params) for params in param_values])\n",
    "\n",
    "# analyse\n",
    "sobol_indices = [sobol.analyze(problem, Y) for Y in y.T]"
   ]
  },
  {
   "cell_type": "code",
   "execution_count": null,
   "metadata": {},
   "outputs": [],
   "source": [
    "print([parabola(x, *params) for params in param_values])"
   ]
  },
  {
   "cell_type": "code",
   "execution_count": null,
   "metadata": {},
   "outputs": [],
   "source": [
    "y.T"
   ]
  },
  {
   "cell_type": "code",
   "execution_count": null,
   "metadata": {},
   "outputs": [],
   "source": [
    "sobol_indices"
   ]
  },
  {
   "cell_type": "code",
   "execution_count": null,
   "metadata": {},
   "outputs": [],
   "source": [
    "for params in param_values:\n",
    "    print(*params)"
   ]
  },
  {
   "cell_type": "code",
   "execution_count": null,
   "metadata": {},
   "outputs": [],
   "source": [
    "\"\"\"# Step 3: Run the model for generated samples\n",
    "import model\n",
    "import modules\n",
    "\n",
    "# First define the model such that it runs for a specified number of time steps in a function \n",
    "def run_schelling_model(property_value_func,\n",
    "                        income_func,\n",
    "                        desirability_func,\n",
    "                        utility_func,\n",
    "                        price_func,\n",
    "                        compute_similar_neighbours,\n",
    "                        height,\n",
    "                        width,\n",
    "                        radius,\n",
    "                        params,\n",
    "                        #density,\n",
    "                        #minority_pc,\n",
    "                        #alpha,\n",
    "                        #property_value_weight,\n",
    "                        #mu_theta,\n",
    "                        #sigma_theta,\n",
    "                        seed,\n",
    "                        num_steps):\n",
    "    # Initialize the model\n",
    "    model_instance = model.Schelling(\n",
    "        property_value_func=property_value_func,\n",
    "        income_func=income_func,\n",
    "        desirability_func=desirability_func,\n",
    "        utility_func=utility_func,\n",
    "        price_func=price_func,\n",
    "        compute_similar_neighbours=compute_similar_neighbours,\n",
    "        height=height,\n",
    "        width=width,\n",
    "        radius=radius,\n",
    "        density=params[0], #density,\n",
    "        minority_pc=params[1], #minority_pc,\n",
    "        alpha=params[2], #alpha,\n",
    "        income_scale=1.5, # the scale by which the income is higher than the property value\n",
    "        property_value_weight=params[3], #property_value_weight,\n",
    "        mu_theta=params[4], #mu_theta,\n",
    "        sigma_theta=params[5],\n",
    "        seed=seed\n",
    "    )\n",
    "\n",
    "    # Run the model for the specified number of steps and collect entropy values\n",
    "    agent_entropies = []\n",
    "    desirability_entropies = []\n",
    "    for _ in range(num_steps):\n",
    "        model_instance.step()\n",
    "        agent_entropies.append(model_instance.agent_entropy)\n",
    "        desirability_entropies.append(model_instance.desirability_entropy)\n",
    "\n",
    "    # Compute mean and standard deviation of entropy\n",
    "    agent_entropy_mean = np.mean(agent_entropies)\n",
    "    agent_entropy_std = np.std(agent_entropies)\n",
    "\n",
    "    desirability_entropy_mean = np.mean(desirability_entropies)\n",
    "    desirability_entropy_std = np.std(desirability_entropies)\n",
    "\n",
    "    # get data from data collectors\n",
    "    # model_data = model_instance.datacollector.get_model_vars_dataframe()\n",
    "    agent_data = model_instance.datacollector.get_agent_vars_dataframe()\n",
    "    print(agent_data)\n",
    "    # compute mean utility and std over time\n",
    "    utility_mean = agent_data.groupby(level='Step')['Utility'].mean()\n",
    "    utility_std = agent_data.groupby(level='Step')['Utility'].std()\n",
    "    \n",
    "    # compute average utility for this run\n",
    "    \n",
    "    \n",
    "    # Combine the results into a single DataFrame for better readability\n",
    "    #utility_stats = pd.DataFrame({\n",
    "     #   'Mean Utility': utility_mean,\n",
    "     #   'Standard Deviation Utility': utility_std\n",
    "    #})\n",
    "\n",
    "    # Return the model instance and entropy values\n",
    "    return utility_mean, utility_std#agent_entropy_mean, agent_entropy_std, desirability_entropy_mean, desirability_entropy_std\n",
    "\n",
    "# Exemplory use\n",
    "# Example of calling the function with specific parameters\n",
    "model_result = run_schelling_model(\n",
    "    property_value_func=modules.property_value_quadrants,\n",
    "    income_func=modules.income_func,\n",
    "    desirability_func=modules.desirability_func,\n",
    "    utility_func=modules.utility_func,\n",
    "    price_func=modules.price_func,\n",
    "    compute_similar_neighbours=modules.compute_similar_neighbours,\n",
    "    height=20,\n",
    "    width=20,\n",
    "    radius=1,\n",
    "    density=0.8,\n",
    "    minority_pc=0.2,\n",
    "    alpha=0.5,\n",
    "    seed=42,\n",
    "    num_steps=5\n",
    ")\"\"\""
   ]
  },
  {
   "cell_type": "code",
   "execution_count": null,
   "metadata": {},
   "outputs": [],
   "source": [
    "\"\"\"# Next compute the model for the different parameter settings \n",
    "Y = run_schelling_model(property_value_func=modules.property_value_quadrants,\n",
    "    income_func=modules.income_func,\n",
    "    desirability_func=modules.desirability_func,\n",
    "    utility_func=modules.utility_func,\n",
    "    price_func=modules.price_func,\n",
    "    compute_similar_neighbours=modules.compute_similar_neighbours,\n",
    "    height=20,\n",
    "    width=20,\n",
    "    radius=1,\n",
    "    params=samples[0],\n",
    "    seed=42,\n",
    "    num_steps=4)\"\"\""
   ]
  },
  {
   "cell_type": "code",
   "execution_count": null,
   "metadata": {},
   "outputs": [],
   "source": [
    "import numpy as np\n",
    "from SALib.sample import saltelli\n",
    "from SALib.analyze import sobol\n",
    "\n",
    "# Step 1: Define the problem\n",
    "problem = {\n",
    "    'num_vars': 3,\n",
    "    'names': ['x1', 'x2', 'x3'],\n",
    "    'bounds': [[0, 1], [0, 1], [0, 1]]\n",
    "}\n",
    "\n",
    "# Step 2: Generate samples\n",
    "param_values = saltelli.sample(problem, 1000)\n",
    "\n",
    "# Step 3: Evaluate the model\n",
    "# Define your model (this is an example model)\n",
    "def model(X):\n",
    "    x1 = X[:, 0]\n",
    "    x2 = X[:, 1]\n",
    "    x3 = X[:, 2]\n",
    "    return x1 + x2 + x3\n",
    "\n",
    "# Run the model for generated samples\n",
    "Y = model(param_values)\n",
    "\n",
    "# Step 4: Perform Sobol sensitivity analysis\n",
    "sobol_indices = sobol.analyze(problem, Y, print_to_console=True)\n",
    "\n",
    "# Step 5: Extract results\n",
    "Si = sobol_indices\n",
    "\n",
    "# Print the first-order, second-order, and total-order sensitivity indices\n",
    "print(\"First-order indices:\", Si['S1'])\n",
    "print(\"Second-order indices:\", Si['S2'])\n",
    "print(\"Total-order indices:\", Si['ST'])"
   ]
  }
 ],
 "metadata": {
  "kernelspec": {
   "display_name": "ABM-Notebooks-0-1-OzA5lFMJ",
   "language": "python",
   "name": "python3"
  },
  "language_info": {
   "codemirror_mode": {
    "name": "ipython",
    "version": 3
   },
   "file_extension": ".py",
   "mimetype": "text/x-python",
   "name": "python",
   "nbconvert_exporter": "python",
   "pygments_lexer": "ipython3",
   "version": "3.11.8"
  }
 },
 "nbformat": 4,
 "nbformat_minor": 2
}
