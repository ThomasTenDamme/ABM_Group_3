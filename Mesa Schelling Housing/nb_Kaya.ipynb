{
 "cells": [
  {
   "cell_type": "code",
   "execution_count": null,
   "metadata": {},
   "outputs": [],
   "source": [
    "import numpy as np\n",
    "import matplotlib.pyplot as plt"
   ]
  },
  {
   "cell_type": "markdown",
   "metadata": {},
   "source": [
    "# Added modules"
   ]
  },
  {
   "cell_type": "code",
   "execution_count": null,
   "metadata": {},
   "outputs": [],
   "source": [
    "def get_theta(x, mu, sigma):\n",
    "    \"\"\"\n",
    "    x: fraction of similar neighbours\n",
    "    mu: optimal fraction of similar neighbours\n",
    "    sigma: acceptance range\n",
    "    \"\"\"\n",
    "    theta = np.exp(-((x - mu) ** 2) / (2 * sigma ** 2))\n",
    "    return theta"
   ]
  },
  {
   "cell_type": "code",
   "execution_count": null,
   "metadata": {},
   "outputs": [],
   "source": [
    "def gaussian_function(x, mu, sigma):\n",
    "    return np.exp(-((x - mu) ** 2) / (2 * sigma ** 2))\n",
    "\n",
    "# Example usage:\n",
    "x_values = np.linspace(0, 1, 100)\n",
    "mu = 0.5  # Peak in the middle\n",
    "sigma = 0.6  # Controls the width\n",
    "\n",
    "y_values = gaussian_function(x_values, mu, sigma)\n",
    "\n",
    "# You can plot the function to visualize it\n",
    "import matplotlib.pyplot as plt\n",
    "\n",
    "plt.plot(x_values, y_values)\n",
    "plt.xlabel('x')\n",
    "plt.ylabel('f(x)')\n",
    "plt.title(f'Gaussian Function with Peak at {mu}')\n",
    "plt.show()"
   ]
  },
  {
   "cell_type": "markdown",
   "metadata": {},
   "source": [
    "# Sobol Sensitivity Analysis"
   ]
  },
  {
   "cell_type": "code",
   "execution_count": null,
   "metadata": {},
   "outputs": [],
   "source": [
    "from SALib.sample import saltelli\n",
    "from SALib.analyze import sobol"
   ]
  },
  {
   "cell_type": "code",
   "execution_count": null,
   "metadata": {},
   "outputs": [],
   "source": [
    "import modules as modules\n",
    "import model as model\n",
    "\n",
    "# # Create and run the model\n",
    "model = model.Schelling(\n",
    "     property_value_func=modules.property_value_quadrants,\n",
    "     income_func=modules.income_func,\n",
    "     desirability_func=modules.desirability_func,\n",
    "     utility_func=modules.utility_func,\n",
    "     price_func=modules.price_func,\n",
    "     compute_similar_neighbours=modules.compute_similar_neighbours,\n",
    "     height=20,\n",
    "     width=20,\n",
    "     radius=1,\n",
    "     density=0.8,\n",
    "     minority_pc=0.2,\n",
    "     alpha=0.5,\n",
    "     seed=42\n",
    " )"
   ]
  },
  {
   "cell_type": "code",
   "execution_count": null,
   "metadata": {},
   "outputs": [],
   "source": [
    "# # Run the model for a certain number of steps\n",
    "for i in range(5):\n",
    "     #print(i)\n",
    "     #print(model.entropy)\n",
    "     model.step()\n",
    "\n",
    "# Exemplory use of accessing datacollector\n",
    "model_data = model.datacollector.get_model_vars_dataframe()\n",
    "agent_data = model.datacollector.get_agent_vars_dataframe()\n",
    "print(model_data)\n",
    "print(agent_data)"
   ]
  },
  {
   "cell_type": "code",
   "execution_count": null,
   "metadata": {},
   "outputs": [],
   "source": [
    "# Step 1: Problem definition\n",
    "problem = {\n",
    "    'num_vars': 6,\n",
    "    'names': ['density', 'minority_pc', 'property_value_weight', 'alpha', 'mu_theta', 'sigma_theta'],\n",
    "    'bounds': [[0,1], [0,1], [0,1], [0,1], [0,1], [0,1]]\n",
    "}"
   ]
  },
  {
   "cell_type": "code",
   "execution_count": null,
   "metadata": {},
   "outputs": [],
   "source": [
    "# Step 2: Generate the samples (power of 2 for best performance)\n",
    "samples = saltelli.sample(problem, 1) #2**5) #2024"
   ]
  },
  {
   "cell_type": "code",
   "execution_count": null,
   "metadata": {},
   "outputs": [],
   "source": [
    "# Step 3: Run the model for generated samples\n",
    "import model\n",
    "import modules\n",
    "\n",
    "# First define the model such that it runs for a specified number of time steps in a function \n",
    "def run_schelling_model(property_value_func,\n",
    "                        income_func,\n",
    "                        desirability_func,\n",
    "                        utility_func,\n",
    "                        price_func,\n",
    "                        compute_similar_neighbours,\n",
    "                        height,\n",
    "                        width,\n",
    "                        radius,\n",
    "                        params,\n",
    "                        #density,\n",
    "                        #minority_pc,\n",
    "                        #alpha,\n",
    "                        #property_value_weight,\n",
    "                        #mu_theta,\n",
    "                        #sigma_theta,\n",
    "                        seed,\n",
    "                        num_steps):\n",
    "    # Initialize the model\n",
    "    model_instance = model.Schelling(\n",
    "        property_value_func=property_value_func,\n",
    "        income_func=income_func,\n",
    "        desirability_func=desirability_func,\n",
    "        utility_func=utility_func,\n",
    "        price_func=price_func,\n",
    "        compute_similar_neighbours=compute_similar_neighbours,\n",
    "        height=height,\n",
    "        width=width,\n",
    "        radius=radius,\n",
    "        density=params[0], #density,\n",
    "        minority_pc=params[1], #minority_pc,\n",
    "        alpha=params[2], #alpha,\n",
    "        income_scale=1.5, # the scale by which the income is higher than the property value\n",
    "        property_value_weight=params[3], #property_value_weight,\n",
    "        mu_theta=params[4], #mu_theta,\n",
    "        sigma_theta=params[5],\n",
    "        seed=seed\n",
    "    )\n",
    "\n",
    "    # Run the model for the specified number of steps and collect entropy values\n",
    "    entropies = []\n",
    "    for _ in range(num_steps):\n",
    "        model_instance.step()\n",
    "        entropies.append(model_instance.entropy)\n",
    "\n",
    "    # Compute mean and standard deviation of entropy\n",
    "    entropy_mean = np.mean(entropies)\n",
    "    entropy_std = np.std(entropies)\n",
    "\n",
    "    # \n",
    "    model_data = model_instance.datacollector.get_model_vars_dataframe()\n",
    "    agent_data = model_instance.datacollector.get_agent_vars_dataframe()\n",
    "\n",
    "    # Return the model instance and entropy values\n",
    "    return model_instance, np.array(entropies), entropy_mean, entropy_std, model_data, agent_data\n",
    "\n",
    "# Exemplory use\n",
    "\"\"\"# Example of calling the function with specific parameters\n",
    "model_result = run_schelling_model(\n",
    "    property_value_func=modules.property_value_quadrants,\n",
    "    income_func=modules.income_func,\n",
    "    desirability_func=modules.desirability_func,\n",
    "    utility_func=modules.utility_func,\n",
    "    price_func=modules.price_func,\n",
    "    compute_similar_neighbours=modules.compute_similar_neighbours,\n",
    "    height=20,\n",
    "    width=20,\n",
    "    radius=1,\n",
    "    density=0.8,\n",
    "    minority_pc=0.2,\n",
    "    alpha=0.5,\n",
    "    seed=42,\n",
    "    num_steps=5\n",
    ")\"\"\""
   ]
  },
  {
   "cell_type": "code",
   "execution_count": null,
   "metadata": {},
   "outputs": [],
   "source": [
    "samples[0]"
   ]
  },
  {
   "cell_type": "code",
   "execution_count": null,
   "metadata": {},
   "outputs": [],
   "source": [
    "# Next compute the model for the different parameter settings \n",
    "Y = run_schelling_model(property_value_func=modules.property_value_quadrants,\n",
    "    income_func=modules.income_func,\n",
    "    desirability_func=modules.desirability_func,\n",
    "    utility_func=modules.utility_func,\n",
    "    price_func=modules.price_func,\n",
    "    compute_similar_neighbours=modules.compute_similar_neighbours,\n",
    "    height=20,\n",
    "    width=20,\n",
    "    radius=1,\n",
    "    params=samples[0],\n",
    "    seed=42,\n",
    "    num_steps=2)"
   ]
  },
  {
   "cell_type": "code",
   "execution_count": null,
   "metadata": {},
   "outputs": [],
   "source": [
    "Y[3]"
   ]
  },
  {
   "cell_type": "code",
   "execution_count": null,
   "metadata": {},
   "outputs": [],
   "source": [
    "import numpy as np\n",
    "from SALib.sample import saltelli\n",
    "from SALib.analyze import sobol\n",
    "\n",
    "# Step 1: Define the problem\n",
    "problem = {\n",
    "    'num_vars': 3,\n",
    "    'names': ['x1', 'x2', 'x3'],\n",
    "    'bounds': [[0, 1], [0, 1], [0, 1]]\n",
    "}\n",
    "\n",
    "# Step 2: Generate samples\n",
    "param_values = saltelli.sample(problem, 1000)\n",
    "\n",
    "# Step 3: Evaluate the model\n",
    "# Define your model (this is an example model)\n",
    "def model(X):\n",
    "    x1 = X[:, 0]\n",
    "    x2 = X[:, 1]\n",
    "    x3 = X[:, 2]\n",
    "    return x1 + x2 + x3\n",
    "\n",
    "# Run the model for generated samples\n",
    "Y = model(param_values)"
   ]
  },
  {
   "cell_type": "code",
   "execution_count": null,
   "metadata": {},
   "outputs": [],
   "source": [
    "print(Y)"
   ]
  },
  {
   "cell_type": "code",
   "execution_count": null,
   "metadata": {},
   "outputs": [],
   "source": [
    "problem"
   ]
  },
  {
   "cell_type": "code",
   "execution_count": null,
   "metadata": {},
   "outputs": [],
   "source": [
    "# Step 4: Perform Sobol sensitivity analysis\n",
    "sobol_indices = sobol.analyze(problem, Y, print_to_console=True)\n",
    "\n",
    "# Step 5: Extract results\n",
    "Si = sobol_indices\n",
    "\n",
    "# Print the first-order, second-order, and total-order sensitivity indices\n",
    "print(\"First-order indices:\", Si['S1'])\n",
    "print(\"Second-order indices:\", Si['S2'])\n",
    "print(\"Total-order indices:\", Si['ST'])"
   ]
  }
 ],
 "metadata": {
  "kernelspec": {
   "display_name": "ABM-Notebooks-0-1-OzA5lFMJ",
   "language": "python",
   "name": "python3"
  },
  "language_info": {
   "codemirror_mode": {
    "name": "ipython",
    "version": 3
   },
   "file_extension": ".py",
   "mimetype": "text/x-python",
   "name": "python",
   "nbconvert_exporter": "python",
   "pygments_lexer": "ipython3",
   "version": "3.11.8"
  }
 },
 "nbformat": 4,
 "nbformat_minor": 2
}
